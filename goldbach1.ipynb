{
  "nbformat": 4,
  "nbformat_minor": 0,
  "metadata": {
    "colab": {
      "name": "goldbach1.ipynb",
      "provenance": [],
      "include_colab_link": true
    },
    "kernelspec": {
      "name": "python3",
      "display_name": "Python 3"
    }
  },
  "cells": [
    {
      "cell_type": "markdown",
      "metadata": {
        "id": "view-in-github",
        "colab_type": "text"
      },
      "source": [
        "<a href=\"https://colab.research.google.com/github/licciard/fun-stuff/blob/main/goldbach1.ipynb\" target=\"_parent\"><img src=\"https://colab.research.google.com/assets/colab-badge.svg\" alt=\"Open In Colab\"/></a>"
      ]
    },
    {
      "cell_type": "code",
      "metadata": {
        "id": "CwHjdy9X3_xO",
        "outputId": "40b7104f-d726-4549-f475-9fad31ed3dd1",
        "colab": {
          "base_uri": "https://localhost:8080/",
          "height": 51
        }
      },
      "source": [
        "import sympy\n",
        "import matplotlib.pyplot as plt\n",
        "import numpy as np\n",
        "import scipy.special as scp\n",
        "import scipy.optimize as opt\n",
        "\n",
        "ps = np.array([i for i in sympy.sieve.primerange(3, 10**6)])\n",
        "print(ps)\n",
        "\n",
        "import mpmath\n",
        "print(mpmath.li(100))\n",
        "\n",
        "%matplotlib inline"
      ],
      "execution_count": null,
      "outputs": [
        {
          "output_type": "stream",
          "text": [
            "[     3      5      7 ... 999961 999979 999983]\n",
            "30.1261415840796\n"
          ],
          "name": "stdout"
        }
      ]
    },
    {
      "cell_type": "markdown",
      "metadata": {
        "id": "CRc8jtMJZBSN"
      },
      "source": [
        "### Using stronger inequalities in Wikipedia's Erdos' proof of Bertrand's postulate"
      ]
    },
    {
      "cell_type": "code",
      "metadata": {
        "id": "myFhksRp4ea4",
        "outputId": "881e2688-1beb-4a8d-eb29-820b01482bc4",
        "colab": {
          "base_uri": "https://localhost:8080/",
          "height": 282
        }
      },
      "source": [
        "def upper_bound(n):\n",
        "  tn = 2*n\n",
        "  sq = np.sqrt(tn)\n",
        "  lg = np.log(sq)\n",
        "\n",
        "  # weak condition from Wikipedia\n",
        "  return sq*np.log(tn)+(tn/3.)*np.log(4)\n",
        "\n",
        "  # pi(x) < condition for any x > 1\n",
        "  # return (sq/lg)*(1+1/lg+2/lg**2+7.59/lg**3)*np.log(tn)+(2*n/3.)*(1+0.5/np.log(2*n/3.))\n",
        "\n",
        "  # pi(x) < condition for x > 17\n",
        "  # return (sq/lg)*1.26*np.log(tn)+(2*n/3.)*(1+0.5/np.log(2*n/3.))\n",
        "\n",
        "#for n in np.arange(3,1000):\n",
        "  #print(\"{}: log(2n n) < {}\".format(n,upper_bound(n)))\n",
        "\n",
        "def lower_bound(n):\n",
        "\n",
        "  # weak condition from Wikipedia\n",
        "  return n*np.log(4) - np.log(2*n)\n",
        "\n",
        "  # strong inequality Stirling approx.\n",
        "  # return n*np.log(4) - 0.5*np.log(np.pi*n)- (18*n+1)/(6*n*(24*n+1))\n",
        "\n",
        "xi, xf = 1,1000  \n",
        "plt.plot(np.arange(xi,xf), [upper_bound(n) for n in np.arange(xi,xf)], 'g-')\n",
        "plt.plot(np.arange(xi,xf), [lower_bound(n) for n in np.arange(xi,xf)], 'r-')\n",
        "plt.plot(np.arange(xi,xf), [np.log(scp.binom(2*n,n)) for n in np.arange(xi,xf)], 'k-')\n",
        "plt.show()\n",
        "\n",
        "def diff_bound(n):\n",
        "    return upper_bound(n) - lower_bound(n)\n",
        "\n",
        "print(\"{}\".format(opt.brentq(diff_bound, xi, xf)))"
      ],
      "execution_count": null,
      "outputs": [
        {
          "output_type": "display_data",
          "data": {
            "image/png": "[encoded data removed]",
            "text/plain": [
              "<Figure size 432x288 with 1 Axes>"
            ]
          },
          "metadata": {
            "tags": []
          }
        },
        {
          "output_type": "stream",
          "text": [
            "467.37315615971846\n"
          ],
          "name": "stdout"
        }
      ]
    },
    {
      "cell_type": "markdown",
      "metadata": {
        "id": "PNbcsOensk1w"
      },
      "source": [
        "### Assuming all primes < n are the largest numbers and are multiplied in log(2n n):"
      ]
    },
    {
      "cell_type": "code",
      "metadata": {
        "id": "OeN0OeEMs2X4",
        "outputId": "59063ae4-27be-4ead-e4e6-abeaf35ee12a",
        "colab": {
          "base_uri": "https://localhost:8080/",
          "height": 265
        }
      },
      "source": [
        "def upper_bound(n):\n",
        "  tn = 2*n\n",
        "  sq = np.sqrt(tn)\n",
        "  lg = np.log(sq)\n",
        "\n",
        "  # weak condition from Wikipedia\n",
        "  # return sq*np.log(tn)+(tn/3.)*np.log(4)\n",
        "\n",
        "  # pi(x) < condition for any x > 1\n",
        "  # return (sq/lg)*(1+1/lg+2/lg**2+7.59/lg**3)*np.log(tn)+(2*n/3.)*(1+0.5/np.log(2*n/3.))\n",
        "\n",
        "  # pi(x) < condition for x > 17\n",
        "  return (sq/lg)*1.26*np.log(tn)+(2*n/3.)*(1+0.5/np.log(2*n/3.))\n",
        "\n",
        "def lower_bound(n):\n",
        "  tn = 2*n\n",
        "  lg1 = np.log(n)\n",
        "  lg2 = np.log(tn)\n",
        "\n",
        "  return np.log(np.sqrt(2*np.pi)/np.e) + (tn+0.5)*lg2 - (n/lg1 +0.5)*np.log(n/lg1)+n/lg1\n",
        "\n",
        "xi, xf = 10,100 #0  \n",
        "plt.plot(np.arange(xi,xf), [upper_bound(n) for n in np.arange(xi,xf)], 'g-')\n",
        "plt.plot(np.arange(xi,xf), [lower_bound(n) for n in np.arange(xi,xf)], 'r-')\n",
        "plt.plot(np.arange(xi,xf), [np.log(scp.binom(2*n,n)) for n in np.arange(xi,xf)], 'k-')\n",
        "plt.show()\n",
        "\n",
        "def diff_bound(n):\n",
        "    return upper_bound(n) - lower_bound(n)\n",
        "\n",
        "#print(\"{}\".format(opt.brentq(diff_bound, xi, xf)))"
      ],
      "execution_count": null,
      "outputs": [
        {
          "output_type": "display_data",
          "data": {
            "image/png": "[encoded data removed]",
            "text/plain": [
              "<Figure size 432x288 with 1 Axes>"
            ]
          },
          "metadata": {
            "tags": []
          }
        }
      ]
    },
    {
      "cell_type": "markdown",
      "metadata": {
        "id": "8Eq7nxVxZTFC"
      },
      "source": [
        "Just checking sympy library to find nearby primes..."
      ]
    },
    {
      "cell_type": "code",
      "metadata": {
        "id": "m9YItJyp4Si5",
        "outputId": "9f2ca8fb-9aa5-4b41-8429-1f623ce93380",
        "colab": {
          "base_uri": "https://localhost:8080/",
          "height": 136
        }
      },
      "source": [
        "maxd = 0\n",
        "for n in range(6,10000005,2):\n",
        "  h = n//2\n",
        "  if not sympy.isprime(h):\n",
        "    l, u = sympy.prevprime(h), sympy.nextprime(h)\n",
        "    d = min(h-l,u-h)\n",
        "  else:\n",
        "    l, u, d = h, h, 0\n",
        "  if maxd < d:\n",
        "    maxd = d\n",
        "  #print(\"{}/2 = {}: prev = {}, next = {}, distance = {}\".format(n, h, l, u, d))\n",
        "  if n == (10 ** (len(str(n))-1)):\n",
        "    print(\"n: {} --> max distance: {}\".format(n,maxd))"
      ],
      "execution_count": null,
      "outputs": [
        {
          "output_type": "stream",
          "text": [
            "n: 10 --> max distance: 1\n",
            "n: 100 --> max distance: 3\n",
            "n: 1000 --> max distance: 7\n",
            "n: 10000 --> max distance: 17\n",
            "n: 100000 --> max distance: 36\n",
            "n: 1000000 --> max distance: 57\n",
            "n: 10000000 --> max distance: 77\n"
          ],
          "name": "stdout"
        }
      ]
    },
    {
      "cell_type": "markdown",
      "metadata": {
        "id": "JPihHbsNHwvQ"
      },
      "source": [
        "### Just some checks to inspire for (2n-p1)...(2n-pk)"
      ]
    },
    {
      "cell_type": "code",
      "metadata": {
        "id": "7mH8Jo1M_4dj",
        "outputId": "0c114f27-107a-4608-d606-3957d1c4d0f9",
        "colab": {
          "base_uri": "https://localhost:8080/",
          "height": 282
        }
      },
      "source": [
        "def constraint(n):\n",
        "  global ps\n",
        "  lps = ps[:np.argmax(ps>n)] #np.array([i for i in sympy.sieve.primerange(3, n)])\n",
        "  ts = 2*n - lps\n",
        "  #prod = np.prod(ts)\n",
        "  psum = np.sum(np.log(ts))\n",
        "  #print(\"{}, {} --> {}, {}\".format(ps,ts,prod,psum))\n",
        "  return psum\n",
        "#constraint(10)\n",
        "\n",
        "def logmult_small(n1,n2,n):\n",
        "  global ps\n",
        "  lps = ps[np.argmax(ps>n1):np.argmax(ps>n2)]\n",
        "  if n1 <= 1:\n",
        "    lps = np.union1d(lps,[2])\n",
        "  tot = 0\n",
        "  for p in lps:\n",
        "    J = int(np.floor(np.log(2*n)/np.log(p)))\n",
        "    R = 0\n",
        "    for j in range(1,J):\n",
        "      R += np.floor(2*n/p**j)-2*np.floor(n/p**j)\n",
        "    tot += R*np.log(p)\n",
        "  return tot\n",
        "\n",
        "def upper_bound(n):\n",
        "  tn = 2*n\n",
        "  sq = np.sqrt(tn)\n",
        "  lg = np.log(sq)\n",
        "\n",
        "  # weak condition from Wikipedia\n",
        "  # return sq*np.log(tn)+(tn/3.)*np.log(4)+scp.gammaln(n)\n",
        "\n",
        "  # pi(x) < condition for x > 17\n",
        "  # return (sq/lg)*1.26*np.log(tn)+(2*n/3.)*(1+0.5/np.log(2*n/3.))+scp.gammaln(n)\n",
        "\n",
        "  # pi(x) > li(x) and exact for primorial #\n",
        "  global ps\n",
        "  lps = ps[np.argmax(ps>sq):np.argmax(ps>2*n/3)]\n",
        "  #return sympy.primepi(sq)*np.log(tn)+np.sum(np.log(lps))+scp.gammaln(n)\n",
        "  #return sympy.primepi(sq)*np.log(tn)+logmult_small(sq,2*n/3,n)+scp.gammaln(n)\n",
        "  #return sympy.primepi(sq)*np.log(tn)+np.sum(np.log(lps))+scp.gammaln(n)\n",
        "  #return (sq/lg)*1.26*np.log(tn)+((2*n/3)*(1+0.5/np.log(2*n/3))+(2*n/5)*(1+0.5/np.log(2*n/5))-(2*n/4.)*(1-0.5/np.log(2*n/4.))-(sq)*(1-0.5/np.log(sq)))+scp.gammaln(n)\n",
        "  # return (sq/lg)*1.26*np.log(tn)+0.5*n-(sq)*(1-0.5/np.log(sq))+scp.gammaln(n)\n",
        "  # return (sq/lg)*1.26*np.log(tn)+logmult_small(sq,2*n/3,n)+scp.gammaln(n)\n",
        "  return (sq/lg)*1.26*np.log(tn)+logmult_small(1,2*n/3,n)+(n+0.5)*np.log(n) - (n-1) #stirling approx.\n",
        "\n",
        "def myavg(n):\n",
        "  global ps\n",
        "  lps = ps[:np.argmax(ps>n)]#np.array([i for i in sympy.sieve.primerange(3, n)])\n",
        "  lp = len(lps)\n",
        "  pavg = np.sum(lps)/lp\n",
        "  return lp*np.log(2*n - pavg)\n",
        "\n",
        "def approx_avg(n):\n",
        "  return (n/np.log(n))*np.log(1.5*n)\n",
        "\n",
        "def logmult_other(n):\n",
        "  global ps\n",
        "  lps = ps[:np.argmax(ps>n)]#np.array([i for i in sympy.sieve.primerange(3, n)])\n",
        "  ts = 2*n - lps\n",
        "  nps = ps[np.argmax(ps>n):np.argmax(ps>2*n)]#np.array([i for i in sympy.sieve.primerange(n+1, 2*n)])\n",
        "  unps = np.union1d(ts,nps)\n",
        "  xs = np.array(np.setdiff1d(range(n+1,2*n+1,1),unps))\n",
        "  #print(\"{} -> {}, {} --> {}\".format(ps,ts,nps,unps))\n",
        "  #print(\"diff: {}\".format(xs))\n",
        "  return np.sum(np.log(xs))\n",
        "#logmult_other(50)\n",
        "\n",
        "xi, xf = 20,500 #10**4 #10**4,2*10**4 #0  \n",
        "fn = [upper_bound(n)/(logmult_other(n)+constraint(n)) for n in np.arange(xi,xf)]\n",
        "#plt.plot(np.arange(xi,xf), [constraint(n)/myavg(n) for n in np.arange(xi,xf)], 'k-')\n",
        "#plt.plot(np.arange(xi,xf), [upper_bound(n) for n in np.arange(xi,xf)], 'r-')\n",
        "#plt.plot(np.arange(xi,xf), [constraint(n)/approx_avg(n) for n in np.arange(xi,xf)], 'b-')\n",
        "#plt.plot(np.arange(xi,xf), [constraint(n) for n in np.arange(xi,xf)], 'k-')\n",
        "#plt.plot(np.arange(xi,xf), [logmult_other(n)+constraint(n) for n in np.arange(xi,xf)], 'k-')\n",
        "#plt.plot(np.arange(xi,xf), [upper_bound(n) for n in np.arange(xi,xf)], 'r-')\n",
        "#plt.plot(np.arange(xi,xf), [upper_bound(n)/constraint(n) for n in np.arange(xi,xf)], 'b-')\n",
        "plt.plot(np.arange(xi,xf), fn, 'k-')\n",
        "#plt.plot(np.arange(xi,xf), [upper_bound(n)/logmult_other(n) for n in np.arange(xi,xf)], 'g-')\n",
        "plt.show()\n",
        "\n",
        "print(np.mean(np.array(fn)))\n"
      ],
      "execution_count": null,
      "outputs": [
        {
          "output_type": "display_data",
          "data": {
            "image/png": "[encoded data removed]",
            "text/plain": [
              "<Figure size 432x288 with 1 Axes>"
            ]
          },
          "metadata": {
            "tags": []
          }
        },
        {
          "output_type": "stream",
          "text": [
            "0.9042884401455514\n"
          ],
          "name": "stdout"
        }
      ]
    },
    {
      "cell_type": "markdown",
      "metadata": {
        "id": "f9SB7vOBvcAV"
      },
      "source": [
        "### Approximation of polynomials by their roots"
      ]
    },
    {
      "cell_type": "code",
      "metadata": {
        "id": "jQf7rvZYvi78",
        "outputId": "bd032ff7-f00c-4f96-a5b6-3125d03addef",
        "colab": {
          "base_uri": "https://localhost:8080/",
          "height": 299
        }
      },
      "source": [
        "def pol(x, r):\n",
        "  return np.sum(np.log(x - r))\n",
        "\n",
        "def polavg(x, r):\n",
        "  a = np.mean(r)\n",
        "  return len(r)*np.log(x - a)\n",
        "\n",
        "def poln(x,r):\n",
        "  return len(r)*np.log(x)\n",
        "\n",
        "def poln2(x,r):\n",
        "  s = np.sum(r)\n",
        "  n = len(r)\n",
        "  return (n-1)*np.log(x)+np.log(x-s)\n",
        "\n",
        "#r = np.array([0,1,2,3,4,5,6,7,8,9])\n",
        "r = np.random.randint(low = 0, high = 1000, size = 200) \n",
        "#r = np.array(range(0,1000))\n",
        "#print(r)\n",
        "xi, xf = 3000,5000 #10**4 #10**4,2*10**4 #0  \n",
        "dx = np.arange(xi,xf)\n",
        "px = np.array([pol(x,r) for x in dx])\n",
        "apx = np.array([polavg(x,r) for x in dx])\n",
        "pxn = np.array([poln(x,r) for x in dx])\n",
        "pxn2 = np.array([poln2(x,r) for x in dx])\n",
        "#plt.plot(dx, px, 'k-')\n",
        "#plt.plot(dx, apx, 'b.')\n",
        "#plt.plot(dx, pxn, 'g-')\n",
        "plt.plot(dx, pxn2, 'r-')\n",
        "plt.show()\n",
        "#print(px/apx)"
      ],
      "execution_count": null,
      "outputs": [
        {
          "output_type": "stream",
          "text": [
            "/usr/local/lib/python3.6/dist-packages/ipykernel_launcher.py:14: RuntimeWarning: invalid value encountered in log\n",
            "  \n"
          ],
          "name": "stderr"
        },
        {
          "output_type": "display_data",
          "data": {
            "image/png": "[encoded data removed]",
            "text/plain": [
              "<Figure size 432x288 with 1 Axes>"
            ]
          },
          "metadata": {
            "tags": []
          }
        }
      ]
    },
    {
      "cell_type": "code",
      "metadata": {
        "id": "ljTuYL0DJD6T",
        "outputId": "95d96f02-3a2a-4581-c84e-2dd83dd2aa17",
        "colab": {
          "base_uri": "https://localhost:8080/",
          "height": 34
        }
      },
      "source": [
        "\n",
        "#np.union1d(np.array([1,2,3,5]),np.array([2,4]))\n",
        "np.union1d(ps[:np.argmax(ps>38)],[2])"
      ],
      "execution_count": null,
      "outputs": [
        {
          "output_type": "execute_result",
          "data": {
            "text/plain": [
              "array([ 2,  3,  5,  7, 11, 13, 17, 19, 23, 29, 31, 37])"
            ]
          },
          "metadata": {
            "tags": []
          },
          "execution_count": 7
        }
      ]
    },
    {
      "cell_type": "code",
      "metadata": {
        "id": "AOeumeHsQdLW"
      },
      "source": [
        ""
      ],
      "execution_count": null,
      "outputs": []
    }
  ]
}