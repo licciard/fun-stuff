{
  "nbformat": 4,
  "nbformat_minor": 0,
  "metadata": {
    "colab": {
      "name": "etas2.ipynb",
      "provenance": [],
      "authorship_tag": "ABX9TyMXbuI/UufgOb0Pp9uXVW0E",
      "include_colab_link": true
    },
    "kernelspec": {
      "name": "python3",
      "display_name": "Python 3"
    }
  },
  "cells": [
    {
      "cell_type": "markdown",
      "metadata": {
        "id": "view-in-github",
        "colab_type": "text"
      },
      "source": [
        "<a href=\"https://colab.research.google.com/github/licciard/fun-stuff/blob/main/math/etas2.ipynb\" target=\"_parent\"><img src=\"https://colab.research.google.com/assets/colab-badge.svg\" alt=\"Open In Colab\"/></a>"
      ]
    },
    {
      "cell_type": "markdown",
      "metadata": {
        "id": "hPlWmJy3ptKE"
      },
      "source": [
        "Load Stieljtes constants"
      ]
    },
    {
      "cell_type": "code",
      "metadata": {
        "id": "Ux9waXJrppKJ",
        "outputId": "80bce23a-4da7-4b69-a610-39c0ee8e2d9c",
        "colab": {
          "base_uri": "https://localhost:8080/",
          "height": 122
        }
      },
      "source": [
        "from google.colab import drive\n",
        "drive.mount('/content/gdrive')\n",
        "DATA_PATH = \"/content/gdrive/My Drive/Colab Notebooks/math/gammas\"\n",
        "\n",
        "import pickle\n",
        "pickle_in = open(DATA_PATH+'/gammas_digits1000_n100000.pkl', 'rb')\n",
        "txt_gammas = pickle.load(pickle_in)"
      ],
      "execution_count": null,
      "outputs": [
        {
          "output_type": "stream",
          "text": [
            "Go to this URL in a browser: https://accounts.google.com/o/oauth2/auth?client_id=947318989803-6bn6qk8qdgf4n4g3pfee6491hc0brc4i.apps.googleusercontent.com&redirect_uri=urn%3aietf%3awg%3aoauth%3a2.0%3aoob&response_type=code&scope=email%20https%3a%2f%2fwww.googleapis.com%2fauth%2fdocs.test%20https%3a%2f%2fwww.googleapis.com%2fauth%2fdrive%20https%3a%2f%2fwww.googleapis.com%2fauth%2fdrive.photos.readonly%20https%3a%2f%2fwww.googleapis.com%2fauth%2fpeopleapi.readonly\n",
            "\n",
            "Enter your authorization code:\n",
            "··········\n",
            "Mounted at /content/gdrive\n"
          ],
          "name": "stdout"
        }
      ]
    },
    {
      "cell_type": "markdown",
      "metadata": {
        "id": "SCESiGWkdW20"
      },
      "source": [
        "Modules"
      ]
    },
    {
      "cell_type": "code",
      "metadata": {
        "id": "9BZRTJijdZDz",
        "outputId": "799720fc-8dee-47c2-f765-3f5681b1e06b",
        "colab": {
          "base_uri": "https://localhost:8080/",
          "height": 34
        }
      },
      "source": [
        "import mpmath as mp\n",
        "import numpy as np\n",
        "import scipy.optimize as opt\n",
        "import matplotlib.pyplot as plt\n",
        "import math\n",
        "import scipy.special as scp\n",
        "\n",
        "mp.dps = 900; mp.pretty = True\n",
        "\n",
        "%matplotlib inline\n",
        "\n",
        "gammas = [mp.mpf(g) for g in txt_gammas]\n",
        "N = len(gammas)\n",
        "print(\"Type: {}, Length: {}, First element: {}\".format(type(gammas),len(gammas),gammas[0]))"
      ],
      "execution_count": null,
      "outputs": [
        {
          "output_type": "stream",
          "text": [
            "Type: <class 'list'>, Length: 100001, First element: 0.577215664901533\n"
          ],
          "name": "stdout"
        }
      ]
    },
    {
      "cell_type": "markdown",
      "metadata": {
        "id": "iASe-CT2p2OT"
      },
      "source": [
        "Calculate etas"
      ]
    },
    {
      "cell_type": "code",
      "metadata": {
        "id": "T3SXVXWV0OyU",
        "outputId": "0bb706c4-9060-4fda-8da4-ce499b85e657",
        "colab": {
          "base_uri": "https://localhost:8080/",
          "height": 282
        }
      },
      "source": [
        "#gammas_rand = [abs(g) for g in gammas]\n",
        "\n",
        "dn = np.arange(0,100,1)\n",
        "gn = np.array([mp.log(abs(gammas[n])) for n in dn])\n",
        "#rgn = np.array([mp.log(abs(gammas_rand[n])) for n in dn])\n",
        "\n",
        "#plt.figure(figsize=(15,10))\n",
        "plt.plot(dn, gn, 'k.')\n",
        "#plt.plot(dn, rgn, 'b.')\n"
      ],
      "execution_count": null,
      "outputs": [
        {
          "output_type": "execute_result",
          "data": {
            "text/plain": [
              "[<matplotlib.lines.Line2D at 0x7f559b3efd68>]"
            ]
          },
          "metadata": {
            "tags": []
          },
          "execution_count": 3
        },
        {
          "output_type": "display_data",
          "data": {
            "image/png": "[encoded data removed]",
            "text/plain": [
              "<Figure size 432x288 with 1 Axes>"
            ]
          },
          "metadata": {
            "tags": []
          }
        }
      ]
    },
    {
      "cell_type": "code",
      "metadata": {
        "id": "asIT7luopw6g",
        "outputId": "ed5604af-0417-4a73-8704-0c857d24f05d",
        "colab": {
          "base_uri": "https://localhost:8080/",
          "height": 187
        }
      },
      "source": [
        "mp.dps = 900\n",
        "etas = []\n",
        "\n",
        "def eval_eta_rec(n,etas,gammas):\n",
        "  sum_terms = []\n",
        "  for k in range(0,n):\n",
        "    sum_terms.append(abs(etas[k])*(gammas[n-k-1])/mp.gamma(n-k))\n",
        "  sum_terms.append((n+1)*gammas[n]/mp.gamma(n+1))\n",
        "  sum_terms = sorted(sum_terms, key=abs)#,reverse=True)\n",
        "  #print(sum_terms)\n",
        "  tot = 0.\n",
        "  for term in sum_terms:\n",
        "    tot += term\n",
        "  sign = (1,-1)[n%2==0]\n",
        "  return sign*tot\n",
        "\n",
        "for n in range(1000):\n",
        "  etas.append(eval_eta_rec(n,etas,gammas))\n",
        "  if(n%100 == 0):\n",
        "    print(\"eta({}) = {}, {}\".format(n,etas[n], gammas[n]))"
      ],
      "execution_count": null,
      "outputs": [
        {
          "output_type": "stream",
          "text": [
            "eta(0) = -0.577215664901533, 0.577215664901533\n",
            "eta(100) = -6.46775072494206e-49, -4.25340157170803e+17\n",
            "eta(200) = -1.25495398319966e-96, -6.97464971947882e+55\n",
            "eta(300) = -2.43501886038256e-144, -5.55672822025266e+102\n",
            "eta(400) = -4.72472849984606e-192, -1.76164218667593e+152\n",
            "eta(500) = -9.16750985401012e-240, -1.16550527223372e+204\n",
            "eta(600) = -1.77879505512564e-287, 3.56274628681888e+257\n",
            "eta(700) = -3.45144090219369e-335, -3.54945218457065e+312\n",
            "eta(800) = -6.69691781917737e-383, 4.91354056171831e+369\n",
            "eta(900) = -1.29941985239586e-430, -3.81784310426304e+427\n"
          ],
          "name": "stdout"
        }
      ]
    },
    {
      "cell_type": "code",
      "metadata": {
        "id": "1odMoKCYjg2I"
      },
      "source": [
        "def eval_eta_approx(p,n,letas,lgammas):\n",
        "  if n < p:\n",
        "    return etas[n]\n",
        "  tot = 0.\n",
        "  fp = (p,p+1)[n%2==0]\n",
        "  for k in range(fp):\n",
        "    tot += lgammas[k]*abs(letas[n-k-1])/scp.gamma(k+1)\n",
        "  tot = (tot,-tot)[n%2 == 0]\n",
        "  return tot#*1.00087\n",
        "    #  return (tot,-tot)[n%2 == 0]\n",
        "\n",
        "etaps = []\n",
        "for n in range(1000):\n",
        "  etaps.append(eval_eta_approx(5,n,etaps,gammas))\n",
        "  #print(\"eta({}) = {} vs {} --> {}%\".format(n,etas[n],etaps[n],((etaps[n])/etas[n])))"
      ],
      "execution_count": null,
      "outputs": []
    },
    {
      "cell_type": "code",
      "metadata": {
        "id": "Lqg0aqBDrEoe",
        "outputId": "8de40f3c-cd32-4716-ecff-244eb803e105",
        "colab": {
          "base_uri": "https://localhost:8080/",
          "height": 609
        }
      },
      "source": [
        "def mypow(x, a,b):\n",
        "  return a*x**b + np.log(0.577215664901533)\n",
        "\n",
        "dn = np.arange(0,1000,1)\n",
        "#gn = np.array([mp.log(abs(gammas[n]))-scp.gammaln(n+1)+2*n for n in dn])\n",
        "en = np.array([mp.log(abs(etaps[n])) for n in dn])\n",
        "popt, pcov = opt.curve_fit(mypow,  dn,  en,  p0=(2,1))\n",
        "print(popt)\n",
        "\n",
        "#fn = mypow(dn,-1.0994363)#*popt)\n",
        "\n",
        "plt.figure(figsize=(15,10))\n",
        "#plt.plot(dn, gn, 'k.')\n",
        "plt.plot(dn, en, 'k.')\n",
        "plt.plot(dn,mypow(dn,*popt),'r-')\n",
        "#plt.plot(dn, en-fn, 'r.')\n",
        "\n",
        "axes = plt.gca()\n",
        "#axes.set_xlim([2020,2060])\n",
        "#axes.set_ylim([-2300,-2200])\n",
        "plt.show()"
      ],
      "execution_count": null,
      "outputs": [
        {
          "output_type": "stream",
          "text": [
            "[-1.11151877  0.99877406]\n"
          ],
          "name": "stdout"
        },
        {
          "output_type": "display_data",
          "data": {
            "image/png": "[encoded data removed]",
            "text/plain": [
              "<Figure size 1080x720 with 1 Axes>"
            ]
          },
          "metadata": {
            "tags": []
          }
        }
      ]
    },
    {
      "cell_type": "code",
      "metadata": {
        "id": "zi6VcCwltEWK",
        "outputId": "16788d49-4d52-4a27-d82a-c9e97074a287",
        "colab": {
          "base_uri": "https://localhost:8080/",
          "height": 357
        }
      },
      "source": [
        "mp.dps = 900\n",
        "print(mp.mp)\n",
        "def lambda_tilde(n):\n",
        "  sum_terms = []\n",
        "  for k in range(1,n+1):\n",
        "    sum_terms.append(mp.binomial(n,k)*etas[k-1])\n",
        "  sum_terms = sorted(sum_terms, key=abs,reverse=True)\n",
        "  #print(sum_terms)\n",
        "  tot = 0.\n",
        "  for term in sum_terms:\n",
        "    tot += term\n",
        "  #  print(tot)\n",
        "  return tot\n",
        "#  tot1,tot2 = 0.,0.\n",
        "#  for k in range(1,n+1,2):\n",
        "#    tot1 += scp.binom(n,k)*etas[k-1]#*(1+1e-5*np.random.rand(1)[0])#/(1-0.026819467)\n",
        "#  for k in range(2,n+1,2):\n",
        "#    tot2 += scp.binom(n,k)*etas[k-1]#/(1-0.026819467)\n",
        "  #print(\"{} & {}\".format(tot1,tot2))\n",
        "#  return tot1+tot2\n",
        "\n",
        "def lambda_tilde_half(n,p):\n",
        "  tot1,tot2 = 0.,0.\n",
        "  #print(\"lambda {} {}\".format(n,n+p))\n",
        "  for k in range(1,n//2+p,2):\n",
        "    tot1 += scp.binom(n,k)*etas[k-1]#*(1+1e-5*np.random.rand(1)[0])#/(1-0.026819467)\n",
        "  for k in range(2,n//2+p,2):\n",
        "    tot2 += scp.binom(n,k)*etas[k-1]#/(1-0.026819467)\n",
        "  #print(\"{} & {}\".format(tot1,tot2))\n",
        "  return tot1+tot2\n",
        "\n",
        "def lambda_tilde_mid(n,p):\n",
        "  tot1,tot2 = 0.,0.\n",
        "  #print(\"lambda {} {}\".format(n//2-p,n//2+p))\n",
        "  for k in range(n//2-p,n//2+p,2):\n",
        "    tot1 += scp.binom(n,k)*etas[k-1]#*(1+1e-5*np.random.rand(1)[0])#/(1-0.026819467)\n",
        "  for k in range(n//2-p+1,n//2+p,2):\n",
        "    tot2 += scp.binom(n,k)*etas[k-1]#/(1-0.026819467)\n",
        "  #print(\"{} & {}\".format(tot1,tot2))\n",
        "  return tot1+tot2\n",
        "\n",
        "def lambda_tilde_dic(n):\n",
        "  terms = {}\n",
        "  for k in range(1,n+1):\n",
        "    val = scp.gammaln(n+1)+mp.log(abs(etas[k-1]))-scp.gammaln(k+1)-scp.gammaln(n-k+1)\n",
        "    terms[val] = k\n",
        "  tot = 0.\n",
        "  for term in sorted(terms):\n",
        "    sign = (1,-1)[terms[term]%2==1]\n",
        "    tot += sign*mp.exp(term)\n",
        "  return tot\n",
        "\n",
        "\n",
        "n = 75\n",
        "print(\"lambdas({}) = {}\".format(n,lambda_tilde(n)))\n",
        "lambdas = [0]\n",
        "#lambdas_half = [0]\n",
        "#lambdas_mid = [0]\n",
        "for n in range(0,15):\n",
        "  lambdas.append(-lambda_tilde(n))\n",
        "  #lambdas_half.append(-lambda_tilde_half(n,n//8))\n",
        "  #lambdas_mid.append(-lambda_tilde_mid(n,n//4))\n",
        "  #if(n%100 == 0):\n",
        "  print(\"lambdas({}) = {}\".format(n,lambdas[n]))"
      ],
      "execution_count": null,
      "outputs": [
        {
          "output_type": "stream",
          "text": [
            "Mpmath settings:\n",
            "  mp.prec = 53                [default: 53]\n",
            "  mp.dps = 15                 [default: 15]\n",
            "  mp.trap_complex = False     [default: False]\n",
            "lambdas(75) = -0.58818139259992\n",
            "lambdas(0) = 0\n",
            "lambdas(1) = -0.0\n",
            "lambdas(2) = 0.577215664901533\n",
            "lambdas(3) = 0.966885096962701\n",
            "lambdas(4) = 1.2206969282167\n",
            "lambdas(5) = 1.37558813187126\n",
            "lambdas(6) = 1.45826850019717\n",
            "lambdas(7) = 1.48829832721222\n",
            "lambdas(8) = 1.48019084023884\n",
            "lambdas(9) = 1.44485574411943\n",
            "lambdas(10) = 1.3905964067913\n",
            "lambdas(11) = 1.32380368369629\n",
            "lambdas(12) = 1.24944277582208\n",
            "lambdas(13) = 1.17139824693906\n",
            "lambdas(14) = 1.09272131711462\n"
          ],
          "name": "stdout"
        }
      ]
    },
    {
      "cell_type": "code",
      "metadata": {
        "id": "7ZJHSoXL1Xfv",
        "outputId": "b023900f-834c-49c9-c37f-acd6bc7bcce5",
        "colab": {
          "base_uri": "https://localhost:8080/",
          "height": 351
        }
      },
      "source": [
        "def mypow2(x, a, b, c):\n",
        "  return a*(x**b) + c\n",
        "\n",
        "dn = np.arange(1,125,1)\n",
        "#gn = np.array([mp.log(abs(gammas[n]))-scp.gammaln(n+1)+2*n for n in dn])\n",
        "ln = np.array([lambdas[n] for n in dn])\n",
        "#lhn = np.array([lambdas_half[n] for n in dn])\n",
        "#lmn = np.array([lambdas_mid[n] for n in dn])\n",
        "#popt, pcov = opt.curve_fit(mypow2,  dn,  ln,  p0=(2,1,10))\n",
        "#print(popt)\n",
        "\n",
        "#fn = mypow(dn,-1.0994363)#*popt)\n",
        "\n",
        "plt.figure(figsize=(15,10))\n",
        "plt.plot(dn, ln, 'k.')\n",
        "#plt.plot(dn, lhn, 'r.')\n",
        "#plt.plot(dn, lmn, 'g.')\n",
        "#plt.plot(dn, en, 'k.')\n",
        "#plt.plot(dn,mypow2(dn,*popt),'r-')\n",
        "#plt.plot(dn, en-fn, 'r.')\n",
        "\n",
        "axes = plt.gca()\n",
        "#axes.set_xlim([2020,2060])\n",
        "#axes.set_ylim([-2300,-2200])\n",
        "plt.show()"
      ],
      "execution_count": null,
      "outputs": [
        {
          "output_type": "error",
          "ename": "IndexError",
          "evalue": "ignored",
          "traceback": [
            "\u001b[0;31m---------------------------------------------------------------------------\u001b[0m",
            "\u001b[0;31mIndexError\u001b[0m                                Traceback (most recent call last)",
            "\u001b[0;32m<ipython-input-8-92060a690b27>\u001b[0m in \u001b[0;36m<module>\u001b[0;34m()\u001b[0m\n\u001b[1;32m      4\u001b[0m \u001b[0mdn\u001b[0m \u001b[0;34m=\u001b[0m \u001b[0mnp\u001b[0m\u001b[0;34m.\u001b[0m\u001b[0marange\u001b[0m\u001b[0;34m(\u001b[0m\u001b[0;36m1\u001b[0m\u001b[0;34m,\u001b[0m\u001b[0;36m125\u001b[0m\u001b[0;34m,\u001b[0m\u001b[0;36m1\u001b[0m\u001b[0;34m)\u001b[0m\u001b[0;34m\u001b[0m\u001b[0;34m\u001b[0m\u001b[0m\n\u001b[1;32m      5\u001b[0m \u001b[0;31m#gn = np.array([mp.log(abs(gammas[n]))-scp.gammaln(n+1)+2*n for n in dn])\u001b[0m\u001b[0;34m\u001b[0m\u001b[0;34m\u001b[0m\u001b[0;34m\u001b[0m\u001b[0m\n\u001b[0;32m----> 6\u001b[0;31m \u001b[0mln\u001b[0m \u001b[0;34m=\u001b[0m \u001b[0mnp\u001b[0m\u001b[0;34m.\u001b[0m\u001b[0marray\u001b[0m\u001b[0;34m(\u001b[0m\u001b[0;34m[\u001b[0m\u001b[0mlambdas\u001b[0m\u001b[0;34m[\u001b[0m\u001b[0mn\u001b[0m\u001b[0;34m]\u001b[0m \u001b[0;32mfor\u001b[0m \u001b[0mn\u001b[0m \u001b[0;32min\u001b[0m \u001b[0mdn\u001b[0m\u001b[0;34m]\u001b[0m\u001b[0;34m)\u001b[0m\u001b[0;34m\u001b[0m\u001b[0;34m\u001b[0m\u001b[0m\n\u001b[0m\u001b[1;32m      7\u001b[0m \u001b[0;31m#lhn = np.array([lambdas_half[n] for n in dn])\u001b[0m\u001b[0;34m\u001b[0m\u001b[0;34m\u001b[0m\u001b[0;34m\u001b[0m\u001b[0m\n\u001b[1;32m      8\u001b[0m \u001b[0;31m#lmn = np.array([lambdas_mid[n] for n in dn])\u001b[0m\u001b[0;34m\u001b[0m\u001b[0;34m\u001b[0m\u001b[0;34m\u001b[0m\u001b[0m\n",
            "\u001b[0;32m<ipython-input-8-92060a690b27>\u001b[0m in \u001b[0;36m<listcomp>\u001b[0;34m(.0)\u001b[0m\n\u001b[1;32m      4\u001b[0m \u001b[0mdn\u001b[0m \u001b[0;34m=\u001b[0m \u001b[0mnp\u001b[0m\u001b[0;34m.\u001b[0m\u001b[0marange\u001b[0m\u001b[0;34m(\u001b[0m\u001b[0;36m1\u001b[0m\u001b[0;34m,\u001b[0m\u001b[0;36m125\u001b[0m\u001b[0;34m,\u001b[0m\u001b[0;36m1\u001b[0m\u001b[0;34m)\u001b[0m\u001b[0;34m\u001b[0m\u001b[0;34m\u001b[0m\u001b[0m\n\u001b[1;32m      5\u001b[0m \u001b[0;31m#gn = np.array([mp.log(abs(gammas[n]))-scp.gammaln(n+1)+2*n for n in dn])\u001b[0m\u001b[0;34m\u001b[0m\u001b[0;34m\u001b[0m\u001b[0;34m\u001b[0m\u001b[0m\n\u001b[0;32m----> 6\u001b[0;31m \u001b[0mln\u001b[0m \u001b[0;34m=\u001b[0m \u001b[0mnp\u001b[0m\u001b[0;34m.\u001b[0m\u001b[0marray\u001b[0m\u001b[0;34m(\u001b[0m\u001b[0;34m[\u001b[0m\u001b[0mlambdas\u001b[0m\u001b[0;34m[\u001b[0m\u001b[0mn\u001b[0m\u001b[0;34m]\u001b[0m \u001b[0;32mfor\u001b[0m \u001b[0mn\u001b[0m \u001b[0;32min\u001b[0m \u001b[0mdn\u001b[0m\u001b[0;34m]\u001b[0m\u001b[0;34m)\u001b[0m\u001b[0;34m\u001b[0m\u001b[0;34m\u001b[0m\u001b[0m\n\u001b[0m\u001b[1;32m      7\u001b[0m \u001b[0;31m#lhn = np.array([lambdas_half[n] for n in dn])\u001b[0m\u001b[0;34m\u001b[0m\u001b[0;34m\u001b[0m\u001b[0;34m\u001b[0m\u001b[0m\n\u001b[1;32m      8\u001b[0m \u001b[0;31m#lmn = np.array([lambdas_mid[n] for n in dn])\u001b[0m\u001b[0;34m\u001b[0m\u001b[0;34m\u001b[0m\u001b[0;34m\u001b[0m\u001b[0m\n",
            "\u001b[0;31mIndexError\u001b[0m: list index out of range"
          ]
        }
      ]
    },
    {
      "cell_type": "code",
      "metadata": {
        "id": "3DfMIvHsnqZm"
      },
      "source": [
        "print(np.random.rand(1)[0])\n",
        "print(np.random.rand(1)[0])"
      ],
      "execution_count": null,
      "outputs": []
    },
    {
      "cell_type": "code",
      "metadata": {
        "id": "tC-b9iOjud0e"
      },
      "source": [
        ""
      ],
      "execution_count": null,
      "outputs": []
    }
  ]
}