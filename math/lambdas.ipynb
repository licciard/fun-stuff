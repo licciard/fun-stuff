{
  "nbformat": 4,
  "nbformat_minor": 0,
  "metadata": {
    "colab": {
      "name": "lambdas.ipynb",
      "provenance": [],
      "authorship_tag": "ABX9TyN8ZQPBWQNr3SJuEvuwtkcl",
      "include_colab_link": true
    },
    "kernelspec": {
      "name": "python3",
      "display_name": "Python 3"
    }
  },
  "cells": [
    {
      "cell_type": "markdown",
      "metadata": {
        "id": "view-in-github",
        "colab_type": "text"
      },
      "source": [
        "<a href=\"https://colab.research.google.com/github/licciard/fun-stuff/blob/main/math/lambdas.ipynb\" target=\"_parent\"><img src=\"https://colab.research.google.com/assets/colab-badge.svg\" alt=\"Open In Colab\"/></a>"
      ]
    },
    {
      "cell_type": "markdown",
      "metadata": {
        "id": "EG84TG_FIMrA"
      },
      "source": [
        "Modules"
      ]
    },
    {
      "cell_type": "code",
      "metadata": {
        "id": "T71AbMpjIAL0",
        "outputId": "a7216e08-3a93-475f-c228-992a6b83fe8e",
        "colab": {
          "base_uri": "https://localhost:8080/",
          "height": 85
        }
      },
      "source": [
        "import sympy\n",
        "import mpmath\n",
        "mpmath.mp.dps = 100\n",
        "print(mpmath.mp)\n",
        "#sympy.init_session()\n",
        "sympy.init_printing(use_latex=False)"
      ],
      "execution_count": null,
      "outputs": [
        {
          "output_type": "stream",
          "text": [
            "Mpmath settings:\n",
            "  mp.prec = 336               [default: 53]\n",
            "  mp.dps = 100                [default: 15]\n",
            "  mp.trap_complex = False     [default: False]\n"
          ],
          "name": "stdout"
        }
      ]
    },
    {
      "cell_type": "markdown",
      "metadata": {
        "id": "DU9nZ7o9IOCi"
      },
      "source": [
        "Matrices"
      ]
    },
    {
      "cell_type": "code",
      "metadata": {
        "id": "SJHdI4wIILpx",
        "outputId": "3379b196-8eb6-4560-c55d-4ce6893807cf",
        "colab": {
          "base_uri": "https://localhost:8080/",
          "height": 680
        }
      },
      "source": [
        "# for matrix of etas, A --> A.eta = zeta\n",
        "def Acoef_exp2(n,p):\n",
        "  # s_n series is s_n = 1 + 1/2^n\n",
        "  if p == 0:\n",
        "    return 1\n",
        "  coef = sympy.Pow((1/2),(n+1)*p)/p\n",
        "  return coef\n",
        "  #return (coef,-coef)[p%2==1]\n",
        "\n",
        "def Acoef_harm(n,p):\n",
        "  # s_n series is s_n = 1 + 1/n\n",
        "  if p == 0:\n",
        "    return 1\n",
        "  coef = sympy.Pow(1./(n+1),p)/p\n",
        "  return coef\n",
        "  #return (coef,-coef)[p%2==1]\n",
        "\n",
        "def Acoef_pow(n,p):\n",
        "  # s_n series is s_n = 1 + 1/n^n\n",
        "  if p == 0:\n",
        "    return 1\n",
        "  coef = sympy.Pow(1./(n+1),(n+1)*p)/p\n",
        "  return coef\n",
        "  #return (coef,-coef)[p%2==1]\n",
        "\n",
        "def Acoef_slow(n,p):\n",
        "  # s_n series is s_n = 1 + 1/n\n",
        "  if p == 0:\n",
        "    return 1\n",
        "  coef = sympy.Pow(1./(n+1),0.5*p)/p\n",
        "  return coef\n",
        "\n",
        "def Acoef_grow(n,p):\n",
        "  # s_n series is s_n = 2 - 1/n\n",
        "  if p == 0:\n",
        "    return 1\n",
        "  coef = sympy.Pow((n+1)/(n+2),p)/p\n",
        "  return coef\n",
        "  #return (coef,-coef)[p%2==1]\n",
        "\n",
        "# Pascal matrix\n",
        "def Pcoef(i,j):\n",
        "  return sympy.binomial(i,j)\n",
        "\n",
        "# inverse Pascal matrix\n",
        "def Pcoef_inv(i,j):\n",
        "  return sympy.binomial(i,j) * (1,-1)[(i+j)%2==1]\n",
        "\n",
        "# zeta function vector\n",
        "def Zcoef_exp2(n,j):\n",
        "  z = mpmath.zeta(1+sympy.Pow(1/2,(n+1)))*sympy.Pow(1/2,(n+1))\n",
        "  return mpmath.log(z)\n",
        "\n",
        "def Zcoef_harm(n,j):\n",
        "  z = mpmath.zeta(1+sympy.Pow(1./(n+1),1))*sympy.Pow(1./(n+1),1)\n",
        "  return mpmath.log(z)\n",
        "\n",
        "def Zcoef_pow(n,j):\n",
        "  z = mpmath.zeta(1+sympy.Pow(1./(n+1),(n+1)))*sympy.Pow(1./(n+1),(n+1))\n",
        "  return mpmath.log(z)\n",
        "\n",
        "def Zcoef_slow(n,j):\n",
        "  z = mpmath.zeta(1+sympy.Pow(1./(n+1),0.5))*sympy.Pow(1./(n+1),0.5)\n",
        "  return mpmath.log(z)\n",
        "\n",
        "def Zcoef_grow(n,j):\n",
        "  z = mpmath.zeta(sympy.Pow(2-1./(n+2),1))*sympy.Pow((n+1)/(n+2),1)\n",
        "  return mpmath.log(z)\n",
        "\n",
        "m = 10\n",
        "\n",
        "Z = sympy.Matrix(m,1,Zcoef_exp2)\n",
        "Z\n",
        "A = sympy.Matrix(m,m,Acoef_exp2)\n",
        "A\n",
        "Ai = A.inv()\n",
        "Ai\n",
        "Az = Ai*Z\n",
        "Az\n",
        "#Bi = sympy.Matrix(m,m,Pcoef_inv)\n",
        "#Bi\n",
        "B = sympy.Matrix(m,m,Pcoef)\n",
        "#B\n",
        "B*Az\n",
        "#C = A*Bi\n",
        "#C\n",
        "#Ci = C.inv()\n",
        "#Ci\n",
        "#L = Ci*Z\n",
        "#L\n",
        "#for p in range(1,5):\n",
        "#  print(\"{} --> {}\".format(p,Acoef_exp2_sign(1,p)))"
      ],
      "execution_count": null,
      "outputs": [
        {
          "output_type": "execute_result",
          "data": {
            "text/plain": [
              "⎡0.000000000000000000472628891571100405410805472211292184548230652153099504957\n",
              "⎢                                                                             \n",
              "⎢         0.577215664901530128408724426303835914804502671990409656879224744320\n",
              "⎢                                                                             \n",
              "⎢         0.966885096965085841523295468315855030962738413481702156668427094449\n",
              "⎢                                                                             \n",
              "⎢         1.220696927529986592380913082161272569582496324575490410747134761759\n",
              "⎢                                                                             \n",
              "⎢         1.375588172095675077981206097468605050040884346806846987188418396897\n",
              "⎢                                                                             \n",
              "⎢         1.458267279398114683083989821185801180366639414703121625682270159823\n",
              "⎢                                                                             \n",
              "⎢         1.488333786681007549699130314621387101094958984119033849408337216784\n",
              "⎢                                                                             \n",
              "⎢         1.480145923278177912106772009365059101234539683634633469725033044310\n",
              "⎢                                                                             \n",
              "⎢         1.444660116354866984158682501492854924376799077641728168862025529257\n",
              "⎢                                                                             \n",
              "⎣         1.391968940378785739272883644789970649205469155390004228470551178225\n",
              "\n",
              "7122225109987793683695039396665164931953109⎤\n",
              "                                           ⎥\n",
              "6942237999704297891570099935113059         ⎥\n",
              "                                           ⎥\n",
              "3594729896044145582062107185930183         ⎥\n",
              "                                           ⎥\n",
              "750748736805894284828899619788877          ⎥\n",
              "                                           ⎥\n",
              "901362087149824495635774667399602          ⎥\n",
              "                                           ⎥\n",
              "069097416635617315797276488666966          ⎥\n",
              "                                           ⎥\n",
              "215365517638121687019776083297249          ⎥\n",
              "                                           ⎥\n",
              "628067718931016581757625600266895          ⎥\n",
              "                                           ⎥\n",
              "508697429364608989344471073860365          ⎥\n",
              "                                           ⎥\n",
              "756693622001962287831219857926834          ⎦"
            ]
          },
          "metadata": {
            "tags": []
          },
          "execution_count": 6
        }
      ]
    },
    {
      "cell_type": "code",
      "metadata": {
        "id": "y8sIu-vLKsaf",
        "outputId": "4483b2b3-d872-4882-be94-82742c9a964e",
        "colab": {
          "base_uri": "https://localhost:8080/",
          "height": 34
        }
      },
      "source": [
        "print(mpmath.zeta(3/2))"
      ],
      "execution_count": null,
      "outputs": [
        {
          "output_type": "stream",
          "text": [
            "2.612375348685488343348567567924071630570800652400063407573328248814927767688272860996243868126311952\n"
          ],
          "name": "stdout"
        }
      ]
    },
    {
      "cell_type": "markdown",
      "metadata": {
        "id": "I-B2EeNLsMca"
      },
      "source": [
        "Orthogonal relation"
      ]
    },
    {
      "cell_type": "code",
      "metadata": {
        "id": "KdTtsf9QsLm0",
        "outputId": "f6ac774a-bd16-4f94-b483-8502ab2c26bf",
        "colab": {
          "base_uri": "https://localhost:8080/",
          "height": 54
        }
      },
      "source": [
        "# vector of p's \n",
        "def vP(k,Nmax):\n",
        "  tot = 0\n",
        "  for p in range(1,Nmax):\n",
        "    tot += sympy.binomial(p,k)*sympy.Pow(1/2,p)/2*(-1,1)[p%2==0]\n",
        "  return tot\n",
        "\n",
        "N = 100\n",
        "\n",
        "vps = []\n",
        "for k in range(1,100):\n",
        "  vps.append(vP(k,10*k)*k**2)\n",
        "\n",
        "print(vps)"
      ],
      "execution_count": null,
      "outputs": [
        {
          "output_type": "stream",
          "text": [
            "[-0.114257812500000, 0.147914886474609, -0.111122058704495, 0.0658431936608395, -0.0342935679416456, 0.0164609048471100, -0.00746837373951614, 0.00325153685872520, -0.00137174211249771, 0.000564502926947237, -0.000227682847202242, 9.03204683116278e-5, -3.53337017237620e-5, 1.36595769977463e-5, -5.22687895321922e-6, 1.98234224003573e-6, -7.45959514805106e-7, 2.78766877505042e-7, -1.03533788867125e-7, 3.82396265125860e-8, -1.40530626792706e-8, 5.14110529033602e-9, -1.87303280111403e-9, 6.79815383137064e-10, -2.45879511006094e-10, 8.86410255040008e-11, -3.18669079010259e-11, 1.14194242637331e-11, -4.08105739018723e-12, 1.46311397303202e-12, -5.12120610279098e-13, 1.95688105253867e-13, -7.48831199379743e-14, 1.67783138226178e-14, -1.23530819260850e-15, -4.84493425322539e-15, 2.88796386843570e-15, -2.21327654787820e-15, 1.02086530983356e-14, 1.92883254980629e-15, 1.68886282810791e-14, 1.13955334472473e-14, 2.31507841013799e-14, -1.44697575127836e-14, 3.51378301826944e-15, 2.30091105060317e-14, 3.80351166771567e-14, -5.43924096724852e-15, 1.37855904841833e-14, 4.25712317209640e-14, -2.88953781589990e-15, -1.96969494170441e-14, -5.64925297665471e-14, -3.74231945298161e-14, 1.49401375626892e-14, -8.91109098911831e-15, 2.27350469266823e-15, 2.37339046881686e-14, -4.37024080626175e-14, 1.86058658013857e-14, -2.74967110058770e-15, 3.87866653187976e-15, 3.20682991985585e-14, 3.48894314392425e-14, -3.74914675869535e-15, 1.22299036998682e-14, -3.05690379905751e-14, 1.93973430849596e-14, -5.00641010795532e-14, 1.47180992182997e-14, -4.73169231334514e-14, -3.85528637209156e-14, 6.47479634186112e-14, 5.02918411099726e-14, 1.98095811810828e-14, -7.91213725236524e-15, 2.69860014625491e-14, -4.04373861992299e-15, -5.97890134056467e-14, -5.87383195046831e-14, 5.19919840042999e-14, -8.88739187936282e-14, 2.67973258128549e-14, -7.12743413772917e-15, 1.58846054299366e-14, -1.14691235194652e-14, 6.15150410877496e-15, -3.85520848278745e-14, 7.74996125855811e-14, 6.79926614008656e-14, -5.61528878306899e-14, -4.25793525716870e-14, 8.97503225264443e-15, -9.11935061354176e-14, 4.78692218030797e-15, 3.30680543209971e-14, 1.90886477696669e-14, 4.82477163902346e-14, -5.51854803540864e-14]\n"
          ],
          "name": "stdout"
        }
      ]
    },
    {
      "cell_type": "code",
      "metadata": {
        "id": "rG4ohRXTtLIX"
      },
      "source": [
        ""
      ],
      "execution_count": null,
      "outputs": []
    }
  ]
}