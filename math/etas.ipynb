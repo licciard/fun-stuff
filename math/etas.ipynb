{
  "nbformat": 4,
  "nbformat_minor": 0,
  "metadata": {
    "colab": {
      "name": "etas.ipynb",
      "provenance": [],
      "include_colab_link": true
    },
    "kernelspec": {
      "name": "python3",
      "display_name": "Python 3"
    }
  },
  "cells": [
    {
      "cell_type": "markdown",
      "metadata": {
        "id": "view-in-github",
        "colab_type": "text"
      },
      "source": [
        "<a href=\"https://colab.research.google.com/github/licciard/fun-stuff/blob/main/math/etas.ipynb\" target=\"_parent\"><img src=\"https://colab.research.google.com/assets/colab-badge.svg\" alt=\"Open In Colab\"/></a>"
      ]
    },
    {
      "cell_type": "code",
      "metadata": {
        "id": "iCc3Gzhk_mtL"
      },
      "source": [
        "import mpmath as mp\n",
        "import numpy as np\n",
        "import scipy.optimize as opt\n",
        "import matplotlib.pyplot as plt\n",
        "import math\n",
        "import scipy.special as scp\n",
        "\n",
        "#mp.dps = 15; mp.pretty = True\n",
        "\n",
        "%matplotlib inline"
      ],
      "execution_count": null,
      "outputs": []
    },
    {
      "cell_type": "code",
      "metadata": {
        "id": "LCuQvG6w_sGv"
      },
      "source": [
        "def test_eta(k,u,d):\n",
        "  tot = 0.\n",
        "  for h in range(1,k+1):\n",
        "    tot += ((np.exp(u)*h)**(k-h)) * np.exp(-d*h) / (h*np.math.factorial(k-h))\n",
        "  return k*tot\n",
        "\n",
        "def eta_eps(k,eps,ue,de,islog=True):\n",
        "  tot = 0.\n",
        "  for h in range(1,k+1):\n",
        "    tot += scp.binom(k,h)*(h**(k-h-1))*((np.e*((k-h)**(2*eps)))**(ue*(k-h)))*np.exp(-de*h)\n",
        "  if islog:\n",
        "    return np.log(tot)-scp.gammaln(k)\n",
        "  return tot/scp.gamma(k)\n",
        "\n",
        "def sum_eta_eps(n,eps,ue,de):\n",
        "  tot = 0.\n",
        "  for j in range(1,n):\n",
        "    tot += scp.binom(n,j)*eta_eps(j,eps,ue,de,False)\n",
        "  return tot"
      ],
      "execution_count": null,
      "outputs": []
    },
    {
      "cell_type": "code",
      "metadata": {
        "id": "IjqWVRxFAUtm",
        "colab": {
          "base_uri": "https://localhost:8080/",
          "height": 1000
        },
        "outputId": "d4f7a7b3-ae84-4ce4-90a8-a000be7496d4"
      },
      "source": [
        "# 1.15889217   1.07490014 -19.24698245\n",
        "# 1.41087151   1.04951008 -56.90396208\n",
        "# 1.34996908 1.05414643\n",
        "# 1.56639292 1.03866942\n",
        "\n",
        "epst = 0.0389 #0.07\n",
        "uet = 1.566 #0.9\n",
        "det = 18 #10\n",
        "\n",
        "for k in range(1,100):\n",
        "  print(\"eta_eps({}) = {}\".format(k-1,eta_eps(k,epst,uet,det,False)))\n",
        "  #print(\"sum_eta_eps({}) = {}\".format(k,sum_eta_eps(k,epst,uet,det)))\n",
        "  #print(\"eta({}) = {}\".format(k,test_eta(k+1,1.7,10)))"
      ],
      "execution_count": null,
      "outputs": [
        {
          "output_type": "stream",
          "text": [
            "eta_eps(0) = 1.522997974471263e-08\n",
            "eta_eps(1) = 1.4582583786356252e-07\n",
            "eta_eps(2) = 6.19944429367428e-07\n",
            "eta_eps(3) = 1.6646136972028461e-06\n",
            "eta_eps(4) = 3.2755645775208933e-06\n",
            "eta_eps(5) = 5.104926542487019e-06\n",
            "eta_eps(6) = 6.6058891349325065e-06\n",
            "eta_eps(7) = 7.325401799060335e-06\n",
            "eta_eps(8) = 7.12008420132663e-06\n",
            "eta_eps(9) = 6.169113652729969e-06\n",
            "eta_eps(10) = 4.827583060393924e-06\n",
            "eta_eps(11) = 3.4477895590033095e-06\n",
            "eta_eps(12) = 2.2664971331733973e-06\n",
            "eta_eps(13) = 1.3811725204844002e-06\n",
            "eta_eps(14) = 7.849028632332234e-07\n",
            "eta_eps(15) = 4.1810366828803947e-07\n",
            "eta_eps(16) = 2.0969373643771343e-07\n",
            "eta_eps(17) = 9.940964553866725e-08\n",
            "eta_eps(18) = 4.4705324014311495e-08\n",
            "eta_eps(19) = 1.91353270135739e-08\n",
            "eta_eps(20) = 7.82237822805656e-09\n",
            "eta_eps(21) = 3.0659193785264078e-09\n",
            "eta_eps(22) = 1.1581339377258784e-09\n",
            "eta_eps(23) = 4.2501150769891203e-10\n",
            "eta_eps(24) = 1.5355002862487989e-10\n",
            "eta_eps(25) = 5.5819511134448033e-11\n",
            "eta_eps(26) = 2.107908484701064e-11\n",
            "eta_eps(27) = 8.566403313902155e-12\n",
            "eta_eps(28) = 3.826172979799405e-12\n",
            "eta_eps(29) = 1.8634647436302377e-12\n",
            "eta_eps(30) = 9.605886380394028e-13\n",
            "eta_eps(31) = 5.074352161339026e-13\n",
            "eta_eps(32) = 2.6833917156605766e-13\n",
            "eta_eps(33) = 1.4012915541076392e-13\n",
            "eta_eps(34) = 7.176660938694747e-14\n",
            "eta_eps(35) = 3.5938404453344964e-14\n",
            "eta_eps(36) = 1.7580633612814795e-14\n",
            "eta_eps(37) = 8.403053327878786e-15\n",
            "eta_eps(38) = 3.927840971293931e-15\n",
            "eta_eps(39) = 1.798076226303753e-15\n",
            "eta_eps(40) = 8.077379383202207e-16\n",
            "eta_eps(41) = 3.570426981015963e-16\n",
            "eta_eps(42) = 1.5586077781530713e-16\n",
            "eta_eps(43) = 6.751485623250419e-17\n",
            "eta_eps(44) = 2.9197266616583944e-17\n",
            "eta_eps(45) = 1.2696662247953798e-17\n",
            "eta_eps(46) = 5.5946189115797946e-18\n",
            "eta_eps(47) = 2.515209330882418e-18\n",
            "eta_eps(48) = 1.158946002388385e-18\n",
            "eta_eps(49) = 5.478307009451933e-19\n",
            "eta_eps(50) = 2.649184011332229e-19\n",
            "eta_eps(51) = 1.3033693653779367e-19\n",
            "eta_eps(52) = 6.480725347183595e-20\n",
            "eta_eps(53) = 3.235954405688065e-20\n",
            "eta_eps(54) = 1.613970636395682e-20\n",
            "eta_eps(55) = 8.009151393613236e-21\n",
            "eta_eps(56) = 3.943889112445231e-21\n",
            "eta_eps(57) = 1.9241639133559316e-21\n",
            "eta_eps(58) = 9.29527609027547e-22\n",
            "eta_eps(59) = 4.446598227571858e-22\n",
            "eta_eps(60) = 2.10789859132722e-22\n",
            "eta_eps(61) = 9.914594272578319e-23\n",
            "eta_eps(62) = 4.6351625180820905e-23\n",
            "eta_eps(63) = 2.1585989702303568e-23\n",
            "eta_eps(64) = 1.0039262709976969e-23\n",
            "eta_eps(65) = 4.675751725697374e-24\n",
            "eta_eps(66) = 2.1868244993152762e-24\n",
            "eta_eps(67) = 1.0295691551783699e-24\n",
            "eta_eps(68) = 4.888588065980252e-25\n",
            "eta_eps(69) = 2.343345465653053e-25\n",
            "eta_eps(70) = 1.1340447699236892e-25\n",
            "eta_eps(71) = 5.535775742528229e-26\n",
            "eta_eps(72) = 2.721317992375965e-26\n",
            "eta_eps(73) = 1.3444432126312102e-26\n",
            "eta_eps(74) = 6.660726410024821e-27\n",
            "eta_eps(75) = 3.30235737875872e-27\n",
            "eta_eps(76) = 1.635636115373228e-27\n",
            "eta_eps(77) = 8.0819721499237e-28\n",
            "eta_eps(78) = 3.980248831651709e-28\n",
            "eta_eps(79) = 1.952736484697325e-28\n",
            "eta_eps(80) = 9.542630525625123e-29\n",
            "eta_eps(81) = 4.6461073597635717e-29\n",
            "eta_eps(82) = 2.255005618170268e-29\n",
            "eta_eps(83) = 1.0919324095885534e-29\n",
            "eta_eps(84) = 5.2804503554752456e-30\n",
            "eta_eps(85) = 2.5530734563718962e-30\n",
            "eta_eps(86) = 1.2356004279072796e-30\n",
            "eta_eps(87) = 5.9923070353950845e-31\n",
            "eta_eps(88) = 2.9148865255987896e-31\n",
            "eta_eps(89) = 1.4231971946916276e-31\n",
            "eta_eps(90) = 6.977431461815407e-32\n",
            "eta_eps(91) = 3.435104169159906e-32\n",
            "eta_eps(92) = 1.6977995045736595e-32\n",
            "eta_eps(93) = 8.419902057498883e-33\n",
            "eta_eps(94) = 4.186884678129385e-33\n",
            "eta_eps(95) = 2.0858515005678585e-33\n",
            "eta_eps(96) = 1.04021510351482e-33\n",
            "eta_eps(97) = 5.188904688112154e-34\n",
            "eta_eps(98) = 2.5873644690715405e-34\n"
          ],
          "name": "stdout"
        }
      ]
    },
    {
      "cell_type": "code",
      "metadata": {
        "id": "r8SJ9xZ3Aezx",
        "colab": {
          "base_uri": "https://localhost:8080/",
          "height": 265
        },
        "outputId": "e82dbcfe-0394-44a4-b585-7b1626598433"
      },
      "source": [
        "dn = np.arange(1,150,1)\n",
        "sn = np.array([sum_eta_eps(n,epst*1,1*uet,1*det) for n in dn])\n",
        "en = np.array([np.exp(0.1*n+10) for n in dn])\n",
        "plt.plot(dn, sn, 'k.')\n",
        "plt.plot(dn, en, 'b-')\n",
        "#plt.xscale('log')\n",
        "plt.yscale('log')\n",
        "plt.show()"
      ],
      "execution_count": null,
      "outputs": [
        {
          "output_type": "display_data",
          "data": {
            "image/png": "[encoded data removed]",
            "text/plain": [
              "<Figure size 432x288 with 1 Axes>"
            ]
          },
          "metadata": {
            "tags": []
          }
        }
      ]
    },
    {
      "cell_type": "code",
      "metadata": {
        "id": "meoZ6TI_hY9q",
        "colab": {
          "base_uri": "https://localhost:8080/",
          "height": 282
        },
        "outputId": "1b0a124f-071a-4bb9-f477-32f6f291a435"
      },
      "source": [
        "def mypow(x, a, b):\n",
        "  return a*(x**b) -15\n",
        "\n",
        "dn = np.arange(5,100000,1)\n",
        "mun = np.array([n*np.log(np.log(n))-4*np.log(10) for n in dn])\n",
        "popt, pcov = opt.curve_fit(mypow,  dn,  mun,  p0=(1,2))\n",
        "print(popt)\n",
        "\n",
        "plt.plot(dn, mun, 'k.')\n",
        "plt.plot(dn,mypow(dn,*popt),'r-')\n",
        "\n",
        "#axes = plt.gca()\n",
        "#axes.set_xlim([0,10])\n",
        "#axes.set_ylim([-50,0])\n",
        "plt.show()"
      ],
      "execution_count": null,
      "outputs": [
        {
          "output_type": "stream",
          "text": [
            "[1.56639292 1.03866942]\n"
          ],
          "name": "stdout"
        },
        {
          "output_type": "display_data",
          "data": {
            "image/png": "[encoded data removed]",
            "text/plain": [
              "<Figure size 432x288 with 1 Axes>"
            ]
          },
          "metadata": {
            "tags": []
          }
        }
      ]
    },
    {
      "cell_type": "code",
      "metadata": {
        "id": "2YXG4_A7lW9Z"
      },
      "source": [
        ""
      ],
      "execution_count": null,
      "outputs": []
    }
  ]
}