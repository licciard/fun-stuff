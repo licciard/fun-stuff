{
  "nbformat": 4,
  "nbformat_minor": 0,
  "metadata": {
    "colab": {
      "name": "lambdas3.ipynb",
      "provenance": [],
      "authorship_tag": "ABX9TyO0Y+yMbOGRZhLTNqv4Aw0n",
      "include_colab_link": true
    },
    "kernelspec": {
      "name": "python3",
      "display_name": "Python 3"
    }
  },
  "cells": [
    {
      "cell_type": "markdown",
      "metadata": {
        "id": "view-in-github",
        "colab_type": "text"
      },
      "source": [
        "<a href=\"https://colab.research.google.com/github/licciard/fun-stuff/blob/main/math/lambdas3.ipynb\" target=\"_parent\"><img src=\"https://colab.research.google.com/assets/colab-badge.svg\" alt=\"Open In Colab\"/></a>"
      ]
    },
    {
      "cell_type": "markdown",
      "metadata": {
        "id": "vjcd9Tiq6pQ6"
      },
      "source": [
        "Modules"
      ]
    },
    {
      "cell_type": "code",
      "metadata": {
        "id": "PMnczdaj7DlD",
        "outputId": "d2e76626-dd8e-4e15-f168-dd40926ad376",
        "colab": {
          "base_uri": "https://localhost:8080/",
          "height": 85
        }
      },
      "source": [
        "import sympy\n",
        "import mpmath\n",
        "import numpy as np\n",
        "mpmath.mp.dps = 15\n",
        "print(mpmath.mp)\n",
        "#sympy.init_session()\n",
        "sympy.init_printing(use_latex=False)\n",
        "import scipy.special as scp\n",
        "import scipy.optimize as opt\n",
        "\n",
        "import matplotlib.pyplot as plt\n",
        "%matplotlib inline"
      ],
      "execution_count": null,
      "outputs": [
        {
          "output_type": "stream",
          "text": [
            "Mpmath settings:\n",
            "  mp.prec = 53                [default: 53]\n",
            "  mp.dps = 15                 [default: 15]\n",
            "  mp.trap_complex = False     [default: False]\n"
          ],
          "name": "stdout"
        }
      ]
    },
    {
      "cell_type": "markdown",
      "metadata": {
        "id": "dFo52FKwO13Y"
      },
      "source": [
        "Integral complex number"
      ]
    },
    {
      "cell_type": "code",
      "metadata": {
        "id": "dz7zqjfTO1Cz",
        "outputId": "a9e9f4b7-aa80-4b64-89c3-2870f8e52115",
        "colab": {
          "base_uri": "https://localhost:8080/",
          "height": 850
        }
      },
      "source": [
        "def mylin(x):\n",
        "  return x\n",
        "\n",
        "n = 2\n",
        "\n",
        "def lambda1_integrand(t):\n",
        "  theta = mpmath.exp(t*mpmath.j)\n",
        "  return -mpmath.log(theta*mpmath.zeta(1+theta))*mpmath.power(theta,-2)#/(2*mpmath.pi*mpmath.j)\n",
        "\n",
        "def lambda2_integrand(t):\n",
        "  theta = mpmath.exp(t*mpmath.j)\n",
        "  return -2*mpmath.log(theta*mpmath.zeta(1+theta))*mpmath.power(theta,-3)*(1+theta)#/(2*mpmath.pi*mpmath.j)\n",
        "\n",
        "def lambda3_integrand(t):\n",
        "  theta = mpmath.exp(t*mpmath.j)\n",
        "  return -3*mpmath.log(theta*mpmath.zeta(1+theta))*mpmath.power(theta,-4)*mpmath.power(1+theta,2)\n",
        "\n",
        "def lambda4_integrand(t):\n",
        "  theta = mpmath.exp(t*mpmath.j)\n",
        "  return -4*mpmath.log(theta*mpmath.zeta(1+theta))*mpmath.power(theta,-5)*mpmath.power(1+theta,3)\n",
        "\n",
        "def lambda5_integrand(t):\n",
        "  theta = mpmath.exp(t*mpmath.j)\n",
        "  return -5*mpmath.log(theta*mpmath.zeta(1+theta))*mpmath.power(theta,-6)*mpmath.power(1+theta,4)\n",
        "\n",
        "def lambda6_integrand(t):\n",
        "  theta = mpmath.exp(t*mpmath.j)\n",
        "  return -6*mpmath.log(theta*mpmath.zeta(1+theta))*mpmath.power(theta,-7)*mpmath.power(1+theta,5)\n",
        "\n",
        "def lambda7_integrand(t):\n",
        "  theta = mpmath.exp(t*mpmath.j)\n",
        "  return -7*mpmath.log(theta*mpmath.zeta(1+theta))*mpmath.power(theta,-8)*mpmath.power(1+theta,6)\n",
        "\n",
        "def lambda_integrand(t):\n",
        "  theta = mpmath.exp(t*mpmath.j)\n",
        "  return mpmath.log(theta*mpmath.zeta(1+theta))*mpmath.power(theta,-n)*mpmath.power(1+theta,n-1)\n",
        "\n",
        "#mpmath.quad(mylin,[0,mpmath.j])\n",
        "#lambda1_integrand(1)\n",
        "for n in range(1,50):\n",
        "  print(\"{} --> {}\".format(n,n*mpmath.quad(lambda_integrand,[0,mpmath.pi])/(mpmath.pi)))"
      ],
      "execution_count": null,
      "outputs": [
        {
          "output_type": "stream",
          "text": [
            "1 --> (0.577215664901533 - 0.0605130163441739j)\n",
            "2 --> (0.966885096962701 - 0.833620186083389j)\n",
            "3 --> (1.2206969282167 - 2.14743286757246j)\n",
            "4 --> (1.37558813187126 - 4.3615283810059j)\n",
            "5 --> (1.45826850019717 - 8.25650393681165j)\n",
            "6 --> (1.48829832721222 - 15.3896196382937j)\n",
            "7 --> (1.48019084023884 - 28.8264899674144j)\n",
            "8 --> (1.44485574411943 - 54.5981445042457j)\n",
            "9 --> (1.3905964067913 - 104.590598006883j)\n",
            "10 --> (1.32380368369629 - 202.275641506803j)\n",
            "11 --> (1.24944277582208 - 394.085136674032j)\n",
            "12 --> (1.17139824693906 - 772.004471537845j)\n",
            "13 --> (1.09272131711462 - 1518.48372224896j)\n",
            "14 --> (1.01580941259033 - 2995.76782936648j)\n",
            "15 --> (0.942538421086352 - 5923.67426621112j)\n",
            "16 --> (0.874361661380814 - 11733.5575171478j)\n",
            "17 --> (0.812385212605197 - 23273.3576028421j)\n",
            "18 --> (0.757426282975166 - 46212.4593617463j)\n",
            "19 --> (0.710059274375477 - 91841.8486797339j)\n",
            "20 --> (0.670652812798627 - 182656.902878093j)\n",
            "21 --> (0.639400059775679 - 363490.753607108j)\n",
            "22 --> (0.616343958428758 - 723721.584137444j)\n",
            "23 --> (0.601398606424969 - 1441577.27670953j)\n",
            "24 --> (0.594367623925643 - 2872540.73087508j)\n",
            "25 --> (0.594960154917941 - 5725781.09513989j)\n",
            "26 --> (0.602804976067049 - 11416308.801447j)\n",
            "27 --> (0.617463068636012 - 22767963.5668994j)\n",
            "28 --> (0.63843892251781 - 45416914.3676461j)\n",
            "29 --> (0.66519077766616 - 90614012.791432j)\n",
            "30 --> (0.697139960724929 - 180820763.185644j)\n",
            "31 --> (0.733679438927963 - 360884806.888582j)\n",
            "32 --> (0.774181686199771 - 720359841.577618j)\n",
            "33 --> (0.818005935584422 - 1438086782.59675j)\n",
            "34 --> (0.864504876046879 - 2871245026.59549j)\n",
            "35 --> (0.913030839154165 - 5733244472.52295j)\n",
            "36 --> (0.962941511240477 - 11449110011.8368j)\n",
            "37 --> (1.0136051986795 - 22865491147.0956j)\n",
            "38 --> (1.0644056671428 - 45669236238.3371j)\n",
            "39 --> (1.11474656935467 - 91221788055.3482j)\n",
            "40 --> (1.16405546884086 - 182222724143.027j)\n",
            "41 --> (1.21178745700594 - 364026811869.301j)\n",
            "42 --> (1.2574283439888 - 727258955817.21j)\n",
            "43 --> (1.30049737294 - 1453007429430.54j)\n",
            "44 --> (1.3405493409857 - 2903140125806.2j)\n",
            "45 --> (1.37717589154759 - 5800802475051.71j)\n",
            "46 --> (1.4100054677411 - 11591155081006.3j)\n",
            "47 --> (1.43870092173101 - 23162353230118.7j)\n",
            "48 --> (1.46295268512126 - 46286553227466.7j)\n",
            "49 --> (1.48246319670326 - 92500092937651.3j)\n"
          ],
          "name": "stdout"
        }
      ]
    },
    {
      "cell_type": "markdown",
      "metadata": {
        "id": "fYElmD41dFBc"
      },
      "source": [
        "Integration by parts"
      ]
    },
    {
      "cell_type": "code",
      "metadata": {
        "id": "zR83ZTMbc--3"
      },
      "source": [
        "mpmath.mp.dps = 15\n",
        "\n",
        "def log_zeta_real(t):\n",
        "  theta = mpmath.exp(t*mpmath.j)\n",
        "  zetat = mpmath.zeta(1+theta)\n",
        "  rz = mpmath.fabs(zetat)\n",
        "  #value = (mpmath.log(rz)*mpmath.cos((n+1)*t/2))*mpmath.power(2*mpmath.cos(t/2),n-1)\n",
        "  value = mpmath.log(rz)\n",
        "  return value\n",
        "\n",
        "def log_zeta_imag(t):\n",
        "  theta = mpmath.exp(t*mpmath.j)\n",
        "  zetat = mpmath.zeta(1+theta)\n",
        "  az = mpmath.arg(zetat)\n",
        "  at = mpmath.arg(theta)\n",
        "  #value = ((at + az) * mpmath.sin((n+1)*t/2))*mpmath.power(2*mpmath.cos(t/2),n-1)\n",
        "  value = (at + az) \n",
        "  return value\n",
        "\n",
        "def log_zeta(t):\n",
        "  theta = mpmath.exp(t*mpmath.j)\n",
        "  zetat = mpmath.zeta(1+theta)\n",
        "  return mpmath.log(theta*zetat)\n",
        "\n",
        "Nt = 2000\n",
        "dt = np.arange(-mpmath.pi,mpmath.pi,2*mpmath.pi/Nt)\n",
        "\n",
        "zeta_real = [log_zeta_real(t) for t in dt]\n",
        "zeta_imag = [log_zeta_imag(t) for t in dt]\n",
        "zeta_both_real = [mpmath.re(log_zeta(t)) for t in dt]\n",
        "zeta_both_imag = [mpmath.im(log_zeta(t)) for t in dt]\n"
      ],
      "execution_count": null,
      "outputs": []
    },
    {
      "cell_type": "code",
      "metadata": {
        "id": "vQKW2DZdiYJf"
      },
      "source": [
        "dzeta_both = [mpmath.diff(log_zeta,t) for t in dt]\n",
        "dzeta_both_real = [mpmath.re(z) for z in dzeta_both]\n",
        "dzeta_both_imag = [mpmath.im(z) for z in dzeta_both]"
      ],
      "execution_count": null,
      "outputs": []
    },
    {
      "cell_type": "code",
      "metadata": {
        "id": "hTtqus00dqrw",
        "outputId": "34744cef-5ff7-4b8c-a271-ea94399e976b",
        "colab": {
          "base_uri": "https://localhost:8080/",
          "height": 592
        }
      },
      "source": [
        "plt.figure(figsize=(15,10))\n",
        "plt.plot(dt, zeta_real, 'b.')\n",
        "plt.plot(dt, zeta_imag, 'r.')\n",
        "plt.plot(dt, zeta_both_real, 'c.')\n",
        "plt.plot(dt, zeta_both_imag, 'm.')\n",
        "\n",
        "plt.plot(dt, dzeta_both_real, 'k.')\n",
        "plt.plot(dt, dzeta_both_imag, 'g.')\n",
        "\n",
        "#plt.plot(dn,mypow(dn,*popt),'r-')\n",
        "#plt.xscale('log')\n",
        "#plt.yscale('log')\n",
        "axes = plt.gca()\n",
        "#axes.set_xlim([2020,2060])\n",
        "#axes.set_ylim([-10,10])\n",
        "\n",
        "plt.show()"
      ],
      "execution_count": null,
      "outputs": [
        {
          "output_type": "display_data",
          "data": {
            "image/png": "[encoded data removed]",
            "text/plain": [
              "<Figure size 1080x720 with 1 Axes>"
            ]
          },
          "metadata": {
            "tags": []
          }
        }
      ]
    },
    {
      "cell_type": "code",
      "metadata": {
        "id": "hGn7DnV1kMHc",
        "outputId": "ad5d51fd-4bc5-4339-99e7-c960c9492e68",
        "colab": {
          "base_uri": "https://localhost:8080/",
          "height": 255
        }
      },
      "source": [
        "def part_integrand_12(t):\n",
        "  return mpmath.re(mpmath.diff(log_zeta,t))*mpmath.power(2*mpmath.cos(t/2),n)*mpmath.sin(n*t/2)\n",
        "\n",
        "def part_integrand_3(t):\n",
        "  return mpmath.im(log_zeta(t))*mpmath.power(2*mpmath.cos(t/2),n)*mpmath.sin(n*t/2)\n",
        "\n",
        "def part_integrand_4(t):\n",
        "  return mpmath.im(mpmath.diff(log_zeta,t))*mpmath.power(2*mpmath.cos(t/2),n)*mpmath.cos(n*t/2)\n",
        "\n",
        "mpmath.mp.dps = 15\n",
        "for n in range(1,15):\n",
        "  #print(\"{} --> {}\".format(n,n*mpmath.quad(lambda_integrand_rlarge,[0,2*mpmath.pi])/(2*mpmath.pi)))\n",
        "  coef124 = -2/(2*mpmath.pi*n)\n",
        "  coef3 = 2/(2*mpmath.pi)\n",
        "  i12 = coef124 * mpmath.quad(part_integrand_12,[0,mpmath.pi])\n",
        "  i3 = coef3 * mpmath.quad(part_integrand_3,[0,mpmath.pi])\n",
        "  i4 = coef124 * mpmath.quad(part_integrand_4,[0,mpmath.pi])\n",
        "  tot = i12+i3+i4\n",
        "  print(\"{}: {} + {} + {} = {}\".format(n,i12,i3,i4,n*(i12-i4)))\n"
      ],
      "execution_count": null,
      "outputs": [
        {
          "output_type": "stream",
          "text": [
            "1: 0.288607832450766 + 0.288607832450766 + -0.288607832450766 = 0.577215664901533\n",
            "2: 0.241721274240675 + 0.530329106691442 + -0.241721274240675 = 0.966885096962701\n",
            "3: 0.203449488036116 + 0.733778594727557 + -0.203449488036116 = 1.2206969282167\n",
            "4: 0.171948516483907 + 0.905727111211465 + -0.171948516483907 = 1.37558813187126\n",
            "5: 0.145826850019717 + 1.05155396123118 + -0.145826850019717 = 1.45826850019717\n",
            "6: 0.124024860601018 + 1.1755788218322 + -0.124024860601018 = 1.48829832721222\n",
            "7: 0.105727917159917 + 1.28130673899212 + -0.105727917159917 = 1.48019084023884\n",
            "8: 0.0903034840074645 + 1.37161022299958 + -0.0903034840074645 = 1.44485574411943\n",
            "9: 0.0772553559328498 + 1.44886557893243 + -0.0772553559328498 = 1.3905964067913\n",
            "10: 0.0661901841848147 + 1.51505576311725 + -0.0661901841848147 = 1.32380368369629\n",
            "11: 0.0567928534464583 + 1.5718486165637 + -0.0567928534464583 = 1.24944277582208\n",
            "12: 0.0488082602891276 + 1.62065687685283 + -0.0488082602891276 = 1.17139824693906\n",
            "13: 0.0420277429659469 + 1.66268461981878 + -0.0420277429659468 = 1.09272131711462\n",
            "14: 0.036278907592512 + 1.69896352741129 + -0.036278907592512 = 1.01580941259034\n"
          ],
          "name": "stdout"
        }
      ]
    },
    {
      "cell_type": "code",
      "metadata": {
        "id": "wBHv3xsFufW2",
        "outputId": "1aab711d-4da4-45e3-e930-faf52169b2e4",
        "colab": {
          "base_uri": "https://localhost:8080/",
          "height": 255
        }
      },
      "source": [
        "def lambda_integrand_parts(t):\n",
        "  return mpmath.diff(log_zeta,t)*mpmath.power(2*mpmath.cos(t/2),n)*mpmath.power(mpmath.exp(-t*mpmath.j/2),n)\n",
        "\n",
        "mpmath.mp.dps = 15\n",
        "for n in range(1,15):\n",
        "  coef = -mpmath.j/(2*mpmath.pi*n)\n",
        "  iparts = coef * mpmath.quad(lambda_integrand_parts,[-mpmath.pi,mpmath.pi])\n",
        "  print(\"{}: {}\".format(n,n*iparts))\n"
      ],
      "execution_count": null,
      "outputs": [
        {
          "output_type": "stream",
          "text": [
            "1: (0.577215664901533 + 1.64648764033084e-24j)\n",
            "2: (0.966885096962701 - 7.6799004432776e-24j)\n",
            "3: (1.2206969282167 - 9.09715677609306e-24j)\n",
            "4: (1.37558813187126 + 9.25176958605909e-24j)\n",
            "5: (1.45826850019717 + 2.82945235760506e-22j)\n",
            "6: (1.48829832721222 - 1.21039713004468e-23j)\n",
            "7: (1.48019084023884 - 1.85818521601795e-22j)\n",
            "8: (1.44485574411943 - 2.06002736101369e-21j)\n",
            "9: (1.3905964067913 - 5.47967030433057e-21j)\n",
            "10: (1.32380368369629 - 1.19910612008097e-21j)\n",
            "11: (1.24944277582208 - 3.44297187439018e-21j)\n",
            "12: (1.17139824693906 - 1.31774961401763e-21j)\n",
            "13: (1.09272131711462 - 6.07004374241083e-21j)\n",
            "14: (1.01580941259034 - 1.65973070115714e-20j)\n"
          ],
          "name": "stdout"
        }
      ]
    },
    {
      "cell_type": "code",
      "metadata": {
        "id": "Dh4RgUdQGND5"
      },
      "source": [
        "# my own derivative of the logarithmic function\n",
        "\n",
        "def deriv_log_zeta(x):\n",
        "  theta = mpmath.exp(x*mpmath.j)\n",
        "  term = mpmath.zeta(1+theta,derivative=1)/mpmath.zeta(1+theta)\n",
        "  const = 1  \n",
        "  return mpmath.j*(const + term*theta)\n",
        "\n",
        "my_dzeta_both = [deriv_log_zeta(t) for t in dt]\n",
        "my_dzeta_both_real = [mpmath.re(z) for z in my_dzeta_both]\n",
        "my_dzeta_both_imag = [mpmath.im(z) for z in my_dzeta_both]"
      ],
      "execution_count": null,
      "outputs": []
    },
    {
      "cell_type": "code",
      "metadata": {
        "id": "TdtozG1RHDU3",
        "outputId": "9e0d6cc3-072b-4351-e24a-9176d3668751",
        "colab": {
          "base_uri": "https://localhost:8080/",
          "height": 592
        }
      },
      "source": [
        "plt.figure(figsize=(15,10))\n",
        "plt.plot(dt, dzeta_both_real, 'b.')\n",
        "plt.plot(dt, dzeta_both_imag, 'r.')\n",
        "plt.plot(dt, my_dzeta_both_real, 'c-')\n",
        "plt.plot(dt, my_dzeta_both_imag, 'm-')\n",
        "\n",
        "#plt.plot(dn,mypow(dn,*popt),'r-')\n",
        "#plt.xscale('log')\n",
        "#plt.yscale('log')\n",
        "axes = plt.gca()\n",
        "#axes.set_xlim([2020,2060])\n",
        "#axes.set_ylim([-10,10])\n",
        "\n",
        "plt.show()"
      ],
      "execution_count": null,
      "outputs": [
        {
          "output_type": "display_data",
          "data": {
            "image/png": "[encoded data removed]",
            "text/plain": [
              "<Figure size 1080x720 with 1 Axes>"
            ]
          },
          "metadata": {
            "tags": []
          }
        }
      ]
    },
    {
      "cell_type": "code",
      "metadata": {
        "id": "ZAwvWT9ALmcu",
        "outputId": "b3c29ef2-7690-4f11-83ee-b77379fa34d4",
        "colab": {
          "base_uri": "https://localhost:8080/",
          "height": 272
        }
      },
      "source": [
        "def my_deriv_log_zeta(x):\n",
        "  theta = mpmath.exp(x*mpmath.j)\n",
        "  term = mpmath.zeta(1+theta,derivative=1)/mpmath.zeta(1+theta) \n",
        "  return term*theta\n",
        "\n",
        "def my_deriv_log_zeta_split(x):\n",
        "  theta = mpmath.exp(x*mpmath.j)\n",
        "  term = mpmath.zeta(1+theta,derivative=1)/mpmath.zeta(1+theta) \n",
        "  return term\n",
        "\n",
        "print(\"test: {} vs {}\".format(my_deriv_log_zeta_split(-mpmath.pi),mpmath.zeta(0,derivative=1)/mpmath.zeta(0) ))\n",
        "\n",
        "def my_lambda_integrand_parts(t):\n",
        "  return my_deriv_log_zeta_split(t)*mpmath.exp(t*mpmath.j)*mpmath.power(2*mpmath.cos(t/2),n)*mpmath.power(mpmath.exp(t*mpmath.j/2),-n)\n",
        "\n",
        "mpmath.mp.dps = 15\n",
        "for n in range(1,15):\n",
        "  coef = 1/(2*mpmath.pi*n)\n",
        "  iparts = 1/n + coef * mpmath.quad(my_lambda_integrand_parts,[-mpmath.pi,mpmath.pi])\n",
        "  print(\"{}: {}\".format(n,n*iparts))\n"
      ],
      "execution_count": null,
      "outputs": [
        {
          "output_type": "stream",
          "text": [
            "test: (1.83787706640935 - 7.7744013812251e-17j) vs 1.83787706640935\n",
            "1: (0.577215664901533 + 1.27302974385121e-23j)\n",
            "2: (0.966885096962701 + 1.97773851350109e-23j)\n",
            "3: (1.2206969282167 + 5.63651376653123e-24j)\n",
            "4: (1.37558813187126 - 4.10178125531395e-23j)\n",
            "5: (1.45826850019717 - 2.14295712684215e-22j)\n",
            "6: (1.48829832721222 - 5.16129572894169e-22j)\n",
            "7: (1.48019084023884 - 1.12342313568413e-21j)\n",
            "8: (1.44485574411943 - 8.59080879220318e-22j)\n",
            "9: (1.3905964067913 - 3.20660195280269e-21j)\n",
            "10: (1.32380368369629 - 8.45510799181623e-21j)\n",
            "11: (1.24944277582208 - 4.37769522764307e-21j)\n",
            "12: (1.17139824693906 - 1.08187999529865e-20j)\n",
            "13: (1.09272131711462 - 5.82027020014381e-21j)\n",
            "14: (1.01580941259034 + 3.49447971350393e-20j)\n"
          ],
          "name": "stdout"
        }
      ]
    },
    {
      "cell_type": "code",
      "metadata": {
        "id": "8VrBjKefXNqe"
      },
      "source": [
        "my_dzeta_split = [mpmath.re(my_deriv_log_zeta_split(t)) for t in dt]\n"
      ],
      "execution_count": null,
      "outputs": []
    },
    {
      "cell_type": "code",
      "metadata": {
        "id": "vYwoZeK1doix",
        "outputId": "4bb09f22-e497-4cde-ffce-ffeacf4a591c",
        "colab": {
          "base_uri": "https://localhost:8080/",
          "height": 122
        }
      },
      "source": [
        "mpmath.mp.dps = 1000\n",
        "\n",
        "from google.colab import drive\n",
        "drive.mount('/content/gdrive')\n",
        "DATA_PATH = \"/content/gdrive/My Drive/Colab Notebooks/math/gammas\"\n",
        "import pickle\n",
        "pickle_in = open(DATA_PATH+'/taylor_digits1000_n1000.pkl', 'rb')\n",
        "taylor_coefs = pickle.load(pickle_in)\n",
        "my_taylor_coef = [mpmath.re(my_deriv_log_zeta_split(mpmath.pi))] + taylor_coefs"
      ],
      "execution_count": null,
      "outputs": [
        {
          "output_type": "stream",
          "text": [
            "Go to this URL in a browser: https://accounts.google.com/o/oauth2/auth?client_id=947318989803-6bn6qk8qdgf4n4g3pfee6491hc0brc4i.apps.googleusercontent.com&redirect_uri=urn%3aietf%3awg%3aoauth%3a2.0%3aoob&response_type=code&scope=email%20https%3a%2f%2fwww.googleapis.com%2fauth%2fdocs.test%20https%3a%2f%2fwww.googleapis.com%2fauth%2fdrive%20https%3a%2f%2fwww.googleapis.com%2fauth%2fdrive.photos.readonly%20https%3a%2f%2fwww.googleapis.com%2fauth%2fpeopleapi.readonly\n",
            "\n",
            "Enter your authorization code:\n",
            "··········\n",
            "Mounted at /content/gdrive\n"
          ],
          "name": "stdout"
        }
      ]
    },
    {
      "cell_type": "code",
      "metadata": {
        "id": "zNzgfuZWRGVN",
        "outputId": "8189b518-01d5-474f-e9d0-d66ebb7c298f",
        "colab": {
          "base_uri": "https://localhost:8080/",
          "height": 68
        }
      },
      "source": [
        "mpmath.mp.dps = 25\n",
        "\n",
        "def log_deriv_zeta(x):\n",
        "  return mpmath.zeta(x,derivative=1)/mpmath.zeta(x)\n",
        "\n",
        "for p in range(0,3):\n",
        "  #zetap = mpmath.zeta(p+1)**(1,-1)[p%2]\n",
        "  lgdzp = mpmath.diff(log_deriv_zeta,0,n=p)/mpmath.gamma(p+1)\n",
        "  print(\"(Z'/Z)({})(0) = {}\".format(p,lgdzp))\n",
        "  #relgdzp = log_deriv_zeta_zero(p)#/mpmath.gamma(n+1)\n",
        "  #print(\"(Z'/Z)({})(0) = {} vs {} | % Z({}) --> {}\".format(p,lgdzp,relgdzp,p,lgdzp/zetap))"
      ],
      "execution_count": null,
      "outputs": [
        {
          "output_type": "stream",
          "text": [
            "(Z'/Z)(0)(0) = 1.837877066409345483560659\n",
            "(Z'/Z)(1)(0) = 0.6349208005837479936390042\n",
            "(Z'/Z)(2)(0) = 1.15036827112640139159773\n"
          ],
          "name": "stdout"
        }
      ]
    },
    {
      "cell_type": "code",
      "metadata": {
        "id": "mk11kGjxY6Vn",
        "outputId": "88743bc5-3db7-4e44-ac47-401b827642e3",
        "colab": {
          "base_uri": "https://localhost:8080/",
          "height": 102
        }
      },
      "source": [
        "mpmath.mp.dps = 25\n",
        "\n",
        "my_taylor_coef = []\n",
        "for p in range(5):\n",
        "  coef = mpmath.diff(log_deriv_zeta,0,n=p)/mpmath.gamma(p+1)\n",
        "  print(\"{} --> {}\".format(p,coef))\n",
        "  my_taylor_coef.append(coef)\n",
        "# slow convergence"
      ],
      "execution_count": null,
      "outputs": [
        {
          "output_type": "stream",
          "text": [
            "0 --> 1.837877066409345483560659\n",
            "1 --> 0.6349208005837479936390042\n",
            "2 --> 1.15036827112640139159773\n",
            "3 --> 0.932281170671792173511923\n",
            "4 --> 1.032403277254874547590119\n"
          ],
          "name": "stdout"
        }
      ]
    },
    {
      "cell_type": "code",
      "metadata": {
        "id": "ulA9wXV7Xz_i"
      },
      "source": [
        "mpmath.mp.dps = 200\n",
        "\n",
        "my_taylor_coef = [mpmath.re(my_deriv_log_zeta_split(mpmath.pi))] + taylor_coefs\n",
        "def my_taylor_expansion_split(x):\n",
        "  x = 1 + mpmath.exp(x*mpmath.j)\n",
        "  tot = 0\n",
        "  for p in range(50):\n",
        "    tot += my_taylor_coef[p]*mpmath.power(x,p)\n",
        "  return mpmath.re(tot)\n",
        "                                                                                        \n",
        "my_taylor_expansion = [my_taylor_expansion_split(t) for t in dt]"
      ],
      "execution_count": null,
      "outputs": []
    },
    {
      "cell_type": "code",
      "metadata": {
        "id": "yiLkOddUDt03"
      },
      "source": [
        "# using reflective of log deriv\n",
        "mpmath.mp.dps = 15\n",
        "\n",
        "def deriv_log_zeta_reflect(x):\n",
        "  theta = mpmath.exp(x*mpmath.j)\n",
        "  dig = mpmath.digamma(-theta)\n",
        "  logderiv = mpmath.zeta(-theta,derivative=1)/mpmath.zeta(-theta)\n",
        "  tantheta = mpmath.tan(theta*mpmath.pi/2)*mpmath.pi/2\n",
        "  return -dig-logderiv-tantheta+mpmath.log(2*mpmath.pi)\n",
        "\n",
        "def deriv_log_zeta_reflect_new(x):\n",
        "  theta = mpmath.exp(x*mpmath.j)\n",
        "  dig = mpmath.digamma(-theta/2)\n",
        "  digi = mpmath.digamma((1+theta)/2)\n",
        "  logderiv = mpmath.zeta(-theta,derivative=1)/mpmath.zeta(-theta)\n",
        "  return -logderiv-(dig+digi)/2+mpmath.log(mpmath.pi)\n",
        "\n",
        "reflect_new_dzeta = [mpmath.re(deriv_log_zeta_reflect_new(t)) for t in dt]\n",
        "reflect_dzeta = [mpmath.re(deriv_log_zeta_reflect(t)) for t in dt]\n"
      ],
      "execution_count": null,
      "outputs": []
    },
    {
      "cell_type": "code",
      "metadata": {
        "id": "YcObjpe5fJIn",
        "outputId": "959e7c2d-b3b9-4464-df78-a2676c506f66",
        "colab": {
          "base_uri": "https://localhost:8080/",
          "height": 596
        }
      },
      "source": [
        "plt.figure(figsize=(15,10))\n",
        "plt.plot(dt, my_dzeta_split, 'b.')\n",
        "plt.plot(dt, my_taylor_expansion, 'c.')\n",
        "#plt.plot(dt, reflect_dzeta, 'k-')\n",
        "plt.plot(dt, reflect_new_dzeta, 'r-')\n",
        "\n",
        "#plt.plot(dn,mypow(dn,*popt),'r-')\n",
        "#plt.xscale('log')\n",
        "#plt.yscale('log')\n",
        "axes = plt.gca()\n",
        "#axes.set_xlim([2020,2060])\n",
        "axes.set_ylim([-2,2])\n",
        "\n",
        "plt.show()"
      ],
      "execution_count": null,
      "outputs": [
        {
          "output_type": "display_data",
          "data": {
            "image/png": "[encoded data removed]",
            "text/plain": [
              "<Figure size 1080x720 with 1 Axes>"
            ]
          },
          "metadata": {
            "tags": []
          }
        }
      ]
    },
    {
      "cell_type": "code",
      "metadata": {
        "id": "k3TbAacUIhqs",
        "outputId": "07ff25e6-bc06-4d00-93cf-bba335bcef3b",
        "colab": {
          "base_uri": "https://localhost:8080/",
          "height": 255
        }
      },
      "source": [
        "def reflect_lambda_integrand(t):\n",
        "  return deriv_log_zeta_reflect(t)*mpmath.exp(t*mpmath.j)*mpmath.power(2*mpmath.cos(t/2),n)*mpmath.power(mpmath.exp(t*mpmath.j/2),-n)\n",
        "\n",
        "def reflect_new_lambda_integrand(t):\n",
        "  return deriv_log_zeta_reflect_new(t)*mpmath.exp(t*mpmath.j)*mpmath.power(2*mpmath.cos(t/2),n)*mpmath.power(mpmath.exp(t*mpmath.j/2),-n)\n",
        "\n",
        "mpmath.mp.dps = 15\n",
        "for n in range(1,15):\n",
        "  coef = 1/(mpmath.pi*n)\n",
        "  iparts = 1/n + coef * mpmath.quad(reflect_new_lambda_integrand,[0,mpmath.pi])\n",
        "  print(\"{}: {}\".format(n,n*iparts))"
      ],
      "execution_count": null,
      "outputs": [
        {
          "output_type": "stream",
          "text": [
            "1: (0.577215664901533 + 0.89295260928961j)\n",
            "2: (0.966885096962701 + 1.07331106518418j)\n",
            "3: (1.2206969282167 + 1.24201645338429j)\n",
            "4: (1.37558813187126 + 1.56854389775082j)\n",
            "5: (1.45826850019717 + 2.24551843965095j)\n",
            "6: (1.48829832721222 + 3.57724184305522j)\n",
            "7: (1.48019084023884 + 6.09996245152804j)\n",
            "8: (1.44485574411943 + 10.7923588816149j)\n",
            "9: (1.3905964067913 + 19.4644703443965j)\n",
            "10: (1.32380368369629 + 35.4868976258438j)\n",
            "11: (1.24944277582208 + 65.1659926858567j)\n",
            "12: (1.17139824693906 + 120.346586050702j)\n",
            "13: (1.09272131711462 + 223.351841876273j)\n",
            "14: (1.01580941259034 + 416.381862253921j)\n"
          ],
          "name": "stdout"
        }
      ]
    },
    {
      "cell_type": "code",
      "metadata": {
        "id": "70drrCgBJxdT",
        "outputId": "a35ed636-7d68-473d-a559-7e8184a1fd8e",
        "colab": {
          "base_uri": "https://localhost:8080/",
          "height": 850
        }
      },
      "source": [
        "def deriv_log_zeta_reflect_terms(x):\n",
        "  theta = mpmath.exp(x*mpmath.j)\n",
        "  #dig = mpmath.digamma(-theta)\n",
        "  logderiv = mpmath.zeta(-theta,derivative=1)/mpmath.zeta(-theta)\n",
        "  #tantheta = mpmath.tan(theta*mpmath.pi/2)*mpmath.pi/2\n",
        "  return -logderiv #-dig-tantheta #mpmath.log(2*mpmath.pi) #\n",
        "\n",
        "def reflect_lambda_integrand_terms(t):\n",
        "  return deriv_log_zeta_reflect_terms(t)*mpmath.exp(t*mpmath.j)*mpmath.power(2*mpmath.cos(t/2),n)*mpmath.power(mpmath.exp(t*mpmath.j/2),-n)\n",
        "\n",
        "def deriv_log_zeta_reflect_new_terms(x):\n",
        "  theta = mpmath.exp(x*mpmath.j)\n",
        "  #dig = mpmath.digamma(-theta/2)\n",
        "  #digi = mpmath.digamma((1+theta)/2)\n",
        "  logderiv = mpmath.zeta(-theta,derivative=1)/mpmath.zeta(-theta)\n",
        "  return -logderiv #-digi/2 + mpmath.log(mpmath.pi)#-(dig/2+logderiv)#+ mpmath.log(mpmath.pi) # -digi/2 + mpmath.log(mpmath.pi)#+\n",
        "\n",
        "def reflect_new_lambda_integrand_terms(t):\n",
        "  return deriv_log_zeta_reflect_new_terms(t)*mpmath.exp(t*mpmath.j)*mpmath.power(2*mpmath.cos(t/2),n)*mpmath.power(mpmath.exp(t*mpmath.j/2),-n)\n",
        "\n",
        "mpmath.mp.dps = 25\n",
        "for n in range(1,50):\n",
        "  coef = 1/(2*mpmath.pi)\n",
        "  iparts = coef * mpmath.quad(reflect_new_lambda_integrand_terms,[-mpmath.pi,mpmath.pi])\n",
        "  print(\"{}: {}\".format(n,iparts))"
      ],
      "execution_count": null,
      "outputs": [
        {
          "output_type": "stream",
          "text": [
            "1: (-1.837877066409345483560659 + 5.133316683337344454567583e-34j)\n",
            "2: (-3.040833332234942973482315 - 7.785791443045443353569195e-34j)\n",
            "3: (-4.759237068603193861362696 - 4.147813079080474336241123e-33j)\n",
            "4: (-7.211175375968707365287609 + 5.663022004748137225741757e-33j)\n",
            "5: (-10.71485746136917507742106 + 1.592834254659789450830938e-32j)\n",
            "6: (-15.73691361958733559063714 + 4.202285978795373069116598e-32j)\n",
            "7: (-22.96446765152376662598318 + 6.403244004193040810685723e-32j)\n",
            "8: (-33.41278263152575841379001 - 1.12379422768588743953361e-31j)\n",
            "9: (-48.58615916147300248254627 - 2.702890073112344193601324e-31j)\n",
            "10: (-70.71857905684905002623075 - 8.48145155097116755332825e-31j)\n",
            "11: (-103.1338018551404276217356 - 1.716622784543046436584413e-30j)\n",
            "12: (-150.7844353992728713133555 - 5.043200639526829898193832e-30j)\n",
            "13: (-221.0592128172411404924694 - 8.116709623910268671197702e-30j)\n",
            "14: (-324.9922627018785539896048 - 1.087178504432631237110355e-29j)\n",
            "15: (-479.0749759113229144063283 - 1.795031040142880499754495e-29j)\n",
            "16: (-707.9712785001692030942708 - 6.421050211983649517266471e-30j)\n",
            "17: (-1048.587405937873895108902 - 2.243241454963282549513245e-29j)\n",
            "18: (-1556.172672947193969681658 - 7.30818265645406463141041e-29j)\n",
            "19: (-2313.465795519058069879144 - 1.620343097274072049247756e-29j)\n",
            "20: (-3444.408369408357367183187 - 8.942686758541973987625445e-29j)\n",
            "21: (-5134.707624155874561920847 - 9.498293241971219957194551e-28j)\n",
            "22: (-7662.671272810176775586877 + 5.683002940022858109564737e-28j)\n",
            "23: (-11445.44824062655375688435 - 3.235227331529615135327143e-28j)\n",
            "24: (-17108.37539009866514880848 + 3.081761158267315372248636e-27j)\n",
            "25: (-25588.97972276277165015381 + 1.635081442348247288009182e-26j)\n",
            "26: (-38292.95941051555336473807 + 7.403084692648599734642042e-27j)\n",
            "27: (-57328.12760248371511771509 + 7.731971091287678474948233e-27j)\n",
            "28: (-85855.29357477907254930329 + 1.027830422931100332227236e-25j)\n",
            "29: (-128614.541386943500545135 + 2.310556519211313355700296e-25j)\n",
            "30: (-192714.5941846490598482182 + 1.634772103844296189365949e-25j)\n",
            "31: (-288816.7937286385591311766 - 9.096801675326192833306698e-25j)\n",
            "32: (-432910.9862370296593752995 - 3.011040868791566883018274e-24j)\n",
            "33: (-648979.2470725692031859236 - 4.776239772139927614838428e-24j)\n",
            "34: (-972991.3379535390998697763 - 1.221108871807462917009279e-23j)\n",
            "35: (-1458897.730814052499484243 - 2.602794670387360680646275e-23j)\n",
            "36: (-2187618.941518970626549627 - 7.502010592167250409597932e-23j)\n",
            "37: (-3280529.278270216260604404 - 1.315745128486382639973121e-22j)\n",
            "38: (-4919682.149505288512787046 - 2.491242635587985363977601e-22j)\n",
            "39: (-7378147.632932256303992272 - 4.750909350041681347109558e-22j)\n",
            "40: (-11065518.33873429887724879 - 9.106189173254772456929801e-22j)\n",
            "41: (-16596167.59221661410252402 - 2.109702092075108855132344e-21j)\n",
            "42: (-24891635.94347628296629849 - 1.914612633876177331631418e-21j)\n",
            "43: (-37334209.97757533440115588 - 9.982675583107084306942229e-21j)\n",
            "44: (-55997289.33809753911348497 - 1.211770389113594418876172e-20j)\n",
            "45: (-83990935.77426222592840884 - 9.71602342931077324064876e-22j)\n",
            "46: (-125980194.8529524520347007 - 5.540561194767504068523717e-20j)\n",
            "47: (-188962576.2053522314853375 - 9.194062631663566320902214e-20j)\n",
            "48: (-283434270.9973512903225079 - 2.261943133234033965679636e-19j)\n",
            "49: (-425139474.5132756505394601 - 3.225405250924611590251221e-19j)\n"
          ],
          "name": "stdout"
        }
      ]
    },
    {
      "cell_type": "code",
      "metadata": {
        "id": "anHlkOQsTUvK",
        "outputId": "9059cc65-d722-4025-ee2a-bacc98e0bcee",
        "colab": {
          "base_uri": "https://localhost:8080/",
          "height": 425
        }
      },
      "source": [
        "mpmath.mp.dps = 25\n",
        "\n",
        "def real_integrand_offset(t):\n",
        "  return mpmath.power(2*mpmath.cos(t/2),n)*mpmath.cos((n-2)*t/2)\n",
        "\n",
        "for n in range(1,25):\n",
        "  ioff = mpmath.quad(real_integrand_offset,[-mpmath.pi,mpmath.pi])/(2*mpmath.pi)\n",
        "  print(\"Integral({}) = {}\".format(n,ioff))"
      ],
      "execution_count": null,
      "outputs": [
        {
          "output_type": "stream",
          "text": [
            "Integral(1) = 1.0\n",
            "Integral(2) = 2.0\n",
            "Integral(3) = 3.0\n",
            "Integral(4) = 4.0\n",
            "Integral(5) = 5.0\n",
            "Integral(6) = 6.0\n",
            "Integral(7) = 7.0\n",
            "Integral(8) = 8.0\n",
            "Integral(9) = 9.0\n",
            "Integral(10) = 10.0\n",
            "Integral(11) = 11.0\n",
            "Integral(12) = 12.0\n",
            "Integral(13) = 13.0\n",
            "Integral(14) = 14.0\n",
            "Integral(15) = 15.0\n",
            "Integral(16) = 16.0\n",
            "Integral(17) = 17.0\n",
            "Integral(18) = 18.0\n",
            "Integral(19) = 19.0\n",
            "Integral(20) = 20.0\n",
            "Integral(21) = 21.0\n",
            "Integral(22) = 22.0\n",
            "Integral(23) = 23.0\n",
            "Integral(24) = 24.0\n"
          ],
          "name": "stdout"
        }
      ]
    },
    {
      "cell_type": "code",
      "metadata": {
        "id": "1wan9Z9U78Iu",
        "colab": {
          "base_uri": "https://localhost:8080/",
          "height": 54
        },
        "outputId": "d201fbe3-07e3-41b4-d9f9-010d76d50612"
      },
      "source": [
        "# tests of euler-maclaurin formula\n",
        "\n",
        "mpmath.mp.dps = 1000\n",
        "\n",
        "def p2_func(x):\n",
        "  b2 = mpmath.power(x - mpmath.floor(x),2) - (x - mpmath.floor(x)) + 1/6\n",
        "  return b2/mpmath.power(x,3)\n",
        "\n",
        "pval = mpmath.quad(p2_func,[1,10000000000])\n",
        "print(pval)\n"
      ],
      "execution_count": null,
      "outputs": [
        {
          "output_type": "stream",
          "text": [
            "0.006118405345747618143254571064658217467608980856384453159378792618248594517465780941460692830173532108349736696180279260147297365019066759389857401947997036442492236225528349288470076074489550034706607671730974050942208090617162446872787384811717020765796421574910296029290351488881515389564445619826396276062172005373076396956989888779787339056419643992716275294705701689651168568416253721841988553811807570167214855921529179850324432730045516616253252550585259810961205315488316668303176992829100984824484870804599555076616771057547780197095720005235987879594757837784038052625687566428856474535070094260133806074399733690158892146888036628562717583366553216124484404583355271018592655012602512693699195891867501462804553798509750344334004764502548197202515869502153000196868067086837223339921969924166501737356276581872198671944500404815964548327741743391766658971564187359734297954749645241212161612609850586281804429315470184167713198126801441038425554707257821335371066605027573239863172745492597\n"
          ],
          "name": "stdout"
        }
      ]
    },
    {
      "cell_type": "code",
      "metadata": {
        "id": "M-9kbMhSgzrq",
        "outputId": "29410705-4761-4d1f-a932-a69fa3bc43cb",
        "colab": {
          "base_uri": "https://localhost:8080/",
          "height": 514
        }
      },
      "source": [
        "mpmath.mp.dps = 500\n",
        "\n",
        "def digamma_integrand_slowgrow(t):\n",
        "  digi = mpmath.digamma((1+mpmath.exp(t*mpmath.j))/2)\n",
        "  return mpmath.re(digi*mpmath.exp(t*mpmath.j)*mpmath.power(2*mpmath.cos(t/2),n)*mpmath.power(mpmath.exp(t*mpmath.j/2),-n))\n",
        "\n",
        "def digamma_integrand_fastgrow(t):\n",
        "  dig = mpmath.digamma(-mpmath.exp(t*mpmath.j)/2)\n",
        "  return mpmath.re(dig*mpmath.exp(t*mpmath.j)*mpmath.power(2*mpmath.cos(t/2),n)*mpmath.power(mpmath.exp(t*mpmath.j/2),-n))\n",
        "\n",
        "def digamma_sum_binomial(n):\n",
        "  tot = -2 - mpmath.euler*n\n",
        "  for p in range(1,100):\n",
        "    zetap = mpmath.zeta(1+p)\n",
        "    sign = (-1,1)[p%2]\n",
        "    tot += sign*zetap*sympy.binomial(n+p,p+1)/mpmath.power(2,p)\n",
        "  return tot\n",
        "\n",
        "def digamma_sum_generate(n):\n",
        "  tot = -2 - mpmath.euler*n\n",
        "  part = 0\n",
        "  for k in range(1,1000*n):\n",
        "    part += mpmath.power(1/(1+1/(2*k)),n)-1 + n/(2*k)\n",
        "  return tot+2*part\n",
        "\n",
        "def digamma_em_formula(n):\n",
        "  #return n*(mpmath.log(n/2)-1/2)\n",
        "  #return -1 + n*(mpmath.log(n/2)-1/2-mpmath.power(2/3,n+1)/12)+mpmath.power(2/3,n)/2\n",
        "  # precise error < 3\n",
        "  return n*(mpmath.log(n/2)+0.00612-1/2+1/12)\n",
        "\n",
        "def digamma_fastgrow_sum_binomial(n):\n",
        "  tot = +2 - mpmath.euler*n\n",
        "  for p in range(1,100):\n",
        "    zetap = mpmath.zeta(1+p)\n",
        "    tot -= zetap*sympy.binomial(n,p+1)/mpmath.power(2,p)\n",
        "  return tot\n",
        "\n",
        "def digamma_fastgrow_generate(n):\n",
        "  tot = +2 - mpmath.euler*n\n",
        "  part = 0\n",
        "  for k in range(1,100*n):\n",
        "    part += mpmath.power(1+1/(2*k),n)-1 - n/(2*k)\n",
        "  return tot-2*part\n",
        "\n",
        "for n in range(500,700,25):\n",
        "  idis = mpmath.quad(digamma_integrand_slowgrow,[-mpmath.pi,mpmath.pi])/(2*mpmath.pi)\n",
        "  #idif = mpmath.quad(digamma_integrand_fastgrow,[-mpmath.pi,mpmath.pi])/(2*mpmath.pi)\n",
        "  #sumdigf = digamma_fastgrow_sum_binomial(n)\n",
        "  #generatef = digamma_fastgrow_generate(n)\n",
        "  #ratiof = abs(generatef-idif)/abs(idif)\n",
        "  #sumdig = digamma_sum_binomial(n)\n",
        "  #generate = digamma_sum_generate(n)\n",
        "  emformula = digamma_em_formula(n)\n",
        "  ratio = abs(emformula-idis)/abs(idis)\n",
        "  #print(\"Integral({}) = {} vs {} vs {} --> {}\".format(n,idif,sumdigf,generatef,ratiof))\n",
        "  #print(\"Integral({}) = {} vs {} vs {} --> {}\".format(n,idis,sumdig,generate,ratio))\n",
        "  #print(\"Integral({}) = {} vs {} vs {} --> {}\".format(n,idis,generate,emformula,ratio))\n",
        "  print(\"Integral({}) = {} vs {} --> {}\".format(n,idis,emformula,ratio))\n",
        "  #print(\"Approx({}) = {}\".format(n,generate/(n*(mpmath.log(n)**1.1))))\n",
        "  "
      ],
      "execution_count": null,
      "outputs": [
        {
          "output_type": "stream",
          "text": [
            "Integral(500) = 2548.8381247152896467860275140683849998177354503120055413259405455605157103323740786482556082422180611112368461582139941205986809283603170994482683559768525578655431146918852993378301103144281723199037779443344773236275039179482376854769154468580154929547347284956837712254935904140702507101448767859364437737045431039642507820737534570657541582550130265757736616701413344692391856940492449842627268743995700701672666716535732665203226924829157394278693949858501482818222813531813394289092503474660995 vs 2555.457125597789880749600382480872838844484073327700962858999341957965292546334004748132480637978759970950195042858687216428767961866079577966760302013096572293633241659960586075392803615458124321466907848083568643704148769876651856615264674595081361685723414458540637247034829754982980271291648289417222185761398609041960225543458122321514262468736060194427926284322055760404776060514746152880264575706092256062767751679808555489041002777698914240893968499325128396160532064976803649571608401263435 --> 0.0025968698515287586952005190945669296586375835188839947228155812749077842807010323291122045954042392026840406559512800887467023563989549713456994321601055696554661859524671254596122370798102889939216138025778744700729997415448803620848345398966167356805237620062110075701554561013669604322690994274347744733254729765908580154614895931489892799411086190504350303078550793254710748398369452535261166859636955954067187221633571333448313632270504503157785659684187571783914431896856042974216221262477181425\n",
            "Integral(525) = 2701.9198834098347897829934896527399671970128648525573869974900253515516083693588034931384580549981144295650946759900961835287179755814770947926309109597822319585591478982520410140683193255778093802079653973331553357187562216814552151416602833311997187392117972366349345359928354604191366814146043743248491688484534945038657348060388595344912407939148492054731815192097577174023424100348768018603742411260551247595705627848355854842612187913990196127684853456718559864046435014106392954210933346291445 vs 2708.8448180666311763964019638220779265558944508122667762729895099407702174435570003657313083605606786654554953547014595279234795209122524658790692858423446818344249442631668835061136538576503482538238647540805305664737876602327416683334215047419086468886006841403630702000416994600682150877709938613496976873363089824560667027211646294874041392514706850057817900015240813072995465230076797932549652939887112323353985266641448540444373157888215632835429340278422767367128224805150322744398170960097835 --> 0.0025629681691586978460311421230459071164212270813825264523734226185768054171986903806257221467745697632579658510895440043038456098783243867045325723694008561285363880807610647264184922388325855174805043163510575514663436476445442132481132209405206462919578700542914509422847069985225476549908456420875869306061547707878464383663312044606471352066285997811781341673798281351929503871307822488916084724541581831123007637191754622178909048522508046382861880261944165583087320915085930413067463839540022942\n",
            "Integral(550) = 2856.1925678973558570515172924627661975868032623086998616846053097243904132783795565970257322747452024710400445354641263431118300548680081291885713939233810820766719730272755199670157510204615971053148041847518311782506071533705586111237929746663250226944631715362053385692947932924423357387024838867425967935118528791490894757615610211257398431571567341452033973446376319462696803447624088363491868088224060714299540062078499780418846927115038788159184515060444457345456081941620837449760974071795298 vs 2863.4234370499475418487340885333809234502654315802253686967811706434123796307037332844273553039467071580565825623630183769369687894848268870423945941506857360858006499212728733430455091884417132309772358060889756025971396453609912691313955560312162889305410388960356427886413468432020646078122133713244486797688572495798002257091473212043051734724397423532740924047911358934826444015379310566057002060535390934314671058835546122838261110164460379928833038798505244285864836748691885123996514178137604 --> 0.0025316462320728031020339327832326975608177612156302516310804475207139268094743618835184058984331066313278078294712316472643025778524411998101891683437803955628577626223673619204606128317567008118552797031718373532054008490034093857863256924118363855468131904884534154010603840805546820472997489571614850094713250411159551045203926799957660402167461407165522791651227899919120503933409569731966598551102112428745601985376145908469459386747679545629328416509694081396350381341868796641506744042850813014\n",
            "Integral(575) = 3011.6020070273969474068962350742233865893258053347001305770568087162211780351272386715925519861533018715165185981314120465695956691740268389371913287377142114994497193261639722732407528136535878971309839478886772630408520634022841228026762143968789553371995195609130341967671709375916612257334039616025903181618554054447077255551102775701235955441320968691869787918379888880472418455087318495938603730981505174977113247353036676315356844547947224377221844912615369399555431415495249533683920896418124 vs 3019.1388113031746138506697618619055867614794321414154265985100367893256196724909893153631747721878253369737946916595817529322008433083467969157841787225512232390147800264104722161071624149800874358766913627124545819168846117053279807604164308739390446716156657399032485182814420460139694914467421945038472937351726085992217337824417009593666086136842079407883811559236998468415715971305624354500671673444058584327129271627691239898790990194282146433681551275662861149959604490313353554233717487184376 --> 0.0025025897373527361726048403488104544247112975594471822456312514164387589083753094762324368284351024218406154376647206431255793337875388330716786858084364789504486810564884503203204327532681819992577028035311829422978861880647393436183022605352928005134581932834431178175192442726360471170573684720623564452731610306303150681888987805414088085898326590821802895706615989585144988043530591527115043263978310747766494818483026136219533488111285720720054375626324897507385507393263167293457826738581406427\n",
            "Integral(600) = 3168.0987448457900433296369093841614094190466068990098578587559478456524092936907684028986028237558747906678344765385165860146523588510051089860840308360895243379994346126308841475790259770080122951204689672295146717747386454588306457671389187399688597039344871607214161823227034966303757279367179604294139175391763359674430362133723041632655664708575494198191770697410272047017798390896635986145795818989698182196950492234883024264514951331667333153329776499588046268466932921016704410199793888278479 vs 3175.941484793720632626551274069756186531814490741933345796435081343583707543988356407366098995757211283143358290318217805512233093657680000631225965378904473741386311500694437320184093098096414176317748560836000191841970546689869553470827964161200534291187243697376722472785090830655496426107070690505268726429955435445360608539094286191480125475975605425478581473753036308627617665802220941594103665839879889074285888819110257353921920479242110153180137217402255163860332423112898615898826574130854 --> 0.0024755351962087726758206453289718658485430798563935514723804702032768791233499801166292158546208013375503802644371048504072234168390399171411882278195327537576743505668398083804597489219913747778566245115979086985368390032660213803813650565748033581408396241357715573391664409548646700985826002118800240725141926989820614079241540188464268851120726657919794721540032221126426835053777172008572079644110756147122201040298098929738703021647891330902694145156062847544345603046774623669132899554405494946\n",
            "Integral(625) = 3325.6374504654439559535882665770190754388007412621539947491310887757924077497809612203141178495315591749976162710240025379338306513615152020869105297052831912193042410074105404081469576155387088166997031505565231186139971601948252033035084551578145990918918193256794983505658023490327752267175585210505016094932836960326797368384923354544952487514471025389215390911892156573983332496488629949660416614653362127714940456830176837209223270235169540871806439646521192775125873937219853930829782516442523 vs 3333.7861265686184482909349095447376131647307701271307121183040977520764555380852143216701158601873472861648319164322286657565629259628589009386223238873418426737443619752259671397902413659215167237232941618993882214498639235009257975828461058515649826676263880202657147274400290544029516803392754185739093307469948464877479382744066643109035202620957879940670818380736238089138314818028240615775545289216790959460885202870761975953122587256305462311040279664981549617418977008819586173215942815322161 --> 0.0024502599049195917835500695109149809246404834966855138933893815615705417401954961776142233496067733260322703430423746200230080135634651015145086137979060070516905303890029918810712189416312058262314414947387171222498760390601324463941669166591939465074013468505590182661919245503423417116822987118015674631276464865128686762879430087149008587710817549488589579982395668586187722737916519832631083360487325863147542257280795606010100166270357101269327151662416898896258177391639122760135498819026244562\n",
            "Integral(650) = 3484.1764224952278640566239020738046093212269298233812461355702530201263559516389585962513253017314323991753822621953490532467829434344091663487470209777546849912881921982731246187722724092195981787384261933811235449512336752544888411572185633608138301653347844229129224352861018657181179480349358530333146291216006985315616009699993042199545355114295665661210065757344062288252949174667140481528779717927134321987803838256928154309915632394684178282284814526316151759037944795876717950576283908280524 vs 3492.6310351809960287975528886977550486805374918114434429674155908476847177808217106288975727574516617399740187885260008301371072179133606185101258787348109844772366310567535480175085488296474788972319383326340213505098890063619629606403773823385141452603159064396759994858956922894651555227419184716428183134082214867680014018838830748214342902993214354544938619159163756210269411760236352341265330029968009215488708215279796244671487598522420191373297937191604042252309529729370834496926300216365083 --> 0.0024265742202897145869153820095732766557567417941062473307472485516143427133457125127169838929210553082669472358712385143538054401444809113684455423948720768378056842172793305947060420793972734980354927666214384294619614405437874651370810347789981910049991969859670683340477702878067640365545607303577775630906870846604700705912636290222176639539533300857721271875200234011023754767781026486889151932723484656156654061044824114614609172612635183305656373589521996951951454160888915997976091568364019255\n"
          ],
          "name": "stdout"
        },
        {
          "output_type": "error",
          "ename": "KeyboardInterrupt",
          "evalue": "ignored",
          "traceback": [
            "\u001b[0;31m---------------------------------------------------------------------------\u001b[0m",
            "\u001b[0;31mKeyboardInterrupt\u001b[0m                         Traceback (most recent call last)",
            "\u001b[0;32m<ipython-input-24-1eefb28a1e88>\u001b[0m in \u001b[0;36m<module>\u001b[0;34m()\u001b[0m\n\u001b[1;32m     45\u001b[0m \u001b[0;34m\u001b[0m\u001b[0m\n\u001b[1;32m     46\u001b[0m \u001b[0;32mfor\u001b[0m \u001b[0mn\u001b[0m \u001b[0;32min\u001b[0m \u001b[0mrange\u001b[0m\u001b[0;34m(\u001b[0m\u001b[0;36m500\u001b[0m\u001b[0;34m,\u001b[0m\u001b[0;36m700\u001b[0m\u001b[0;34m,\u001b[0m\u001b[0;36m25\u001b[0m\u001b[0;34m)\u001b[0m\u001b[0;34m:\u001b[0m\u001b[0;34m\u001b[0m\u001b[0;34m\u001b[0m\u001b[0m\n\u001b[0;32m---> 47\u001b[0;31m   \u001b[0midis\u001b[0m \u001b[0;34m=\u001b[0m \u001b[0mmpmath\u001b[0m\u001b[0;34m.\u001b[0m\u001b[0mquad\u001b[0m\u001b[0;34m(\u001b[0m\u001b[0mdigamma_integrand_slowgrow\u001b[0m\u001b[0;34m,\u001b[0m\u001b[0;34m[\u001b[0m\u001b[0;34m-\u001b[0m\u001b[0mmpmath\u001b[0m\u001b[0;34m.\u001b[0m\u001b[0mpi\u001b[0m\u001b[0;34m,\u001b[0m\u001b[0mmpmath\u001b[0m\u001b[0;34m.\u001b[0m\u001b[0mpi\u001b[0m\u001b[0;34m]\u001b[0m\u001b[0;34m)\u001b[0m\u001b[0;34m/\u001b[0m\u001b[0;34m(\u001b[0m\u001b[0;36m2\u001b[0m\u001b[0;34m*\u001b[0m\u001b[0mmpmath\u001b[0m\u001b[0;34m.\u001b[0m\u001b[0mpi\u001b[0m\u001b[0;34m)\u001b[0m\u001b[0;34m\u001b[0m\u001b[0;34m\u001b[0m\u001b[0m\n\u001b[0m\u001b[1;32m     48\u001b[0m   \u001b[0;31m#idif = mpmath.quad(digamma_integrand_fastgrow,[-mpmath.pi,mpmath.pi])/(2*mpmath.pi)\u001b[0m\u001b[0;34m\u001b[0m\u001b[0;34m\u001b[0m\u001b[0;34m\u001b[0m\u001b[0m\n\u001b[1;32m     49\u001b[0m   \u001b[0;31m#sumdigf = digamma_fastgrow_sum_binomial(n)\u001b[0m\u001b[0;34m\u001b[0m\u001b[0;34m\u001b[0m\u001b[0;34m\u001b[0m\u001b[0m\n",
            "\u001b[0;32m/usr/local/lib/python3.6/dist-packages/mpmath/calculus/quadrature.py\u001b[0m in \u001b[0;36mquad\u001b[0;34m(ctx, f, *points, **kwargs)\u001b[0m\n\u001b[1;32m    740\u001b[0m             \u001b[0mctx\u001b[0m\u001b[0;34m.\u001b[0m\u001b[0mprec\u001b[0m \u001b[0;34m+=\u001b[0m \u001b[0;36m20\u001b[0m\u001b[0;34m\u001b[0m\u001b[0;34m\u001b[0m\u001b[0m\n\u001b[1;32m    741\u001b[0m             \u001b[0;32mif\u001b[0m \u001b[0mdim\u001b[0m \u001b[0;34m==\u001b[0m \u001b[0;36m1\u001b[0m\u001b[0;34m:\u001b[0m\u001b[0;34m\u001b[0m\u001b[0;34m\u001b[0m\u001b[0m\n\u001b[0;32m--> 742\u001b[0;31m                 \u001b[0mv\u001b[0m\u001b[0;34m,\u001b[0m \u001b[0merr\u001b[0m \u001b[0;34m=\u001b[0m \u001b[0mrule\u001b[0m\u001b[0;34m.\u001b[0m\u001b[0msummation\u001b[0m\u001b[0;34m(\u001b[0m\u001b[0mf\u001b[0m\u001b[0;34m,\u001b[0m \u001b[0mpoints\u001b[0m\u001b[0;34m[\u001b[0m\u001b[0;36m0\u001b[0m\u001b[0;34m]\u001b[0m\u001b[0;34m,\u001b[0m \u001b[0mprec\u001b[0m\u001b[0;34m,\u001b[0m \u001b[0mepsilon\u001b[0m\u001b[0;34m,\u001b[0m \u001b[0mm\u001b[0m\u001b[0;34m,\u001b[0m \u001b[0mverbose\u001b[0m\u001b[0;34m)\u001b[0m\u001b[0;34m\u001b[0m\u001b[0;34m\u001b[0m\u001b[0m\n\u001b[0m\u001b[1;32m    743\u001b[0m             \u001b[0;32melif\u001b[0m \u001b[0mdim\u001b[0m \u001b[0;34m==\u001b[0m \u001b[0;36m2\u001b[0m\u001b[0;34m:\u001b[0m\u001b[0;34m\u001b[0m\u001b[0;34m\u001b[0m\u001b[0m\n\u001b[1;32m    744\u001b[0m                 v, err = rule.summation(lambda x: \\\n",
            "\u001b[0;32m/usr/local/lib/python3.6/dist-packages/mpmath/calculus/quadrature.py\u001b[0m in \u001b[0;36msummation\u001b[0;34m(self, f, points, prec, epsilon, max_degree, verbose)\u001b[0m\n\u001b[1;32m    230\u001b[0m                     print(\"Integrating from %s to %s (degree %s of %s)\" % \\\n\u001b[1;32m    231\u001b[0m                         (ctx.nstr(a), ctx.nstr(b), degree, max_degree))\n\u001b[0;32m--> 232\u001b[0;31m                 \u001b[0mresults\u001b[0m\u001b[0;34m.\u001b[0m\u001b[0mappend\u001b[0m\u001b[0;34m(\u001b[0m\u001b[0mself\u001b[0m\u001b[0;34m.\u001b[0m\u001b[0msum_next\u001b[0m\u001b[0;34m(\u001b[0m\u001b[0mf\u001b[0m\u001b[0;34m,\u001b[0m \u001b[0mnodes\u001b[0m\u001b[0;34m,\u001b[0m \u001b[0mdegree\u001b[0m\u001b[0;34m,\u001b[0m \u001b[0mprec\u001b[0m\u001b[0;34m,\u001b[0m \u001b[0mresults\u001b[0m\u001b[0;34m,\u001b[0m \u001b[0mverbose\u001b[0m\u001b[0;34m)\u001b[0m\u001b[0;34m)\u001b[0m\u001b[0;34m\u001b[0m\u001b[0;34m\u001b[0m\u001b[0m\n\u001b[0m\u001b[1;32m    233\u001b[0m                 \u001b[0;32mif\u001b[0m \u001b[0mdegree\u001b[0m \u001b[0;34m>\u001b[0m \u001b[0;36m1\u001b[0m\u001b[0;34m:\u001b[0m\u001b[0;34m\u001b[0m\u001b[0;34m\u001b[0m\u001b[0m\n\u001b[1;32m    234\u001b[0m                     \u001b[0merr\u001b[0m \u001b[0;34m=\u001b[0m \u001b[0mself\u001b[0m\u001b[0;34m.\u001b[0m\u001b[0mestimate_error\u001b[0m\u001b[0;34m(\u001b[0m\u001b[0mresults\u001b[0m\u001b[0;34m,\u001b[0m \u001b[0mprec\u001b[0m\u001b[0;34m,\u001b[0m \u001b[0mepsilon\u001b[0m\u001b[0;34m)\u001b[0m\u001b[0;34m\u001b[0m\u001b[0;34m\u001b[0m\u001b[0m\n",
            "\u001b[0;32m/usr/local/lib/python3.6/dist-packages/mpmath/calculus/quadrature.py\u001b[0m in \u001b[0;36msum_next\u001b[0;34m(self, f, nodes, degree, prec, previous, verbose)\u001b[0m\n\u001b[1;32m    302\u001b[0m         \u001b[0;32melse\u001b[0m\u001b[0;34m:\u001b[0m\u001b[0;34m\u001b[0m\u001b[0;34m\u001b[0m\u001b[0m\n\u001b[1;32m    303\u001b[0m             \u001b[0mS\u001b[0m \u001b[0;34m=\u001b[0m \u001b[0mself\u001b[0m\u001b[0;34m.\u001b[0m\u001b[0mctx\u001b[0m\u001b[0;34m.\u001b[0m\u001b[0mzero\u001b[0m\u001b[0;34m\u001b[0m\u001b[0;34m\u001b[0m\u001b[0m\n\u001b[0;32m--> 304\u001b[0;31m         \u001b[0mS\u001b[0m \u001b[0;34m+=\u001b[0m \u001b[0mself\u001b[0m\u001b[0;34m.\u001b[0m\u001b[0mctx\u001b[0m\u001b[0;34m.\u001b[0m\u001b[0mfdot\u001b[0m\u001b[0;34m(\u001b[0m\u001b[0;34m(\u001b[0m\u001b[0mw\u001b[0m\u001b[0;34m,\u001b[0m\u001b[0mf\u001b[0m\u001b[0;34m(\u001b[0m\u001b[0mx\u001b[0m\u001b[0;34m)\u001b[0m\u001b[0;34m)\u001b[0m \u001b[0;32mfor\u001b[0m \u001b[0;34m(\u001b[0m\u001b[0mx\u001b[0m\u001b[0;34m,\u001b[0m\u001b[0mw\u001b[0m\u001b[0;34m)\u001b[0m \u001b[0;32min\u001b[0m \u001b[0mnodes\u001b[0m\u001b[0;34m)\u001b[0m\u001b[0;34m\u001b[0m\u001b[0;34m\u001b[0m\u001b[0m\n\u001b[0m\u001b[1;32m    305\u001b[0m         \u001b[0;32mreturn\u001b[0m \u001b[0mh\u001b[0m\u001b[0;34m*\u001b[0m\u001b[0mS\u001b[0m\u001b[0;34m\u001b[0m\u001b[0;34m\u001b[0m\u001b[0m\n\u001b[1;32m    306\u001b[0m \u001b[0;34m\u001b[0m\u001b[0m\n",
            "\u001b[0;32m/usr/local/lib/python3.6/dist-packages/mpmath/ctx_mp_python.py\u001b[0m in \u001b[0;36mfdot\u001b[0;34m(ctx, A, B, conjugate)\u001b[0m\n\u001b[1;32m    942\u001b[0m         \u001b[0mhasattr_\u001b[0m \u001b[0;34m=\u001b[0m \u001b[0mhasattr\u001b[0m\u001b[0;34m\u001b[0m\u001b[0;34m\u001b[0m\u001b[0m\n\u001b[1;32m    943\u001b[0m         \u001b[0mtypes\u001b[0m \u001b[0;34m=\u001b[0m \u001b[0;34m(\u001b[0m\u001b[0mctx\u001b[0m\u001b[0;34m.\u001b[0m\u001b[0mmpf\u001b[0m\u001b[0;34m,\u001b[0m \u001b[0mctx\u001b[0m\u001b[0;34m.\u001b[0m\u001b[0mmpc\u001b[0m\u001b[0;34m)\u001b[0m\u001b[0;34m\u001b[0m\u001b[0;34m\u001b[0m\u001b[0m\n\u001b[0;32m--> 944\u001b[0;31m         \u001b[0;32mfor\u001b[0m \u001b[0ma\u001b[0m\u001b[0;34m,\u001b[0m \u001b[0mb\u001b[0m \u001b[0;32min\u001b[0m \u001b[0mA\u001b[0m\u001b[0;34m:\u001b[0m\u001b[0;34m\u001b[0m\u001b[0;34m\u001b[0m\u001b[0m\n\u001b[0m\u001b[1;32m    945\u001b[0m             \u001b[0;32mif\u001b[0m \u001b[0mtype\u001b[0m\u001b[0;34m(\u001b[0m\u001b[0ma\u001b[0m\u001b[0;34m)\u001b[0m \u001b[0;32mnot\u001b[0m \u001b[0;32min\u001b[0m \u001b[0mtypes\u001b[0m\u001b[0;34m:\u001b[0m \u001b[0ma\u001b[0m \u001b[0;34m=\u001b[0m \u001b[0mctx\u001b[0m\u001b[0;34m.\u001b[0m\u001b[0mconvert\u001b[0m\u001b[0;34m(\u001b[0m\u001b[0ma\u001b[0m\u001b[0;34m)\u001b[0m\u001b[0;34m\u001b[0m\u001b[0;34m\u001b[0m\u001b[0m\n\u001b[1;32m    946\u001b[0m             \u001b[0;32mif\u001b[0m \u001b[0mtype\u001b[0m\u001b[0;34m(\u001b[0m\u001b[0mb\u001b[0m\u001b[0;34m)\u001b[0m \u001b[0;32mnot\u001b[0m \u001b[0;32min\u001b[0m \u001b[0mtypes\u001b[0m\u001b[0;34m:\u001b[0m \u001b[0mb\u001b[0m \u001b[0;34m=\u001b[0m \u001b[0mctx\u001b[0m\u001b[0;34m.\u001b[0m\u001b[0mconvert\u001b[0m\u001b[0;34m(\u001b[0m\u001b[0mb\u001b[0m\u001b[0;34m)\u001b[0m\u001b[0;34m\u001b[0m\u001b[0;34m\u001b[0m\u001b[0m\n",
            "\u001b[0;32m/usr/local/lib/python3.6/dist-packages/mpmath/calculus/quadrature.py\u001b[0m in \u001b[0;36m<genexpr>\u001b[0;34m(.0)\u001b[0m\n\u001b[1;32m    302\u001b[0m         \u001b[0;32melse\u001b[0m\u001b[0;34m:\u001b[0m\u001b[0;34m\u001b[0m\u001b[0;34m\u001b[0m\u001b[0m\n\u001b[1;32m    303\u001b[0m             \u001b[0mS\u001b[0m \u001b[0;34m=\u001b[0m \u001b[0mself\u001b[0m\u001b[0;34m.\u001b[0m\u001b[0mctx\u001b[0m\u001b[0;34m.\u001b[0m\u001b[0mzero\u001b[0m\u001b[0;34m\u001b[0m\u001b[0;34m\u001b[0m\u001b[0m\n\u001b[0;32m--> 304\u001b[0;31m         \u001b[0mS\u001b[0m \u001b[0;34m+=\u001b[0m \u001b[0mself\u001b[0m\u001b[0;34m.\u001b[0m\u001b[0mctx\u001b[0m\u001b[0;34m.\u001b[0m\u001b[0mfdot\u001b[0m\u001b[0;34m(\u001b[0m\u001b[0;34m(\u001b[0m\u001b[0mw\u001b[0m\u001b[0;34m,\u001b[0m\u001b[0mf\u001b[0m\u001b[0;34m(\u001b[0m\u001b[0mx\u001b[0m\u001b[0;34m)\u001b[0m\u001b[0;34m)\u001b[0m \u001b[0;32mfor\u001b[0m \u001b[0;34m(\u001b[0m\u001b[0mx\u001b[0m\u001b[0;34m,\u001b[0m\u001b[0mw\u001b[0m\u001b[0;34m)\u001b[0m \u001b[0;32min\u001b[0m \u001b[0mnodes\u001b[0m\u001b[0;34m)\u001b[0m\u001b[0;34m\u001b[0m\u001b[0;34m\u001b[0m\u001b[0m\n\u001b[0m\u001b[1;32m    305\u001b[0m         \u001b[0;32mreturn\u001b[0m \u001b[0mh\u001b[0m\u001b[0;34m*\u001b[0m\u001b[0mS\u001b[0m\u001b[0;34m\u001b[0m\u001b[0;34m\u001b[0m\u001b[0m\n\u001b[1;32m    306\u001b[0m \u001b[0;34m\u001b[0m\u001b[0m\n",
            "\u001b[0;32m<ipython-input-24-1eefb28a1e88>\u001b[0m in \u001b[0;36mdigamma_integrand_slowgrow\u001b[0;34m(t)\u001b[0m\n\u001b[1;32m      2\u001b[0m \u001b[0;34m\u001b[0m\u001b[0m\n\u001b[1;32m      3\u001b[0m \u001b[0;32mdef\u001b[0m \u001b[0mdigamma_integrand_slowgrow\u001b[0m\u001b[0;34m(\u001b[0m\u001b[0mt\u001b[0m\u001b[0;34m)\u001b[0m\u001b[0;34m:\u001b[0m\u001b[0;34m\u001b[0m\u001b[0;34m\u001b[0m\u001b[0m\n\u001b[0;32m----> 4\u001b[0;31m   \u001b[0mdigi\u001b[0m \u001b[0;34m=\u001b[0m \u001b[0mmpmath\u001b[0m\u001b[0;34m.\u001b[0m\u001b[0mdigamma\u001b[0m\u001b[0;34m(\u001b[0m\u001b[0;34m(\u001b[0m\u001b[0;36m1\u001b[0m\u001b[0;34m+\u001b[0m\u001b[0mmpmath\u001b[0m\u001b[0;34m.\u001b[0m\u001b[0mexp\u001b[0m\u001b[0;34m(\u001b[0m\u001b[0mt\u001b[0m\u001b[0;34m*\u001b[0m\u001b[0mmpmath\u001b[0m\u001b[0;34m.\u001b[0m\u001b[0mj\u001b[0m\u001b[0;34m)\u001b[0m\u001b[0;34m)\u001b[0m\u001b[0;34m/\u001b[0m\u001b[0;36m2\u001b[0m\u001b[0;34m)\u001b[0m\u001b[0;34m\u001b[0m\u001b[0;34m\u001b[0m\u001b[0m\n\u001b[0m\u001b[1;32m      5\u001b[0m   \u001b[0;32mreturn\u001b[0m \u001b[0mmpmath\u001b[0m\u001b[0;34m.\u001b[0m\u001b[0mre\u001b[0m\u001b[0;34m(\u001b[0m\u001b[0mdigi\u001b[0m\u001b[0;34m*\u001b[0m\u001b[0mmpmath\u001b[0m\u001b[0;34m.\u001b[0m\u001b[0mexp\u001b[0m\u001b[0;34m(\u001b[0m\u001b[0mt\u001b[0m\u001b[0;34m*\u001b[0m\u001b[0mmpmath\u001b[0m\u001b[0;34m.\u001b[0m\u001b[0mj\u001b[0m\u001b[0;34m)\u001b[0m\u001b[0;34m*\u001b[0m\u001b[0mmpmath\u001b[0m\u001b[0;34m.\u001b[0m\u001b[0mpower\u001b[0m\u001b[0;34m(\u001b[0m\u001b[0;36m2\u001b[0m\u001b[0;34m*\u001b[0m\u001b[0mmpmath\u001b[0m\u001b[0;34m.\u001b[0m\u001b[0mcos\u001b[0m\u001b[0;34m(\u001b[0m\u001b[0mt\u001b[0m\u001b[0;34m/\u001b[0m\u001b[0;36m2\u001b[0m\u001b[0;34m)\u001b[0m\u001b[0;34m,\u001b[0m\u001b[0mn\u001b[0m\u001b[0;34m)\u001b[0m\u001b[0;34m*\u001b[0m\u001b[0mmpmath\u001b[0m\u001b[0;34m.\u001b[0m\u001b[0mpower\u001b[0m\u001b[0;34m(\u001b[0m\u001b[0mmpmath\u001b[0m\u001b[0;34m.\u001b[0m\u001b[0mexp\u001b[0m\u001b[0;34m(\u001b[0m\u001b[0mt\u001b[0m\u001b[0;34m*\u001b[0m\u001b[0mmpmath\u001b[0m\u001b[0;34m.\u001b[0m\u001b[0mj\u001b[0m\u001b[0;34m/\u001b[0m\u001b[0;36m2\u001b[0m\u001b[0;34m)\u001b[0m\u001b[0;34m,\u001b[0m\u001b[0;34m-\u001b[0m\u001b[0mn\u001b[0m\u001b[0;34m)\u001b[0m\u001b[0;34m)\u001b[0m\u001b[0;34m\u001b[0m\u001b[0;34m\u001b[0m\u001b[0m\n\u001b[1;32m      6\u001b[0m \u001b[0;34m\u001b[0m\u001b[0m\n",
            "\u001b[0;32m/usr/local/lib/python3.6/dist-packages/mpmath/ctx_mp_python.py\u001b[0m in \u001b[0;36mf\u001b[0;34m(x, **kwargs)\u001b[0m\n\u001b[1;32m   1017\u001b[0m                     \u001b[0;32mreturn\u001b[0m \u001b[0mctx\u001b[0m\u001b[0;34m.\u001b[0m\u001b[0mmake_mpc\u001b[0m\u001b[0;34m(\u001b[0m\u001b[0mmpc_f\u001b[0m\u001b[0;34m(\u001b[0m\u001b[0;34m(\u001b[0m\u001b[0mx\u001b[0m\u001b[0;34m.\u001b[0m\u001b[0m_mpf_\u001b[0m\u001b[0;34m,\u001b[0m \u001b[0mfzero\u001b[0m\u001b[0;34m)\u001b[0m\u001b[0;34m,\u001b[0m \u001b[0mprec\u001b[0m\u001b[0;34m,\u001b[0m \u001b[0mrounding\u001b[0m\u001b[0;34m)\u001b[0m\u001b[0;34m)\u001b[0m\u001b[0;34m\u001b[0m\u001b[0;34m\u001b[0m\u001b[0m\n\u001b[1;32m   1018\u001b[0m             \u001b[0;32melif\u001b[0m \u001b[0mhasattr\u001b[0m\u001b[0;34m(\u001b[0m\u001b[0mx\u001b[0m\u001b[0;34m,\u001b[0m \u001b[0;34m'_mpc_'\u001b[0m\u001b[0;34m)\u001b[0m\u001b[0;34m:\u001b[0m\u001b[0;34m\u001b[0m\u001b[0;34m\u001b[0m\u001b[0m\n\u001b[0;32m-> 1019\u001b[0;31m                 \u001b[0;32mreturn\u001b[0m \u001b[0mctx\u001b[0m\u001b[0;34m.\u001b[0m\u001b[0mmake_mpc\u001b[0m\u001b[0;34m(\u001b[0m\u001b[0mmpc_f\u001b[0m\u001b[0;34m(\u001b[0m\u001b[0mx\u001b[0m\u001b[0;34m.\u001b[0m\u001b[0m_mpc_\u001b[0m\u001b[0;34m,\u001b[0m \u001b[0mprec\u001b[0m\u001b[0;34m,\u001b[0m \u001b[0mrounding\u001b[0m\u001b[0;34m)\u001b[0m\u001b[0;34m)\u001b[0m\u001b[0;34m\u001b[0m\u001b[0;34m\u001b[0m\u001b[0m\n\u001b[0m\u001b[1;32m   1020\u001b[0m             \u001b[0;32mraise\u001b[0m \u001b[0mNotImplementedError\u001b[0m\u001b[0;34m(\u001b[0m\u001b[0;34m\"%s of a %s\"\u001b[0m \u001b[0;34m%\u001b[0m \u001b[0;34m(\u001b[0m\u001b[0mname\u001b[0m\u001b[0;34m,\u001b[0m \u001b[0mtype\u001b[0m\u001b[0;34m(\u001b[0m\u001b[0mx\u001b[0m\u001b[0;34m)\u001b[0m\u001b[0;34m)\u001b[0m\u001b[0;34m)\u001b[0m\u001b[0;34m\u001b[0m\u001b[0;34m\u001b[0m\u001b[0m\n\u001b[1;32m   1021\u001b[0m         \u001b[0mname\u001b[0m \u001b[0;34m=\u001b[0m \u001b[0mmpf_f\u001b[0m\u001b[0;34m.\u001b[0m\u001b[0m__name__\u001b[0m\u001b[0;34m[\u001b[0m\u001b[0;36m4\u001b[0m\u001b[0;34m:\u001b[0m\u001b[0;34m]\u001b[0m\u001b[0;34m\u001b[0m\u001b[0;34m\u001b[0m\u001b[0m\n",
            "\u001b[0;32m/usr/local/lib/python3.6/dist-packages/mpmath/libmp/gammazeta.py\u001b[0m in \u001b[0;36mmpc_psi0\u001b[0;34m(z, prec, rnd)\u001b[0m\n\u001b[1;32m    979\u001b[0m         \u001b[0mbern\u001b[0m \u001b[0;34m=\u001b[0m \u001b[0mmpf_bernoulli\u001b[0m\u001b[0;34m(\u001b[0m\u001b[0;36m2\u001b[0m\u001b[0;34m*\u001b[0m\u001b[0mk\u001b[0m\u001b[0;34m,\u001b[0m \u001b[0mwp\u001b[0m\u001b[0;34m)\u001b[0m\u001b[0;34m\u001b[0m\u001b[0;34m\u001b[0m\u001b[0m\n\u001b[1;32m    980\u001b[0m         \u001b[0mterm\u001b[0m \u001b[0;34m=\u001b[0m \u001b[0mmpc_mpf_div\u001b[0m\u001b[0;34m(\u001b[0m\u001b[0mbern\u001b[0m\u001b[0;34m,\u001b[0m \u001b[0mmpc_mul_int\u001b[0m\u001b[0;34m(\u001b[0m\u001b[0mt\u001b[0m\u001b[0;34m,\u001b[0m \u001b[0;36m2\u001b[0m\u001b[0;34m*\u001b[0m\u001b[0mk\u001b[0m\u001b[0;34m,\u001b[0m \u001b[0mwp\u001b[0m\u001b[0;34m)\u001b[0m\u001b[0;34m,\u001b[0m \u001b[0mwp\u001b[0m\u001b[0;34m)\u001b[0m\u001b[0;34m\u001b[0m\u001b[0;34m\u001b[0m\u001b[0m\n\u001b[0;32m--> 981\u001b[0;31m         \u001b[0ms\u001b[0m \u001b[0;34m=\u001b[0m \u001b[0mmpc_sub\u001b[0m\u001b[0;34m(\u001b[0m\u001b[0ms\u001b[0m\u001b[0;34m,\u001b[0m \u001b[0mterm\u001b[0m\u001b[0;34m,\u001b[0m \u001b[0mwp\u001b[0m\u001b[0;34m)\u001b[0m\u001b[0;34m\u001b[0m\u001b[0;34m\u001b[0m\u001b[0m\n\u001b[0m\u001b[1;32m    982\u001b[0m         \u001b[0mszterm\u001b[0m \u001b[0;34m=\u001b[0m \u001b[0mmpc_abs\u001b[0m\u001b[0;34m(\u001b[0m\u001b[0mterm\u001b[0m\u001b[0;34m,\u001b[0m \u001b[0;36m10\u001b[0m\u001b[0;34m)\u001b[0m\u001b[0;34m\u001b[0m\u001b[0;34m\u001b[0m\u001b[0m\n\u001b[1;32m    983\u001b[0m         \u001b[0;32mif\u001b[0m \u001b[0mk\u001b[0m \u001b[0;34m>\u001b[0m \u001b[0;36m2\u001b[0m \u001b[0;32mand\u001b[0m \u001b[0mmpf_le\u001b[0m\u001b[0;34m(\u001b[0m\u001b[0mszterm\u001b[0m\u001b[0;34m,\u001b[0m \u001b[0meps\u001b[0m\u001b[0;34m)\u001b[0m\u001b[0;34m:\u001b[0m\u001b[0;34m\u001b[0m\u001b[0;34m\u001b[0m\u001b[0m\n",
            "\u001b[0;32m/usr/local/lib/python3.6/dist-packages/mpmath/libmp/libmpc.py\u001b[0m in \u001b[0;36mmpc_sub\u001b[0;34m(z, w, prec, rnd)\u001b[0m\n\u001b[1;32m     97\u001b[0m     \u001b[0ma\u001b[0m\u001b[0;34m,\u001b[0m \u001b[0mb\u001b[0m \u001b[0;34m=\u001b[0m \u001b[0mz\u001b[0m\u001b[0;34m\u001b[0m\u001b[0;34m\u001b[0m\u001b[0m\n\u001b[1;32m     98\u001b[0m     \u001b[0mc\u001b[0m\u001b[0;34m,\u001b[0m \u001b[0md\u001b[0m \u001b[0;34m=\u001b[0m \u001b[0mw\u001b[0m\u001b[0;34m\u001b[0m\u001b[0;34m\u001b[0m\u001b[0m\n\u001b[0;32m---> 99\u001b[0;31m     \u001b[0;32mreturn\u001b[0m \u001b[0mmpf_sub\u001b[0m\u001b[0;34m(\u001b[0m\u001b[0ma\u001b[0m\u001b[0;34m,\u001b[0m \u001b[0mc\u001b[0m\u001b[0;34m,\u001b[0m \u001b[0mprec\u001b[0m\u001b[0;34m,\u001b[0m \u001b[0mrnd\u001b[0m\u001b[0;34m)\u001b[0m\u001b[0;34m,\u001b[0m \u001b[0mmpf_sub\u001b[0m\u001b[0;34m(\u001b[0m\u001b[0mb\u001b[0m\u001b[0;34m,\u001b[0m \u001b[0md\u001b[0m\u001b[0;34m,\u001b[0m \u001b[0mprec\u001b[0m\u001b[0;34m,\u001b[0m \u001b[0mrnd\u001b[0m\u001b[0;34m)\u001b[0m\u001b[0;34m\u001b[0m\u001b[0;34m\u001b[0m\u001b[0m\n\u001b[0m\u001b[1;32m    100\u001b[0m \u001b[0;34m\u001b[0m\u001b[0m\n\u001b[1;32m    101\u001b[0m \u001b[0;32mdef\u001b[0m \u001b[0mmpc_sub_mpf\u001b[0m\u001b[0;34m(\u001b[0m\u001b[0mz\u001b[0m\u001b[0;34m,\u001b[0m \u001b[0mp\u001b[0m\u001b[0;34m,\u001b[0m \u001b[0mprec\u001b[0m\u001b[0;34m=\u001b[0m\u001b[0;36m0\u001b[0m\u001b[0;34m,\u001b[0m \u001b[0mrnd\u001b[0m\u001b[0;34m=\u001b[0m\u001b[0mround_fast\u001b[0m\u001b[0;34m)\u001b[0m\u001b[0;34m:\u001b[0m\u001b[0;34m\u001b[0m\u001b[0;34m\u001b[0m\u001b[0m\n",
            "\u001b[0;32m/usr/local/lib/python3.6/dist-packages/mpmath/libmp/libmpf.py\u001b[0m in \u001b[0;36mmpf_sub\u001b[0;34m(s, t, prec, rnd)\u001b[0m\n\u001b[1;32m    798\u001b[0m     \"\"\"Return the difference of two raw mpfs, s-t. This function is\n\u001b[1;32m    799\u001b[0m     simply a wrapper of mpf_add that changes the sign of t.\"\"\"\n\u001b[0;32m--> 800\u001b[0;31m     \u001b[0;32mreturn\u001b[0m \u001b[0mmpf_add\u001b[0m\u001b[0;34m(\u001b[0m\u001b[0ms\u001b[0m\u001b[0;34m,\u001b[0m \u001b[0mt\u001b[0m\u001b[0;34m,\u001b[0m \u001b[0mprec\u001b[0m\u001b[0;34m,\u001b[0m \u001b[0mrnd\u001b[0m\u001b[0;34m,\u001b[0m \u001b[0;36m1\u001b[0m\u001b[0;34m)\u001b[0m\u001b[0;34m\u001b[0m\u001b[0;34m\u001b[0m\u001b[0m\n\u001b[0m\u001b[1;32m    801\u001b[0m \u001b[0;34m\u001b[0m\u001b[0m\n\u001b[1;32m    802\u001b[0m \u001b[0;32mdef\u001b[0m \u001b[0mmpf_sum\u001b[0m\u001b[0;34m(\u001b[0m\u001b[0mxs\u001b[0m\u001b[0;34m,\u001b[0m \u001b[0mprec\u001b[0m\u001b[0;34m=\u001b[0m\u001b[0;36m0\u001b[0m\u001b[0;34m,\u001b[0m \u001b[0mrnd\u001b[0m\u001b[0;34m=\u001b[0m\u001b[0mround_fast\u001b[0m\u001b[0;34m,\u001b[0m \u001b[0mabsolute\u001b[0m\u001b[0;34m=\u001b[0m\u001b[0;32mFalse\u001b[0m\u001b[0;34m)\u001b[0m\u001b[0;34m:\u001b[0m\u001b[0;34m\u001b[0m\u001b[0;34m\u001b[0m\u001b[0m\n",
            "\u001b[0;32m/usr/local/lib/python3.6/dist-packages/mpmath/libmp/libmpf.py\u001b[0m in \u001b[0;36mmpf_add\u001b[0;34m(s, t, prec, rnd, _sub)\u001b[0m\n\u001b[1;32m    739\u001b[0m                         \u001b[0mssign\u001b[0m \u001b[0;34m=\u001b[0m \u001b[0;36m1\u001b[0m\u001b[0;34m\u001b[0m\u001b[0;34m\u001b[0m\u001b[0m\n\u001b[1;32m    740\u001b[0m                 \u001b[0mbc\u001b[0m \u001b[0;34m=\u001b[0m \u001b[0mbitcount\u001b[0m\u001b[0;34m(\u001b[0m\u001b[0mman\u001b[0m\u001b[0;34m)\u001b[0m\u001b[0;34m\u001b[0m\u001b[0;34m\u001b[0m\u001b[0m\n\u001b[0;32m--> 741\u001b[0;31m                 \u001b[0;32mreturn\u001b[0m \u001b[0mnormalize1\u001b[0m\u001b[0;34m(\u001b[0m\u001b[0mssign\u001b[0m\u001b[0;34m,\u001b[0m \u001b[0mman\u001b[0m\u001b[0;34m,\u001b[0m \u001b[0mtexp\u001b[0m\u001b[0;34m,\u001b[0m \u001b[0mbc\u001b[0m\u001b[0;34m,\u001b[0m \u001b[0mprec\u001b[0m \u001b[0;32mor\u001b[0m \u001b[0mbc\u001b[0m\u001b[0;34m,\u001b[0m \u001b[0mrnd\u001b[0m\u001b[0;34m)\u001b[0m\u001b[0;34m\u001b[0m\u001b[0;34m\u001b[0m\u001b[0m\n\u001b[0m\u001b[1;32m    742\u001b[0m             \u001b[0;32melif\u001b[0m \u001b[0moffset\u001b[0m \u001b[0;34m<\u001b[0m \u001b[0;36m0\u001b[0m\u001b[0;34m:\u001b[0m\u001b[0;34m\u001b[0m\u001b[0;34m\u001b[0m\u001b[0m\n\u001b[1;32m    743\u001b[0m                 \u001b[0;31m# Outside precision range; only need to perturb\u001b[0m\u001b[0;34m\u001b[0m\u001b[0;34m\u001b[0m\u001b[0;34m\u001b[0m\u001b[0m\n",
            "\u001b[0;31mKeyboardInterrupt\u001b[0m: "
          ]
        }
      ]
    },
    {
      "cell_type": "code",
      "metadata": {
        "id": "sJISqPyuID6I",
        "outputId": "cc8080d8-08a3-4c03-8939-8da0d69ed8fa",
        "colab": {
          "base_uri": "https://localhost:8080/",
          "height": 902
        }
      },
      "source": [
        "# status ...\n",
        "\n",
        "mpmath.mp.dps = 15\n",
        "\n",
        "def digamma_integrand(t):\n",
        "  dig = mpmath.digamma(-mpmath.exp(t*mpmath.j)/2)\n",
        "  digi = mpmath.digamma((1+mpmath.exp(t*mpmath.j))/2)\n",
        "  return 0.5*mpmath.re((dig+digi)*mpmath.exp(t*mpmath.j)*mpmath.power(2*mpmath.cos(t/2),n)*mpmath.power(mpmath.exp(t*mpmath.j/2),-n))\n",
        "\n",
        "def reflect_new_zeta_integrand(t):\n",
        "  theta = mpmath.exp(t*mpmath.j)\n",
        "  logderiv = mpmath.zeta(-theta,derivative=1)/mpmath.zeta(-theta)\n",
        "  return -logderiv*mpmath.exp(t*mpmath.j)*mpmath.power(2*mpmath.cos(t/2),n)*mpmath.power(mpmath.exp(t*mpmath.j/2),-n)\n",
        "\n",
        "R = 4\n",
        "def reflect_new_zeta_integrand_radius(t):\n",
        "  theta = mpmath.exp(t*mpmath.j)/R\n",
        "  logderiv = mpmath.zeta(theta,derivative=1)/mpmath.zeta(theta)\n",
        "  return logderiv*mpmath.power(1-1/theta,n)*theta\n",
        "\n",
        "def log_deriv_zeta(x):\n",
        "  return mpmath.zeta(x,derivative=1)/mpmath.zeta(x)\n",
        "\n",
        "def log_deriv_quart_exact(k):\n",
        "  return mpmath.diff(log_deriv_zeta,1/4,n=k)/mpmath.gamma(k+1)\n",
        "\n",
        "kmax = 3\n",
        "def log_deriv_quart_approx(k,nmax = 100):\n",
        "  if k < kmax:\n",
        "    return log_deriv_quart_exact(k)\n",
        "  tot = 0\n",
        "  for p in range(1,nmax):\n",
        "    tot += mpmath.power(1/(1+8*p),k+1)\n",
        "  sign = (1,-1)[k%2]\n",
        "  tot = mpmath.power(1/3,k+1) + sign*tot\n",
        "  return mpmath.power(4,k+1)*tot\n",
        "\n",
        "def sum_zeta_integral_quart(n,nmax = 100):\n",
        "  tot = 0\n",
        "  for k in range(nmax+1):\n",
        "    term = 0\n",
        "    for p in range(k+1):\n",
        "      term += sympy.binomial(k,p)*sympy.binomial(n,p+1)*mpmath.power(4,p)\n",
        "      #print(\"k,p = {},{} --> {}\".format(k,p,term))\n",
        "    #tot -= log_deriv_quart_exact(k)*mpmath.power(-1/4,k)*term\n",
        "    tot -= log_deriv_quart_approx(k)*mpmath.power(-1/4,k)*term\n",
        "  return tot\n",
        "\n",
        "def limsum(n,nmax=100):\n",
        "  term = mpmath.euler*n\n",
        "  for k in range(1,nmax+1):\n",
        "    term += mpmath.power(1+1/(2*k),n) - mpmath.power(1/(1+1/(2*k)),n) - n/k - 1\n",
        "  return term\n",
        "\n",
        "def partial_lambda_sum(n):\n",
        "  tot = 1 + mpmath.log(mpmath.pi)*n\n",
        "  tot += limsum(n,n*n)\n",
        "  #tot += mpmath.quad(reflect_new_zeta_integrand,[-mpmath.pi,mpmath.pi])/(2*mpmath.pi)\n",
        "  #tot += mpmath.quad(reflect_new_zeta_integrand_radius,[-mpmath.pi,mpmath.pi])/(2*mpmath.pi)\n",
        "  tot += sum_zeta_integral_quart(n,n*n)\n",
        "  return tot\n",
        "\n",
        "for n in range(1,50):\n",
        "  #int_digs = -mpmath.quad(digamma_integrand,[-mpmath.pi,mpmath.pi])/(2*mpmath.pi)\n",
        "  #sum_digs = limsum(n,3*n)\n",
        "  #orint = mpmath.quad(reflect_new_zeta_integrand,[-mpmath.pi,mpmath.pi])/(2*mpmath.pi)\n",
        "  #modint = mpmath.quad(reflect_new_zeta_integrand_radius,[-mpmath.pi,mpmath.pi])/(2*mpmath.pi)\n",
        "  #sumint = sum_zeta_integral_quart(n)\n",
        "  #print(\"{} --> {} vs {} vs {}\".format(n,orint,modint,sumint))\n",
        "  #print(\"{} --> {} vs {}\".format(n,int_digs,sum_digs))\n",
        "  intex = mpmath.re(n*mpmath.quad(lambda_integrand,[0,mpmath.pi])/(mpmath.pi))\n",
        "  intap = partial_lambda_sum(n)\n",
        "  ratio = abs(intex-intap)/abs(intex)\n",
        "  print(\"{} --> {} vs {} --> {}\".format(n,intex,intap,ratio))"
      ],
      "execution_count": null,
      "outputs": [
        {
          "output_type": "stream",
          "text": [
            "1 --> 0.577215664901533 vs -0.163879271459603 --> 1.28391341646551\n",
            "2 --> 0.966885096962701 vs -3.01984320418251 --> 4.12326998696\n",
            "3 --> 1.2206969282167 vs -7.69401579221308 --> 7.30296973340728\n",
            "4 --> 1.37558813187126 vs -14.5691829368561 --> 11.59123919384\n",
            "5 --> 1.45826850019717 vs -23.4958939332588 --> 17.1121864252584\n",
            "6 --> 1.48829832721222 vs -34.4717021262257 --> 24.1618227985217\n",
            "7 --> 1.48019084023884 vs -47.4826610468098 --> 33.0787426566888\n",
            "8 --> 1.44485574411943 vs -62.5181500070658 --> 44.2694753517885\n",
            "9 --> 1.3905964067913 vs -79.5697905349752 --> 58.2199022997456\n",
            "10 --> 1.32380368369629 vs -98.6308956034357 --> 75.5056814829528\n",
            "11 --> 1.24944277582208 vs -119.696052850402 --> 96.7995477397087\n",
            "12 --> 1.17139824693906 vs -142.760817533887 --> 122.872145452607\n",
            "13 --> 1.09272131711462 vs -167.821487679075 --> 154.581233431243\n",
            "14 --> 1.01580941259033 vs -194.874939002006 --> 192.842029210058\n",
            "15 --> 0.942538421086352 vs -223.918502844375 --> 238.569628818198\n",
            "16 --> 0.874361661380814 vs -254.949875004582 --> 292.584004955065\n",
            "17 --> 0.812385212605197 vs -287.967046833783 --> 355.471059253179\n",
            "18 --> 0.757426282975166 vs -322.968252516446 --> 427.402225240757\n",
            "19 --> 0.710059274375477 vs -359.951928130911 --> 507.932225408227\n",
            "20 --> 0.670652812798627 vs -398.916679514828 --> 595.818469261543\n",
            "21 --> 0.639400059775679 vs -439.861256741033 --> 688.928081982584\n",
            "22 --> 0.616343958428758 vs -482.78453228387 --> 784.303747333924\n",
            "23 --> 0.601398606424969 vs -527.685488769761 --> 878.430514690751\n",
            "24 --> 0.594367623925643 vs -574.563206739607 --> 967.679852016109\n",
            "25 --> 0.594960154917941 vs -623.416852543702 --> 1048.82958554541\n",
            "26 --> 0.602804976067049 vs -674.245594888169 --> 1119.51365144201\n",
            "27 --> 0.617463068636012 vs -727.048921400259 --> 1178.47758259668\n",
            "28 --> 0.63843892251781 vs -781.824910532101 --> 1225.5884186522\n",
            "29 --> 0.66519077766616 vs -838.577835961914 --> 1261.65764005942\n",
            "30 --> 0.697139960724929 vs -897.297614931304 --> 1288.11258209648\n",
            "31 --> 0.733679438927963 vs -958.010871722247 --> 1306.76219107635\n"
          ],
          "name": "stdout"
        },
        {
          "output_type": "error",
          "ename": "KeyboardInterrupt",
          "evalue": "ignored",
          "traceback": [
            "\u001b[0;31m---------------------------------------------------------------------------\u001b[0m",
            "\u001b[0;31mKeyboardInterrupt\u001b[0m                         Traceback (most recent call last)",
            "\u001b[0;32m<ipython-input-22-89d9b3c33dfb>\u001b[0m in \u001b[0;36m<module>\u001b[0;34m()\u001b[0m\n\u001b[1;32m     69\u001b[0m   \u001b[0;31m#print(\"{} --> {} vs {}\".format(n,int_digs,sum_digs))\u001b[0m\u001b[0;34m\u001b[0m\u001b[0;34m\u001b[0m\u001b[0;34m\u001b[0m\u001b[0m\n\u001b[1;32m     70\u001b[0m   \u001b[0mintex\u001b[0m \u001b[0;34m=\u001b[0m \u001b[0mmpmath\u001b[0m\u001b[0;34m.\u001b[0m\u001b[0mre\u001b[0m\u001b[0;34m(\u001b[0m\u001b[0mn\u001b[0m\u001b[0;34m*\u001b[0m\u001b[0mmpmath\u001b[0m\u001b[0;34m.\u001b[0m\u001b[0mquad\u001b[0m\u001b[0;34m(\u001b[0m\u001b[0mlambda_integrand\u001b[0m\u001b[0;34m,\u001b[0m\u001b[0;34m[\u001b[0m\u001b[0;36m0\u001b[0m\u001b[0;34m,\u001b[0m\u001b[0mmpmath\u001b[0m\u001b[0;34m.\u001b[0m\u001b[0mpi\u001b[0m\u001b[0;34m]\u001b[0m\u001b[0;34m)\u001b[0m\u001b[0;34m/\u001b[0m\u001b[0;34m(\u001b[0m\u001b[0mmpmath\u001b[0m\u001b[0;34m.\u001b[0m\u001b[0mpi\u001b[0m\u001b[0;34m)\u001b[0m\u001b[0;34m)\u001b[0m\u001b[0;34m\u001b[0m\u001b[0;34m\u001b[0m\u001b[0m\n\u001b[0;32m---> 71\u001b[0;31m   \u001b[0mintap\u001b[0m \u001b[0;34m=\u001b[0m \u001b[0mpartial_lambda_sum\u001b[0m\u001b[0;34m(\u001b[0m\u001b[0mn\u001b[0m\u001b[0;34m)\u001b[0m\u001b[0;34m\u001b[0m\u001b[0;34m\u001b[0m\u001b[0m\n\u001b[0m\u001b[1;32m     72\u001b[0m   \u001b[0mratio\u001b[0m \u001b[0;34m=\u001b[0m \u001b[0mabs\u001b[0m\u001b[0;34m(\u001b[0m\u001b[0mintex\u001b[0m\u001b[0;34m-\u001b[0m\u001b[0mintap\u001b[0m\u001b[0;34m)\u001b[0m\u001b[0;34m/\u001b[0m\u001b[0mabs\u001b[0m\u001b[0;34m(\u001b[0m\u001b[0mintex\u001b[0m\u001b[0;34m)\u001b[0m\u001b[0;34m\u001b[0m\u001b[0;34m\u001b[0m\u001b[0m\n\u001b[1;32m     73\u001b[0m   \u001b[0mprint\u001b[0m\u001b[0;34m(\u001b[0m\u001b[0;34m\"{} --> {} vs {} --> {}\"\u001b[0m\u001b[0;34m.\u001b[0m\u001b[0mformat\u001b[0m\u001b[0;34m(\u001b[0m\u001b[0mn\u001b[0m\u001b[0;34m,\u001b[0m\u001b[0mintex\u001b[0m\u001b[0;34m,\u001b[0m\u001b[0mintap\u001b[0m\u001b[0;34m,\u001b[0m\u001b[0mratio\u001b[0m\u001b[0;34m)\u001b[0m\u001b[0;34m)\u001b[0m\u001b[0;34m\u001b[0m\u001b[0;34m\u001b[0m\u001b[0m\n",
            "\u001b[0;32m<ipython-input-22-89d9b3c33dfb>\u001b[0m in \u001b[0;36mpartial_lambda_sum\u001b[0;34m(n)\u001b[0m\n\u001b[1;32m     57\u001b[0m   \u001b[0;31m#tot += mpmath.quad(reflect_new_zeta_integrand,[-mpmath.pi,mpmath.pi])/(2*mpmath.pi)\u001b[0m\u001b[0;34m\u001b[0m\u001b[0;34m\u001b[0m\u001b[0;34m\u001b[0m\u001b[0m\n\u001b[1;32m     58\u001b[0m   \u001b[0;31m#tot += mpmath.quad(reflect_new_zeta_integrand_radius,[-mpmath.pi,mpmath.pi])/(2*mpmath.pi)\u001b[0m\u001b[0;34m\u001b[0m\u001b[0;34m\u001b[0m\u001b[0;34m\u001b[0m\u001b[0m\n\u001b[0;32m---> 59\u001b[0;31m   \u001b[0mtot\u001b[0m \u001b[0;34m+=\u001b[0m \u001b[0msum_zeta_integral_quart\u001b[0m\u001b[0;34m(\u001b[0m\u001b[0mn\u001b[0m\u001b[0;34m,\u001b[0m\u001b[0mn\u001b[0m\u001b[0;34m*\u001b[0m\u001b[0mn\u001b[0m\u001b[0;34m)\u001b[0m\u001b[0;34m\u001b[0m\u001b[0;34m\u001b[0m\u001b[0m\n\u001b[0m\u001b[1;32m     60\u001b[0m   \u001b[0;32mreturn\u001b[0m \u001b[0mtot\u001b[0m\u001b[0;34m\u001b[0m\u001b[0;34m\u001b[0m\u001b[0m\n\u001b[1;32m     61\u001b[0m \u001b[0;34m\u001b[0m\u001b[0m\n",
            "\u001b[0;32m<ipython-input-22-89d9b3c33dfb>\u001b[0m in \u001b[0;36msum_zeta_integral_quart\u001b[0;34m(n, nmax)\u001b[0m\n\u001b[1;32m     40\u001b[0m     \u001b[0mterm\u001b[0m \u001b[0;34m=\u001b[0m \u001b[0;36m0\u001b[0m\u001b[0;34m\u001b[0m\u001b[0;34m\u001b[0m\u001b[0m\n\u001b[1;32m     41\u001b[0m     \u001b[0;32mfor\u001b[0m \u001b[0mp\u001b[0m \u001b[0;32min\u001b[0m \u001b[0mrange\u001b[0m\u001b[0;34m(\u001b[0m\u001b[0mk\u001b[0m\u001b[0;34m+\u001b[0m\u001b[0;36m1\u001b[0m\u001b[0;34m)\u001b[0m\u001b[0;34m:\u001b[0m\u001b[0;34m\u001b[0m\u001b[0;34m\u001b[0m\u001b[0m\n\u001b[0;32m---> 42\u001b[0;31m       \u001b[0mterm\u001b[0m \u001b[0;34m+=\u001b[0m \u001b[0msympy\u001b[0m\u001b[0;34m.\u001b[0m\u001b[0mbinomial\u001b[0m\u001b[0;34m(\u001b[0m\u001b[0mk\u001b[0m\u001b[0;34m,\u001b[0m\u001b[0mp\u001b[0m\u001b[0;34m)\u001b[0m\u001b[0;34m*\u001b[0m\u001b[0msympy\u001b[0m\u001b[0;34m.\u001b[0m\u001b[0mbinomial\u001b[0m\u001b[0;34m(\u001b[0m\u001b[0mn\u001b[0m\u001b[0;34m,\u001b[0m\u001b[0mp\u001b[0m\u001b[0;34m+\u001b[0m\u001b[0;36m1\u001b[0m\u001b[0;34m)\u001b[0m\u001b[0;34m*\u001b[0m\u001b[0mmpmath\u001b[0m\u001b[0;34m.\u001b[0m\u001b[0mpower\u001b[0m\u001b[0;34m(\u001b[0m\u001b[0;36m4\u001b[0m\u001b[0;34m,\u001b[0m\u001b[0mp\u001b[0m\u001b[0;34m)\u001b[0m\u001b[0;34m\u001b[0m\u001b[0;34m\u001b[0m\u001b[0m\n\u001b[0m\u001b[1;32m     43\u001b[0m       \u001b[0;31m#print(\"k,p = {},{} --> {}\".format(k,p,term))\u001b[0m\u001b[0;34m\u001b[0m\u001b[0;34m\u001b[0m\u001b[0;34m\u001b[0m\u001b[0m\n\u001b[1;32m     44\u001b[0m     \u001b[0;31m#tot -= log_deriv_quart_exact(k)*mpmath.power(-1/4,k)*term\u001b[0m\u001b[0;34m\u001b[0m\u001b[0;34m\u001b[0m\u001b[0;34m\u001b[0m\u001b[0m\n",
            "\u001b[0;32m/usr/local/lib/python3.6/dist-packages/sympy/core/cache.py\u001b[0m in \u001b[0;36mwrapper\u001b[0;34m(*args, **kwargs)\u001b[0m\n\u001b[1;32m     91\u001b[0m             \u001b[0;32mdef\u001b[0m \u001b[0mwrapper\u001b[0m\u001b[0;34m(\u001b[0m\u001b[0;34m*\u001b[0m\u001b[0margs\u001b[0m\u001b[0;34m,\u001b[0m \u001b[0;34m**\u001b[0m\u001b[0mkwargs\u001b[0m\u001b[0;34m)\u001b[0m\u001b[0;34m:\u001b[0m\u001b[0;34m\u001b[0m\u001b[0;34m\u001b[0m\u001b[0m\n\u001b[1;32m     92\u001b[0m                 \u001b[0;32mtry\u001b[0m\u001b[0;34m:\u001b[0m\u001b[0;34m\u001b[0m\u001b[0;34m\u001b[0m\u001b[0m\n\u001b[0;32m---> 93\u001b[0;31m                     \u001b[0mretval\u001b[0m \u001b[0;34m=\u001b[0m \u001b[0mcfunc\u001b[0m\u001b[0;34m(\u001b[0m\u001b[0;34m*\u001b[0m\u001b[0margs\u001b[0m\u001b[0;34m,\u001b[0m \u001b[0;34m**\u001b[0m\u001b[0mkwargs\u001b[0m\u001b[0;34m)\u001b[0m\u001b[0;34m\u001b[0m\u001b[0;34m\u001b[0m\u001b[0m\n\u001b[0m\u001b[1;32m     94\u001b[0m                 \u001b[0;32mexcept\u001b[0m \u001b[0mTypeError\u001b[0m\u001b[0;34m:\u001b[0m\u001b[0;34m\u001b[0m\u001b[0;34m\u001b[0m\u001b[0m\n\u001b[1;32m     95\u001b[0m                     \u001b[0mretval\u001b[0m \u001b[0;34m=\u001b[0m \u001b[0mfunc\u001b[0m\u001b[0;34m(\u001b[0m\u001b[0;34m*\u001b[0m\u001b[0margs\u001b[0m\u001b[0;34m,\u001b[0m \u001b[0;34m**\u001b[0m\u001b[0mkwargs\u001b[0m\u001b[0;34m)\u001b[0m\u001b[0;34m\u001b[0m\u001b[0;34m\u001b[0m\u001b[0m\n",
            "\u001b[0;32m/usr/local/lib/python3.6/dist-packages/sympy/core/function.py\u001b[0m in \u001b[0;36m__new__\u001b[0;34m(cls, *args, **options)\u001b[0m\n\u001b[1;32m    409\u001b[0m \u001b[0;34m\u001b[0m\u001b[0m\n\u001b[1;32m    410\u001b[0m         \u001b[0mn\u001b[0m \u001b[0;34m=\u001b[0m \u001b[0mlen\u001b[0m\u001b[0;34m(\u001b[0m\u001b[0margs\u001b[0m\u001b[0;34m)\u001b[0m\u001b[0;34m\u001b[0m\u001b[0;34m\u001b[0m\u001b[0m\n\u001b[0;32m--> 411\u001b[0;31m         \u001b[0;32mif\u001b[0m \u001b[0mn\u001b[0m \u001b[0;32mnot\u001b[0m \u001b[0;32min\u001b[0m \u001b[0mcls\u001b[0m\u001b[0;34m.\u001b[0m\u001b[0mnargs\u001b[0m\u001b[0;34m:\u001b[0m\u001b[0;34m\u001b[0m\u001b[0;34m\u001b[0m\u001b[0m\n\u001b[0m\u001b[1;32m    412\u001b[0m             \u001b[0;31m# XXX: exception message must be in exactly this format to\u001b[0m\u001b[0;34m\u001b[0m\u001b[0;34m\u001b[0m\u001b[0;34m\u001b[0m\u001b[0m\n\u001b[1;32m    413\u001b[0m             \u001b[0;31m# make it work with NumPy's functions like vectorize(). See,\u001b[0m\u001b[0;34m\u001b[0m\u001b[0;34m\u001b[0m\u001b[0;34m\u001b[0m\u001b[0m\n",
            "\u001b[0;32m/usr/local/lib/python3.6/dist-packages/sympy/core/function.py\u001b[0m in \u001b[0;36mnargs\u001b[0;34m(self)\u001b[0m\n\u001b[1;32m    217\u001b[0m         \u001b[0;31m# XXX it would be nice to handle this in __init__ but there are import\u001b[0m\u001b[0;34m\u001b[0m\u001b[0;34m\u001b[0m\u001b[0;34m\u001b[0m\u001b[0m\n\u001b[1;32m    218\u001b[0m         \u001b[0;31m# problems with trying to import FiniteSet there\u001b[0m\u001b[0;34m\u001b[0m\u001b[0;34m\u001b[0m\u001b[0;34m\u001b[0m\u001b[0m\n\u001b[0;32m--> 219\u001b[0;31m         \u001b[0;32mreturn\u001b[0m \u001b[0mFiniteSet\u001b[0m\u001b[0;34m(\u001b[0m\u001b[0;34m*\u001b[0m\u001b[0mself\u001b[0m\u001b[0;34m.\u001b[0m\u001b[0m_nargs\u001b[0m\u001b[0;34m)\u001b[0m \u001b[0;32mif\u001b[0m \u001b[0mself\u001b[0m\u001b[0;34m.\u001b[0m\u001b[0m_nargs\u001b[0m \u001b[0;32melse\u001b[0m \u001b[0mS\u001b[0m\u001b[0;34m.\u001b[0m\u001b[0mNaturals0\u001b[0m\u001b[0;34m\u001b[0m\u001b[0;34m\u001b[0m\u001b[0m\n\u001b[0m\u001b[1;32m    220\u001b[0m \u001b[0;34m\u001b[0m\u001b[0m\n\u001b[1;32m    221\u001b[0m     \u001b[0;32mdef\u001b[0m \u001b[0m__repr__\u001b[0m\u001b[0;34m(\u001b[0m\u001b[0mcls\u001b[0m\u001b[0;34m)\u001b[0m\u001b[0;34m:\u001b[0m\u001b[0;34m\u001b[0m\u001b[0;34m\u001b[0m\u001b[0m\n",
            "\u001b[0;32m/usr/local/lib/python3.6/dist-packages/sympy/sets/sets.py\u001b[0m in \u001b[0;36m__new__\u001b[0;34m(cls, *args, **kwargs)\u001b[0m\n\u001b[1;32m   1884\u001b[0m \u001b[0;34m\u001b[0m\u001b[0m\n\u001b[1;32m   1885\u001b[0m     \u001b[0;32mdef\u001b[0m \u001b[0m__new__\u001b[0m\u001b[0;34m(\u001b[0m\u001b[0mcls\u001b[0m\u001b[0;34m,\u001b[0m \u001b[0;34m*\u001b[0m\u001b[0margs\u001b[0m\u001b[0;34m,\u001b[0m \u001b[0;34m**\u001b[0m\u001b[0mkwargs\u001b[0m\u001b[0;34m)\u001b[0m\u001b[0;34m:\u001b[0m\u001b[0;34m\u001b[0m\u001b[0;34m\u001b[0m\u001b[0m\n\u001b[0;32m-> 1886\u001b[0;31m         \u001b[0mevaluate\u001b[0m \u001b[0;34m=\u001b[0m \u001b[0mkwargs\u001b[0m\u001b[0;34m.\u001b[0m\u001b[0mget\u001b[0m\u001b[0;34m(\u001b[0m\u001b[0;34m'evaluate'\u001b[0m\u001b[0;34m,\u001b[0m \u001b[0mglobal_evaluate\u001b[0m\u001b[0;34m[\u001b[0m\u001b[0;36m0\u001b[0m\u001b[0;34m]\u001b[0m\u001b[0;34m)\u001b[0m\u001b[0;34m\u001b[0m\u001b[0;34m\u001b[0m\u001b[0m\n\u001b[0m\u001b[1;32m   1887\u001b[0m         \u001b[0;32mif\u001b[0m \u001b[0mevaluate\u001b[0m\u001b[0;34m:\u001b[0m\u001b[0;34m\u001b[0m\u001b[0;34m\u001b[0m\u001b[0m\n\u001b[1;32m   1888\u001b[0m             \u001b[0margs\u001b[0m \u001b[0;34m=\u001b[0m \u001b[0mlist\u001b[0m\u001b[0;34m(\u001b[0m\u001b[0mmap\u001b[0m\u001b[0;34m(\u001b[0m\u001b[0msympify\u001b[0m\u001b[0;34m,\u001b[0m \u001b[0margs\u001b[0m\u001b[0;34m)\u001b[0m\u001b[0;34m)\u001b[0m\u001b[0;34m\u001b[0m\u001b[0;34m\u001b[0m\u001b[0m\n",
            "\u001b[0;31mKeyboardInterrupt\u001b[0m: "
          ]
        }
      ]
    },
    {
      "cell_type": "code",
      "metadata": {
        "id": "9MUNxt-ksD-w"
      },
      "source": [
        "# compare binomial approximation\n",
        "\n",
        "for n in range(1,2):\n",
        "  for k in range(1,10):\n",
        "    binex = mpmath.binomial(n+k,k)\n",
        "    binap = mpmath.exp(n*(mpmath.harmonic(k)-mpmath.euler))/mpmath.gamma(n+1)\n",
        "    ratio = binap/binex\n",
        "    print(\"({} + {}, {}) = {} vs {} --> {}\".format(n,k,k,binex,binap,ratio))"
      ],
      "execution_count": null,
      "outputs": []
    },
    {
      "cell_type": "code",
      "metadata": {
        "id": "qyFtZ76juvJ8"
      },
      "source": [
        "for n in range(10,13):\n",
        "  for p in range(1,30):\n",
        "    zetap = mpmath.zeta(1+p)\n",
        "    sign = (-1,1)[p%2]\n",
        "    term = sign*zetap*sympy.binomial(n+p,p+1)/mpmath.power(2,p)\n",
        "    print(\"n {} p {} --> ({} {}) = {} ; {}\".format(n,p,n+p,p+1,term,zetap))\n",
        "    #tot += sign*zetap*sympy.binomial(n+p,p+1)/mpmath.power(2,p)\n",
        "#  return tot"
      ],
      "execution_count": null,
      "outputs": []
    },
    {
      "cell_type": "code",
      "metadata": {
        "id": "6HtUUnB9RYdQ"
      },
      "source": [
        "mpmath.mp.dps = 25\n",
        "\n",
        "def real_integrand_sincos(t):\n",
        "  return mpmath.power(2*mpmath.cos(t/2),n-1)*mpmath.cos((n-1)*t/2)\n",
        "\n",
        "for n in range(1,50):\n",
        "  #for p in range(50):\n",
        "  p = -1\n",
        "  inp = mpmath.quad(real_integrand_sincos,[-mpmath.pi,mpmath.pi])/(2*mpmath.pi)\n",
        "  print(\"Integral({},{}) = {}\".format(n,p,inp))"
      ],
      "execution_count": null,
      "outputs": []
    },
    {
      "cell_type": "code",
      "metadata": {
        "id": "qF3vxyD1OJHN"
      },
      "source": [
        "\n",
        "def lambda_integrand_rsmall(t):\n",
        "  theta = mpmath.exp(t*mpmath.j)\n",
        "  return mpmath.log(theta*mpmath.zeta(1+theta/2)/2)*mpmath.power(theta,-n)*mpmath.power(2+theta,n-1)\n",
        "\n",
        "r = 3\n",
        "def lambda_integrand_rlarge(t):\n",
        "  theta = r*mpmath.exp(t*mpmath.j)\n",
        "  return mpmath.log(theta*mpmath.zeta(1+theta))*mpmath.power(theta,-n)*mpmath.power(1+theta,n-1)\n",
        "\n",
        "def lambda_integrand_halfline(t):\n",
        "  z = 2/5 + mpmath.j*t\n",
        "  return mpmath.log((z-1)*mpmath.zeta(z))*mpmath.power(z,n-1)/mpmath.power(z-1,n+1) #--> correct\n",
        "  r = mpmath.root(mpmath.power(t,2)+1/4,2)\n",
        "  #theta = mpmath.asin(t/r)\n",
        "  r = mpmath.fabs(z)\n",
        "  theta = mpmath.arg(z)\n",
        "  exptp =  mpmath.exp(theta*mpmath.j)\n",
        "  exptm =  mpmath.exp(-theta*mpmath.j)\n",
        "  return mpmath.log(-r*exptm*mpmath.zeta(z))*mpmath.power(exptp,2*n)/mpmath.power(r,2)\n",
        "  value1 = mpmath.log(mpmath.fabs(r*mpmath.zeta(1/2+mpmath.j*t)))*mpmath.cos(2*n*theta)/mpmath.power(r,2)\n",
        "  value2 = (mpmath.arg(-exptm) + mpmath.arg(mpmath.zeta(1/2+mpmath.j*t)))*mpmath.sin(2*n*theta)/mpmath.power(r,2)\n",
        "  return value1-value2\n",
        "\n",
        "def lambda_integrand_rightline(t):\n",
        "  z = 100 + mpmath.j*t\n",
        "  return mpmath.log((z-1)*mpmath.zeta(z))*mpmath.power(z,n-1)/mpmath.power(z-1,n+1)\n",
        "\n",
        "def lambda_integrand_topline(t):\n",
        "  z = t + mpmath.j*4/5\n",
        "  return mpmath.log((z-1)*mpmath.zeta(z))*mpmath.power(z,n-1)/(mpmath.power(z-1,n+1)*mpmath.j)\n",
        "\n",
        "def lambda_crazy_real(x):\n",
        "  return mpmath.log((x-1)*mpmath.zeta(x))*mpmath.power(1/(1-x),n-1)/mpmath.power(x,2)\n",
        "\n",
        "mpmath.mp.dps = 15\n",
        "for n in range(1,15):\n",
        "  #print(\"{} --> {}\".format(n,n*mpmath.quad(lambda_integrand_rlarge,[0,2*mpmath.pi])/(2*mpmath.pi)))\n",
        "  coef = n/(2*mpmath.pi)\n",
        "  hl = 2*coef * sympy.re(mpmath.quad(lambda_integrand_halfline,[4/5,0]))\n",
        "  tl = 2*coef * sympy.re(mpmath.quad(lambda_integrand_topline,[100,2/5]))\n",
        "  pl = 2*coef * sympy.re(mpmath.quad(lambda_integrand_rightline,[0,4/5]))\n",
        "  #rl = 2*coef * mpmath.quad(lambda_crazy_real,[1/2,100])\n",
        "  print(\"{} --> {} --> {}\".format(n,hl+tl+pl,abs(tl)/(abs(hl)+abs(tl))))\n",
        "  print(\"{} --> {} & {} \".format(n,hl,tl))\n",
        "  #print(\"{} --> {} | {} & {} \".format(n,rl,hl,tl))\n",
        "    "
      ],
      "execution_count": null,
      "outputs": []
    },
    {
      "cell_type": "code",
      "metadata": {
        "id": "4bWa_CZeSmtj"
      },
      "source": [
        "def lambda_integrand_real(t):\n",
        "  theta = mpmath.exp(t*mpmath.j)\n",
        "  #theta2 = mpmath.exp(t/2 * mpmath.j)\n",
        "  zetat = mpmath.zeta(1+theta)\n",
        "  #value = mpmath.log(theta*mpmath.zeta(1+theta))*mpmath.power(2*mpmath.cos(t/2),n-1)*(mpmath.cos((n+1)*t/2) -mpmath.j * mpmath.sin((n+1)*t/2)) #mpmath.power(theta2,-(n+1))\n",
        "  #value = (mpmath.log(mpmath.fabs(mpmath.zeta(1+theta))) + mpmath.j*mpmath.arg(theta*mpmath.zeta(1+theta)))*mpmath.power(2*mpmath.cos(t/2),n-1)*(mpmath.cos((n+1)*t/2) -mpmath.j * mpmath.sin((n+1)*t/2))\n",
        "  #value = (mpmath.log(mpmath.fabs(mpmath.zeta(1+theta))) + mpmath.j*(mpmath.arg(theta) + mpmath.arg(mpmath.zeta(1+theta))))*mpmath.power(2*mpmath.cos(t/2),n-1)*(mpmath.cos((n+1)*t/2) -mpmath.j * mpmath.sin((n+1)*t/2))\n",
        "  rz = mpmath.fabs(zetat)\n",
        "  az = mpmath.arg(zetat)\n",
        "  at = mpmath.arg(theta)\n",
        "  value = (mpmath.log(rz)*mpmath.cos((n+1)*t/2) + (at + az) * mpmath.sin((n+1)*t/2))*mpmath.power(2*mpmath.cos(t/2),n-1)\n",
        "  return value\n",
        "  #return (mpmath.cos((n+1)*t/2)*mpmath.log(mpmath.fabs(zetat)) + (t+mpmath.arg(zetat))*mpmath.sin((n+1)*t/2))*mpmath.power(2*mpmath.cos(t/2),n-1)\n",
        "\n",
        "#mpmath.quad(mylin,[0,mpmath.j])\n",
        "#lambda1_integrand(1)\n",
        "for n in range(1,15):\n",
        "  print(\"{} --> {}\".format(n,n*mpmath.quad(lambda_integrand_real,[0,2*mpmath.pi])/(2*mpmath.pi)))"
      ],
      "execution_count": null,
      "outputs": []
    },
    {
      "cell_type": "code",
      "metadata": {
        "id": "AIDY9Edkwe2d"
      },
      "source": [
        ""
      ],
      "execution_count": null,
      "outputs": []
    },
    {
      "cell_type": "code",
      "metadata": {
        "id": "owi639V-6qIm"
      },
      "source": [
        "Nt = 1000\n",
        "dt = np.arange(0,2*mpmath.pi,2*mpmath.pi/Nt)\n",
        "\n",
        "lts = {}\n",
        "\n",
        "for n in range(1,8):\n",
        "  lt = np.array([lambda_integrand_real(t) for t in dt])\n",
        "  lts[n] = lt\n"
      ],
      "execution_count": null,
      "outputs": []
    },
    {
      "cell_type": "code",
      "metadata": {
        "id": "LRovm1l8xMs_"
      },
      "source": [
        "plt.figure(figsize=(15,10))\n",
        "plt.plot(dt, lts[1], 'k.')\n",
        "plt.plot(dt, lts[2], 'g.')\n",
        "plt.plot(dt, lts[3], 'b.')\n",
        "plt.plot(dt, lts[4], 'r.')\n",
        "plt.plot(dt, lts[5], 'y.')\n",
        "plt.plot(dt, lts[6], 'c.')\n",
        "plt.plot(dt, lts[7], 'm.')\n",
        "#plt.plot(dn,mypow(dn,*popt),'r-')\n",
        "#plt.xscale('log')\n",
        "#plt.yscale('log')\n",
        "\n",
        "axes = plt.gca()\n",
        "#axes.set_xlim([2020,2060])\n",
        "axes.set_ylim([-10,10])\n",
        "\n",
        "plt.show()"
      ],
      "execution_count": null,
      "outputs": []
    },
    {
      "cell_type": "code",
      "metadata": {
        "id": "YQ2RghJwyC4V"
      },
      "source": [
        "def lambda_integrand_real_term1(t):\n",
        "  theta = mpmath.exp(t*mpmath.j)\n",
        "  zetat = mpmath.zeta(1+theta)\n",
        "  rz = mpmath.fabs(zetat)\n",
        "#  az = mpmath.arg(zetat)\n",
        "#  at = mpmath.arg(theta)\n",
        "#  value = (mpmath.log(rz)*mpmath.cos((n+1)*t/2) + (at + az) * mpmath.sin((n+1)*t/2))*mpmath.power(2*mpmath.cos(t/2),n-1)\n",
        "  value = (mpmath.log(rz)*mpmath.cos((n+1)*t/2))*mpmath.power(2*mpmath.cos(t/2),n-1)\n",
        "  return value\n",
        "\n",
        "def lambda_integrand_real_term2(t):\n",
        "  theta = mpmath.exp(t*mpmath.j)\n",
        "  zetat = mpmath.zeta(1+theta)\n",
        "#  rz = mpmath.fabs(zetat)\n",
        "  az = mpmath.arg(zetat)\n",
        "  at = mpmath.arg(theta)\n",
        "#  value = (mpmath.log(rz)*mpmath.cos((n+1)*t/2) + (at + az) * mpmath.sin((n+1)*t/2))*mpmath.power(2*mpmath.cos(t/2),n-1)\n",
        "  value = ((at + az) * mpmath.sin((n+1)*t/2))*mpmath.power(2*mpmath.cos(t/2),n-1)\n",
        "  return value\n",
        "\n",
        "for n in range(1,15):\n",
        "  print(\"{} --> {} + {}\".format(n,mpmath.quad(lambda_integrand_real_term1,[0,2*mpmath.pi])/(2*mpmath.pi),mpmath.quad(lambda_integrand_real_term2,[0,2*mpmath.pi])/(2*mpmath.pi)))"
      ],
      "execution_count": null,
      "outputs": []
    },
    {
      "cell_type": "code",
      "metadata": {
        "id": "z0e2Upsf0UaC"
      },
      "source": [
        "Nt = 1000\n",
        "dt = np.arange(0,2*mpmath.pi,2*mpmath.pi/Nt)\n",
        "\n",
        "#lts = {}\n",
        "\n",
        "for n in range(3,4):\n",
        "  lt1 = np.array([lambda_integrand_real_term1(t) for t in dt])\n",
        "  lt2 = np.array([lambda_integrand_real_term2(t) for t in dt])\n",
        "  #lts[n] = lt"
      ],
      "execution_count": null,
      "outputs": []
    },
    {
      "cell_type": "code",
      "metadata": {
        "id": "zCVPSmgV2mKC"
      },
      "source": [
        "plt.figure(figsize=(15,10))\n",
        "plt.plot(dt, lt1, 'k.')\n",
        "plt.plot(dt, lt2, 'b.')\n",
        "plt.plot(dt, lt1+lt2, 'g.')\n",
        "#plt.plot(dt, lts[4], 'r.')\n",
        "#plt.plot(dt, lts[5], 'y.')\n",
        "#plt.plot(dt, lts[6], 'c.')\n",
        "#plt.plot(dt, lts[7], 'm.')\n",
        "\n",
        "#plt.xscale('log')\n",
        "#plt.yscale('log')\n",
        "\n",
        "axes = plt.gca()\n",
        "#axes.set_xlim([2020,2060])\n",
        "#axes.set_ylim([-10,10])\n",
        "\n",
        "plt.show()"
      ],
      "execution_count": null,
      "outputs": []
    },
    {
      "cell_type": "code",
      "metadata": {
        "id": "AxMDKEAM4hDu"
      },
      "source": [
        "mpmath.mp.dps = 15\n",
        "\n",
        "Nt = 1000\n",
        "dt = np.arange(0,2*mpmath.pi,2*mpmath.pi/Nt)\n",
        "dt = np.arange(0,2.10,2.10/Nt)\n",
        "\n",
        "lzr = np.array([log_zeta_real(t) for t in dt])\n",
        "lzi = np.array([log_zeta_imag(t) for t in dt])\n",
        "\n",
        "dlzr = np.array([mpmath.diff(log_zeta_real,t) for t in dt])\n",
        "d2lzr = np.array([mpmath.diff(log_zeta_real,t,n=2) for t in dt])\n",
        "dlzi = np.array([mpmath.diff(log_zeta_imag,t) for t in dt])"
      ],
      "execution_count": null,
      "outputs": []
    },
    {
      "cell_type": "code",
      "metadata": {
        "id": "3y5_pcID4w25"
      },
      "source": [
        "def mylin(x,a):\n",
        "  return a*x\n",
        "\n",
        "def mysin(x,a,b,c):\n",
        "  return a*np.sin(b*x+c)\n",
        "\n",
        "def mycos(x,a,b,c):\n",
        "  return a*np.cos(b*x**c)\n",
        "\n",
        "def mygaus(x,a,b,c):\n",
        "  return a*np.exp(b*(x-c)**2)\n",
        "\n",
        "def mypol(x,a,b):#,c,d,f):\n",
        "  return a*np.power(x,1) + b*np.power(x,3)# + c*np.power(x,5) + d*np.power(x,7) + f*np.power(x,9)\n",
        "\n",
        "lzr0 = log_zeta_real(0)\n",
        "#cz = np.array([0.20*mpmath.cos(0.1*t**3.2) for t in dt])\n",
        "sz = np.array([0.596*mpmath.sin(1.055*t-0.172) for t in dt])\n",
        "egz = np.array([0.5-1.18*mpmath.exp(-0.441*(t-3.14159)**2) for t in dt])\n",
        "linz = np.array([t/3. for t in dt])\n",
        "quadz = np.array([(-mpmath.power(t,2)/6.0 +lzr0) for t in dt])\n",
        "polz = np.array([-0.156*mpmath.power(t,2) -0.00577191*mpmath.power(t,4) + 0.000897*mpmath.power(t,6) +0.49758293 for t in dt])\n",
        "\n",
        "#popt, pcov = opt.curve_fit(mysin,  dt,  lzi,  p0=(0.6,1.0,0.5))\n",
        "#print(popt)\n",
        "#print(dlzr)\n",
        "\n",
        "popt, pcov = opt.curve_fit(mypol,  dt,  dlzr,  p0=(0.3,0.1))#,0.01,0.001,0.0001))\n",
        "print(popt)\n",
        "\n",
        "#popt, pcov = opt.curve_fit(mygaus,  dt,  -lzr + lzr[0],  p0=(1.2,1.5,3.14))\n",
        "#print(popt)\n",
        "\n",
        "plt.figure(figsize=(15,10))\n",
        "#plt.plot(dt, -lzr + lzr[0], 'k.')\n",
        "plt.plot(dt, lzr, 'k.')\n",
        "#plt.plot(dt,[1.18*mpmath.exp(-0.441*(t-3.14159)**2) for t in dt],'g.')\n",
        "#plt.plot(dt, lzi, 'b.')\n",
        "plt.plot(dt, -dlzr, 'r.')\n",
        "plt.plot(dt, d2lzr, 'b.')\n",
        "#plt.plot(dt, dlzi, 'g.')\n",
        "#plt.plot(dt, linz, 'm.')\n",
        "#plt.plot(dt, linz + dlzr, 'c.')\n",
        "#plt.plot(dt, quadz, 'y.')\n",
        "#plt.plot(dt, lzr-polz, 'b.')\n",
        "#plt.plot(dt, polz, 'g.')\n",
        "\n",
        "\n",
        "#plt.plot(dt,[-mypol(t,float(popt[0]),float(popt[1]),float(popt[2]),float(popt[3]),float(popt[4])) for t in dt] ,'b-')\n",
        "plt.plot(dt,[-mypol(t,float(popt[0]),float(popt[1])) for t in dt] ,'b-')\n",
        "\n",
        "#plt.xscale('log')\n",
        "#plt.yscale('log')\n",
        "\n",
        "axes = plt.gca()\n",
        "#axes.set_xlim([2.0,2.25])\n",
        "#axes.set_ylim([-.02,0.05])\n",
        "#axes.set_ylim([-1,1])\n",
        "print(lzr[0])\n",
        "plt.show()"
      ],
      "execution_count": null,
      "outputs": []
    },
    {
      "cell_type": "code",
      "metadata": {
        "id": "J5t_x5r6iIXX"
      },
      "source": [
        "mpmath.mp.dps = 50\n",
        "\n",
        "Nt = 2000\n",
        "dt = np.arange(-mpmath.pi,mpmath.pi,2*mpmath.pi/Nt)\n",
        "#dt = np.arange(-2.10,2.10,4.20/Nt)\n",
        "\n",
        "lzr = np.array([log_zeta_real(t) for t in dt])\n"
      ],
      "execution_count": null,
      "outputs": []
    },
    {
      "cell_type": "code",
      "metadata": {
        "id": "doUrXII5i9u7"
      },
      "source": [
        "#lzi = np.array([log_zeta_imag(t) for t in dt])\n",
        "\n",
        "lps = {}\n",
        "for p in range(2,30,2):\n",
        "  lps[p] = mpmath.diff(log_zeta_real,mpmath.pi*3/4,n=p)/mpmath.gamma(p)\n",
        "  ratio = 1\n",
        "  if p > 2:\n",
        "    ratio = lps[p]/lps[p-2]\n",
        "  print(\"p = {} --> Lp(0) = {} --> ratio = {}\".format(p,lps[p],ratio))\n",
        "\n",
        "#dlzr = np.array([mpmath.diff(log_zeta_real,t) for t in dt])\n",
        "#d2lzr = np.array([mpmath.diff(log_zeta_real,t,n=2) for t in dt])\n",
        "#dlzi = np.array([mpmath.diff(log_zeta_imag,t) for t in dt])"
      ],
      "execution_count": null,
      "outputs": []
    },
    {
      "cell_type": "code",
      "metadata": {
        "id": "68t3C9R5mDLS"
      },
      "source": [
        "mpmath.mp.dps = 25\n",
        "\n",
        "def lambda_integrand_derivative_real1(t):\n",
        "  cosval = mpmath.sin(n*t/2)*mpmath.power(2*mpmath.cos(t/2),n)\n",
        "  value = mpmath.diff(log_zeta_real,t)*cosval\n",
        "  #value = cosval*mpmath.sin(1.5*t)\n",
        "  return value #(n*mpmath.sqrt(n)*mpmath.log(n+1))#*mpmath.log(n+1))\n",
        "\n",
        "for n in range(1,15):\n",
        "  print(\"{} --> {}\".format(n,mpmath.quad(lambda_integrand_derivative_real1,[0,mpmath.pi])*(-2./mpmath.pi)))\n",
        "\n",
        "\n"
      ],
      "execution_count": null,
      "outputs": []
    },
    {
      "cell_type": "code",
      "metadata": {
        "id": "wP3ZkoMt3AxJ"
      },
      "source": [
        "mpmath.mp.dps = 50\n",
        "\n",
        "def integrand_powers(t):\n",
        "  cosval = mpmath.sin(n*t/2)*mpmath.power(2*mpmath.cos(t/2),n)\n",
        "  value = cosval*mpmath.power(t,p)\n",
        "  return value #/(n*mpmath.log(n+1)*mpmath.log(n+1))\n",
        "\n",
        "dn = np.arange(1,150,1)\n",
        "p0iz,p1iz,p2iz,p3iz,p10iz,p11iz = [],[],[],[],[],[]\n",
        "for n in dn:\n",
        "  #print(\"{} --> {}\".format(n,mpmath.quad(lambda_integrand_derivative_real1,[0,mpmath.pi])*(-2./mpmath.pi)))\n",
        "  #print(\"{} --> {}\".format(n,mpmath.quad(integrand_powers,[0,mpmath.pi])*(-2./mpmath.pi)))\n",
        "  p = 0; p0iz.append(abs(mpmath.quad(integrand_powers,[0,mpmath.pi])*(-2./(mpmath.pi))))\n",
        "  p = 1; p1iz.append(abs(mpmath.quad(integrand_powers,[0,mpmath.pi])*(-2./(mpmath.pi))))\n",
        "  p = 2; p2iz.append(abs(mpmath.quad(integrand_powers,[0,mpmath.pi])*(-2./(mpmath.pi))))\n",
        "  p = 3; p3iz.append(abs(mpmath.quad(integrand_powers,[0,mpmath.pi])*(-2./(mpmath.pi))))\n",
        "  p = 10; p10iz.append(abs(mpmath.quad(integrand_powers,[0,mpmath.pi])*(-2./(mpmath.pi))))\n",
        "  p = 11; p11iz.append(abs(mpmath.quad(integrand_powers,[0,mpmath.pi])*(-2./(mpmath.pi))))\n",
        "\n"
      ],
      "execution_count": null,
      "outputs": []
    },
    {
      "cell_type": "code",
      "metadata": {
        "id": "xStAH_Il8BPY"
      },
      "source": [
        "plt.figure(figsize=(15,10))\n",
        "#plt.plot(dt, -lzr + lzr[0], 'k.')\n",
        "\n",
        "for i, (p0,p1,p2,p3,p10,p11) in enumerate(zip(p0iz,p1iz,p2iz,p3iz,p10iz,p11iz)):\n",
        "  p0iz[i] = p0*(i+1); p1iz[i] = p1*(i+1); p2iz[i] = p2*(i+1); p3iz[i] = p3*(i+1); p10iz[i] = p10*(i+1); p11iz[i] = p11*(i+1)\n",
        "\n",
        "plt.plot(dn, p0iz, 'r.')\n",
        "plt.plot(dn, p1iz, 'k.')\n",
        "plt.plot(dn, p2iz, 'm.')\n",
        "plt.plot(dn, p3iz, 'b.')\n",
        "plt.plot(dn, p10iz, 'g.')\n",
        "plt.plot(dn, p11iz, 'c.')\n",
        "\n",
        "plt.xscale('log')\n",
        "plt.yscale('log')\n",
        "\n",
        "axes = plt.gca()\n",
        "axes.set_xlim([20,150])\n",
        "#axes.set_ylim([-.02,0.05])\n",
        "#axes.set_ylim([-1,1])\n",
        "plt.show()"
      ],
      "execution_count": null,
      "outputs": []
    },
    {
      "cell_type": "code",
      "metadata": {
        "id": "KocvHra65Iq5"
      },
      "source": [
        "\n",
        "mpmath.mp.dps = 30\n",
        "p = 1\n",
        "\n",
        "def lambda_integrand_real_fast(t):\n",
        "  theta = mpmath.exp(t*mpmath.j)\n",
        "  zetat = mpmath.zeta(1+theta)\n",
        "  rz = mpmath.fabs(zetat)\n",
        "  value = (mpmath.log(rz)*mpmath.cos((n+p)*t/2))*mpmath.power(2*mpmath.cos(t/2),n-p) # --> correct one\n",
        "#  value = mpmath.diff(log_zeta_imag,t)*mpmath.cos((n+p)*t/2)*mpmath.power(2*mpmath.cos(t/2),n-p)\n",
        "  #value = (-mpmath.power(t,2)/6.+lzr0)*mpmath.cos((n+p)*t/2)*mpmath.power(2*mpmath.cos(t/2),n-p)\n",
        "  ##value = mpmath.cos((n+p)*t/2)*mpmath.power(2*mpmath.cos(t/2),n-p)\n",
        "  return value\n",
        "\n",
        "def approx_lambda_integrand_real_fast(t):\n",
        "  #theta = mpmath.exp(t*mpmath.j)\n",
        "  #zetat = mpmath.zeta(1+theta)\n",
        "  #rz = mpmath.fabs(zetat)\n",
        "  #value = (mpmath.log(rz)*mpmath.cos((n+p)*t/2))*mpmath.power(2*mpmath.cos(t/2),n-p)\n",
        "#  value = mpmath.diff(log_zeta_imag,t)*mpmath.cos((n+p)*t/2)*mpmath.power(2*mpmath.cos(t/2),n-p)\n",
        "  #value = (-mpmath.power(t,2)/6.+lzr0)*mpmath.cos((n+p)*t/2)*mpmath.power(2*mpmath.cos(t/2),n-p)\n",
        "  value = (-0.156*mpmath.power(t,2) -0.00577191*mpmath.power(t,4) + 0.000897*mpmath.power(t,6) +0.49758293)*mpmath.cos((n+p)*t/2)*mpmath.power(2*mpmath.cos(t/2),n-p)\n",
        "  ##value = mpmath.cos((n+p)*t/2)*mpmath.power(2*mpmath.cos(t/2),n-p)\n",
        "  return value\n",
        "\n",
        "def lambda_integrand_real_fast_v1(t):\n",
        "  theta = mpmath.exp(t*mpmath.j)\n",
        "  zetat = mpmath.zeta(1+theta)\n",
        "  rz = mpmath.fabs(zetat)\n",
        "  value1 = mpmath.cos(n*t/2)*mpmath.power(mpmath.cos(t/2),n-1) * mpmath.cos(t/2)\n",
        "  value = mpmath.log(rz)*value1\n",
        "  return value\n",
        "\n",
        "def lambda_integrand_real_fast_v2(t):\n",
        "  theta = mpmath.exp(t*mpmath.j)\n",
        "  zetat = mpmath.zeta(1+theta)\n",
        "  rz = mpmath.fabs(zetat)\n",
        "  value2 = mpmath.sin(n*t/2)*mpmath.power(mpmath.cos(t/2),n-1) *mpmath.sin(t/2)\n",
        "  value = mpmath.log(rz)*value2\n",
        "  return value\n",
        "\n",
        "\n",
        "#mpmath.quad(mylin,[0,mpmath.j])\n",
        "#lambda1_integrand(1)\n",
        "for n in range(75,100):\n",
        "  #print(\"{} --> {}\".format(n,2*n*mpmath.quad(lambda_integrand_real_fast,[0,mpmath.pi])/(mpmath.pi)))\n",
        "  #lambdan = 2*n*mpmath.quad(lambda_integrand_real_fast,[0,mpmath.pi])/(mpmath.pi)\n",
        "  #lambdan_approx = 2*n*mpmath.quad(approx_lambda_integrand_real_fast,[0,2.15])/(mpmath.pi) + 41.3\n",
        "  #ratio = (lambdan_approx)/lambdan\n",
        "  #print(\"{} --> {} vs {}, diff = {}\".format(n,lambdan,lambdan_approx,ratio))\n",
        "  coef = 2/mpmath.pi *n\n",
        "  lambdan = coef*mpmath.quad(lambda_integrand_real_fast,[0,mpmath.pi])\n",
        "  thetan = 2.1 #2*mpmath.acos(mpmath.root(1e-3,n-1))\n",
        "  lambdan_v1 = coef*mpmath.quad(lambda_integrand_real_fast_v1,[0,thetan])\n",
        "  lambdan_v2 = coef*mpmath.quad(lambda_integrand_real_fast_v2,[0,thetan])\n",
        "  lambdan_v12 = (lambdan_v1-lambdan_v2) *mpmath.power(2,n-1)\n",
        "  ratio = (lambdan_v1-lambdan_v2)/lambdan_v1\n",
        "  print(\"{} --> {} vs {} w/ {}: {} & {} %--> {}\".format(n,lambdan,lambdan_v12,thetan,lambdan_v1,lambdan_v2,ratio))"
      ],
      "execution_count": null,
      "outputs": []
    },
    {
      "cell_type": "code",
      "metadata": {
        "id": "LRXWAcxZjm9G"
      },
      "source": [
        "n = 35\n",
        "for p in range(1,n):\n",
        "  print(\"{} --> {}\".format(p,2*n*mpmath.quad(lambda_integrand_real_fast,[0,mpmath.pi])/(mpmath.pi)))"
      ],
      "execution_count": null,
      "outputs": []
    },
    {
      "cell_type": "code",
      "metadata": {
        "id": "ccNxDZ8E_Ed3"
      },
      "source": [
        "mpmath.mp.dps = 25\n",
        "\n",
        "mpmath.quad(log_zeta_imag,[0,mpmath.pi])"
      ],
      "execution_count": null,
      "outputs": []
    },
    {
      "cell_type": "code",
      "metadata": {
        "id": "kyGdoAuRCtJ9"
      },
      "source": [
        "def log_zeta_real_rsmall(t):\n",
        "  theta = mpmath.exp(t*mpmath.j)\n",
        "  zetat = mpmath.zeta(1+theta/2)\n",
        "  rz = mpmath.fabs(zetat*theta/2)\n",
        "  #value = (mpmath.log(rz)*mpmath.cos((n+1)*t/2))*mpmath.power(2*mpmath.cos(t/2),n-1)\n",
        "  value = mpmath.log(rz)\n",
        "  return value\n",
        "\n",
        "def log_zeta_imag_rsmall(t):\n",
        "  theta = mpmath.exp(t*mpmath.j)\n",
        "  zetat = mpmath.zeta(1+theta/2)\n",
        "  az = mpmath.arg(zetat)\n",
        "  at = mpmath.arg(theta/2)\n",
        "  #value = ((at + az) * mpmath.sin((n+1)*t/2))*mpmath.power(2*mpmath.cos(t/2),n-1)\n",
        "  value = (at + az) \n",
        "  return value\n",
        "\n",
        "\n",
        "Nt = 1000\n",
        "dt = np.arange(0,2*mpmath.pi,2*mpmath.pi/Nt)\n",
        "\n",
        "lzr = np.array([log_zeta_real_rsmall(t) for t in dt])\n",
        "lzi = np.array([log_zeta_imag_rsmall(t) for t in dt])\n"
      ],
      "execution_count": null,
      "outputs": []
    },
    {
      "cell_type": "code",
      "metadata": {
        "id": "qm2gqdb7TyVI"
      },
      "source": [
        "plt.figure(figsize=(15,10))\n",
        "plt.plot(dt, lzr, 'k.')\n",
        "plt.plot(dt, lzi, 'b.')\n",
        "\n",
        "#plt.xscale('log')\n",
        "#plt.yscale('log')\n",
        "\n",
        "axes = plt.gca()\n",
        "#axes.set_xlim([2020,2060])\n",
        "#axes.set_ylim([0.4,0.6])\n",
        "\n",
        "plt.show()"
      ],
      "execution_count": null,
      "outputs": []
    },
    {
      "cell_type": "code",
      "metadata": {
        "id": "SmJiXBxQW63_"
      },
      "source": [
        "Nt = 1000\n",
        "dt = np.arange(0,mpmath.pi,mpmath.pi/Nt)\n",
        "\n",
        "p = 100\n",
        "\n",
        "lzr = np.array([log_zeta_real(t) for t in dt])\n",
        "cpz = np.array([mpmath.cos((p+1)*t/2) for t in dt])\n",
        "czp = np.array([mpmath.cos(t/2)**(p-1) for t in dt])\n",
        "\n",
        "plt.figure(figsize=(15,10))\n",
        "plt.plot(dt, lzr, 'k.')\n",
        "plt.plot(dt, cpz, 'g.')\n",
        "plt.plot(dt, czp, 'b.')\n",
        "\n",
        "#plt.xscale('log')\n",
        "#plt.yscale('log')\n",
        "\n",
        "axes = plt.gca()\n",
        "#axes.set_xlim([2020,2060])\n",
        "#axes.set_ylim([0.4,0.6])\n"
      ],
      "execution_count": null,
      "outputs": []
    },
    {
      "cell_type": "code",
      "metadata": {
        "id": "h4CbuBrYjF9m"
      },
      "source": [
        ""
      ],
      "execution_count": null,
      "outputs": []
    },
    {
      "cell_type": "code",
      "metadata": {
        "id": "gFeQAKshUDOx"
      },
      "source": [
        "def my_integral_term(t):\n",
        "  theta = mpmath.exp(t*mpmath.j)\n",
        "  zetat = mpmath.zeta(1+theta)\n",
        "  rz = mpmath.fabs(zetat)\n",
        "  value = mpmath.log(rz)*mpmath.cos((n+1)*t/2) #*mpmath.power(2*mpmath.cos(t/2),n-1)\n",
        "  return value\n",
        "\n",
        "def my_integral_of_lambda(Np,Nd = 10):\n",
        "  tot = 0.\n",
        "  q_cycle = 2*mpmath.pi/(n+1)\n",
        "  dp = q_cycle/Np\n",
        "  for q in range(0,(n+1)//2):\n",
        "    theta_q = q* q_cycle\n",
        "    theta_qp1 = (q+1)* q_cycle\n",
        "    cosq = mpmath.power(mpmath.cos(theta_q/2),n-1)\n",
        "    #print(\"q = {} --> cosq = {}\".format(q,cosq))\n",
        "    #if cosq < 1e-4:\n",
        "    #  break\n",
        "    term = 0.\n",
        "    for j in range(0,Np//2):\n",
        "      term += my_integral_term(theta_q+j*dp)*mpmath.power(mpmath.cos((theta_q+j*dp)/2)/mpmath.cos(theta_q/2),n-1) + my_integral_term(theta_qp1-(j+1)*dp)*mpmath.power(mpmath.cos((theta_qp1-(j+1)*dp)/2)/mpmath.cos(theta_q/2),n-1)\n",
        "    tot += term*mpmath.power(mpmath.cos(theta_q/2)*2,n-1)\n",
        "  #tot = tot*mpmath.power(2,n-1) \n",
        "  #print(q)\n",
        "  return tot*2*n*dp/mpmath.pi\n",
        "\n",
        "n = 1\n",
        "my_integral_of_lambda(1000)"
      ],
      "execution_count": null,
      "outputs": []
    },
    {
      "cell_type": "code",
      "metadata": {
        "id": "9dGaNIBlmn-5"
      },
      "source": [
        "for n in range(1,2):\n",
        "  print(\"{} --> {} vs {}\".format(n,my_integral_of_lambda(1000),2*n*mpmath.quad(lambda_integrand_real_fast,[0,mpmath.pi])/(mpmath.pi)))"
      ],
      "execution_count": null,
      "outputs": []
    },
    {
      "cell_type": "code",
      "metadata": {
        "id": "3pn6rRjqsMzV"
      },
      "source": [
        "mpmath.mp.dps = 30\n",
        "\n",
        "for n in range(1,100):\n",
        "  coef = 2*n/mpmath.pi\n",
        "  theta_max = 2*mpmath.acos(mpmath.root(1e-2,n-1)/2)\n",
        "  ltd = coef*mpmath.quad(lambda_integrand_real_fast,[0,theta_max])\n",
        "  lfl = coef*mpmath.quad(lambda_integrand_real_fast,[0,mpmath.pi])\n",
        "  print(\"{} --> {}: {} vs {}, ratio = {}\".format(n,theta_max,ltd,lfl,ltd/lfl))"
      ],
      "execution_count": null,
      "outputs": []
    },
    {
      "cell_type": "code",
      "metadata": {
        "id": "cbRPw70Nt5xs"
      },
      "source": [
        "mpmath.mp.dps = 25\n",
        "p = 1\n",
        "\n",
        "def mocklambda_integrand_real_fast(t):\n",
        "  #theta = mpmath.exp(t*mpmath.j)\n",
        "  #zetat = mpmath.zeta(1+theta)\n",
        "  #rz = mpmath.fabs(zetat)\n",
        "  #rz = mpmath.cos(t/2)#*0.596 - 0.1\n",
        "  #rz = (0.5-1.2/3.14*t)/10000\n",
        "  #rz = mpmath.fabs(0.5-1.18*mpmath.exp(-0.441*(t-3.14159)**2))\n",
        "  rz = t \n",
        "  value = rz*mpmath.sin((n+p)*t/2)*mpmath.power(2*mpmath.cos(t/2),n-p)\n",
        "  #value = mpmath.cos((n+p)*t/2)*mpmath.power(2*mpmath.cos(t/2),n-p)\n",
        "  return value\n",
        "\n",
        "#mpmath.quad(mylin,[0,mpmath.j])\n",
        "#lambda1_integrand(1)\n",
        "for n in range(1,50):\n",
        "  print(\"{} --> {}\".format(n,2*n*mpmath.quad(mocklambda_integrand_real_fast,[0,mpmath.pi])/(mpmath.pi)))\n",
        "\n"
      ],
      "execution_count": null,
      "outputs": []
    },
    {
      "cell_type": "code",
      "metadata": {
        "id": "QUQoQerYoZG0"
      },
      "source": [
        "mpmath.mp.dps = 25\n",
        "p = 1\n",
        "\n",
        "def testlambda_integrand_real_fast(t):\n",
        "  #theta = mpmath.exp(t*mpmath.j)\n",
        "  #zetat = mpmath.zeta(1+theta)\n",
        "  #rz = mpmath.fabs(zetat)\n",
        "  #rz = mpmath.cos(t/2)#*0.596 - 0.1\n",
        "  #rz = (0.5-1.2/3.14*t)/10000\n",
        "  #rz = mpmath.fabs(0.5-1.18*mpmath.exp(-0.441*(t-3.14159)**2))\n",
        "  #prod = mpmath.sin(t/2)/mpmath.sin(t*mpmath.power(2,-n))\n",
        "  #for i in range(1,n+1):\n",
        "  #  prod *= mpmath.cos(t/2)/mpmath.cos(t*mpmath.power(2,-n))\n",
        "  rz = t\n",
        "  #value = rz*mpmath.sin((n+p)*t/2)*prod #mpmath.power(2*mpmath.cos(t/2),n-p)\n",
        "  value = rz*mpmath.sin((n+p)*t/2)*mpmath.power(2*mpmath.cos(t/2),n-p)\n",
        "  return value\n",
        "\n",
        "#mpmath.quad(mylin,[0,mpmath.j])\n",
        "#lambda1_integrand(1)\n",
        "for n in range(1,50):\n",
        "  print(\"{} --> {}\".format(n,2*n*mpmath.quad(testlambda_integrand_real_fast,[0,mpmath.pi])/(mpmath.pi)))\n",
        "\n"
      ],
      "execution_count": null,
      "outputs": []
    },
    {
      "cell_type": "code",
      "metadata": {
        "id": "SUhUZnl6bADw"
      },
      "source": [
        ""
      ],
      "execution_count": null,
      "outputs": []
    }
  ]
}