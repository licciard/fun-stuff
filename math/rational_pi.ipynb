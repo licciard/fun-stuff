{
  "nbformat": 4,
  "nbformat_minor": 0,
  "metadata": {
    "colab": {
      "name": "rational_pi.ipynb",
      "provenance": [],
      "authorship_tag": "ABX9TyPrbD79S581FWIEfxIJD7Nx",
      "include_colab_link": true
    },
    "kernelspec": {
      "name": "python3",
      "display_name": "Python 3"
    },
    "language_info": {
      "name": "python"
    }
  },
  "cells": [
    {
      "cell_type": "markdown",
      "metadata": {
        "id": "view-in-github",
        "colab_type": "text"
      },
      "source": [
        "<a href=\"https://colab.research.google.com/github/licciard/fun-stuff/blob/main/math/rational_pi.ipynb\" target=\"_parent\"><img src=\"https://colab.research.google.com/assets/colab-badge.svg\" alt=\"Open In Colab\"/></a>"
      ]
    },
    {
      "cell_type": "markdown",
      "source": [
        "http://davidbau.com/archives/2010/03/14/the_mystery_of_355113.html#:~:text=We%20all%20know%20that%2022,.&text=The%20fraction%20355%2F113%20is,millionth%20of%20the%20exact%20value\n",
        "\n"
      ],
      "metadata": {
        "id": "yLqHsZSqi2A5"
      }
    },
    {
      "cell_type": "code",
      "execution_count": null,
      "metadata": {
        "id": "MmxFZuKhY2gS"
      },
      "outputs": [],
      "source": [
        "import mpmath as mp\n",
        "import numpy as np\n",
        "import matplotlib.pyplot as plt\n",
        "\n",
        "%matplotlib inline"
      ]
    },
    {
      "cell_type": "code",
      "source": [
        "mp.dps = 100"
      ],
      "metadata": {
        "id": "UAqlESV6ZSum"
      },
      "execution_count": null,
      "outputs": []
    },
    {
      "cell_type": "code",
      "source": [
        "mp.nprint(mp.pi,50)"
      ],
      "metadata": {
        "colab": {
          "base_uri": "https://localhost:8080/"
        },
        "id": "gjvcxTJOZDGq",
        "outputId": "50b79b2c-e566-4e78-ba84-143128ccd016"
      },
      "execution_count": null,
      "outputs": [
        {
          "output_type": "stream",
          "name": "stdout",
          "text": [
            "3.141592653589793115997963468544185161590576171875\n"
          ]
        }
      ]
    },
    {
      "cell_type": "code",
      "source": [
        "355./113"
      ],
      "metadata": {
        "colab": {
          "base_uri": "https://localhost:8080/"
        },
        "id": "8_1fB9SzZF8T",
        "outputId": "83439dd3-ce78-4980-91fa-822f3aee8a87"
      },
      "execution_count": null,
      "outputs": [
        {
          "output_type": "execute_result",
          "data": {
            "text/plain": [
              "3.1415929203539825"
            ]
          },
          "metadata": {},
          "execution_count": 17
        }
      ]
    },
    {
      "cell_type": "code",
      "source": [
        "mp.mpf(355)/mp.mpf(113)"
      ],
      "metadata": {
        "colab": {
          "base_uri": "https://localhost:8080/"
        },
        "id": "OCFaumdSatRf",
        "outputId": "37a82d6f-8944-4868-dd3c-ce9528529d3f"
      },
      "execution_count": null,
      "outputs": [
        {
          "output_type": "execute_result",
          "data": {
            "text/plain": [
              "mpf('3.1415929203539825')"
            ]
          },
          "metadata": {},
          "execution_count": 19
        }
      ]
    },
    {
      "cell_type": "code",
      "source": [
        "def get_fritzm(numerator,denominator):\n",
        "  return mp.ln(mp.mpf(1)/mp.fabs(mp.pi-mp.mpf(numerator)/mp.mpf(denominator)))/mp.ln(denominator)"
      ],
      "metadata": {
        "id": "D2WTqSMPZ7_o"
      },
      "execution_count": null,
      "outputs": []
    },
    {
      "cell_type": "code",
      "source": [
        "print(\"22/7 {}\".format(get_fritzm(22,7)))\n",
        "print(\"355/113 {}\".format(get_fritzm(355,113)))\n",
        "print(\"104348/33215 {}\".format(get_fritzm(104348,33215)))"
      ],
      "metadata": {
        "colab": {
          "base_uri": "https://localhost:8080/"
        },
        "id": "YKIDZpCaa-Ry",
        "outputId": "97495455-2805-4afb-f802-09f6a5246ae9"
      },
      "execution_count": null,
      "outputs": [
        {
          "output_type": "stream",
          "name": "stdout",
          "text": [
            "22/7 3.42928833728178\n",
            "355/113 3.20195874233494\n",
            "104348/33215 2.09658215771621\n"
          ]
        }
      ]
    },
    {
      "cell_type": "code",
      "source": [
        "round(mp.fmul(8,mp.pi))"
      ],
      "metadata": {
        "colab": {
          "base_uri": "https://localhost:8080/"
        },
        "id": "O8uKFJlEbPWj",
        "outputId": "3d8fb1b3-8ed0-4c30-c120-c67ac161daf4"
      },
      "execution_count": null,
      "outputs": [
        {
          "output_type": "execute_result",
          "data": {
            "text/plain": [
              "25"
            ]
          },
          "metadata": {},
          "execution_count": 37
        }
      ]
    },
    {
      "cell_type": "code",
      "source": [
        "for i in range(2,10):\n",
        "  denominator = i\n",
        "  numerator = round(mp.fmul(denominator,mp.pi))\n",
        "  print(\"working on {} --> {}\".format(denominator,numerator))\n",
        "  print(\"M = {}\".format(get_fritzm(numerator,denominator)))"
      ],
      "metadata": {
        "colab": {
          "base_uri": "https://localhost:8080/"
        },
        "id": "8yTWVh0tb-Rk",
        "outputId": "5f530e5d-5f30-4e96-b8cd-34e0c3cb12e0"
      },
      "execution_count": null,
      "outputs": [
        {
          "output_type": "stream",
          "name": "stdout",
          "text": [
            "working on 2 --> 6\n",
            "M = 2.82018168048707\n",
            "working on 3 --> 9\n",
            "M = 1.77933653269644\n",
            "working on 4 --> 13\n",
            "M = 1.6027327840865\n",
            "working on 5 --> 16\n",
            "M = 1.76478606625368\n",
            "working on 6 --> 19\n",
            "M = 2.0571529650379\n",
            "working on 7 --> 22\n",
            "M = 3.42928833728178\n",
            "working on 8 --> 25\n",
            "M = 1.97110385372822\n",
            "working on 9 --> 28\n",
            "M = 1.5886559704425\n"
          ]
        }
      ]
    },
    {
      "cell_type": "code",
      "source": [
        "dn = np.arange(2,5000,1)\n",
        "gn = np.array([get_fritzm(round(mp.fmul(int(n),mp.pi)),int(n)) for n in dn])\n",
        "\n",
        "plt.plot(dn, gn, 'k.')"
      ],
      "metadata": {
        "colab": {
          "base_uri": "https://localhost:8080/",
          "height": 282
        },
        "id": "g71MyKyBcepZ",
        "outputId": "379935ee-ef80-44a5-8a2c-a71f2149296c"
      },
      "execution_count": null,
      "outputs": [
        {
          "output_type": "execute_result",
          "data": {
            "text/plain": [
              "[<matplotlib.lines.Line2D at 0x7f1e59ec94d0>]"
            ]
          },
          "metadata": {},
          "execution_count": 63
        },
        {
          "output_type": "display_data",
          "data": {
            "image/png": "[encoded data removed]",
            "text/plain": [
              "<Figure size 432x288 with 1 Axes>"
            ]
          },
          "metadata": {
            "needs_background": "light"
          }
        }
      ]
    },
    {
      "cell_type": "code",
      "source": [
        "plt.xlim(0,2000)\n",
        "plt.ylim(1,2)\n",
        "plt.plot(dn, gn, 'k.')"
      ],
      "metadata": {
        "colab": {
          "base_uri": "https://localhost:8080/",
          "height": 286
        },
        "id": "bAreHSXMfgRy",
        "outputId": "25a8fa00-089a-4f2f-c15c-5f4bfcf9f2d0"
      },
      "execution_count": null,
      "outputs": [
        {
          "output_type": "execute_result",
          "data": {
            "text/plain": [
              "[<matplotlib.lines.Line2D at 0x7f1e5a4b6210>]"
            ]
          },
          "metadata": {},
          "execution_count": 61
        },
        {
          "output_type": "display_data",
          "data": {
            "image/png": "[encoded data removed]",
            "text/plain": [
              "<Figure size 432x288 with 1 Axes>"
            ]
          },
          "metadata": {
            "needs_background": "light"
          }
        }
      ]
    },
    {
      "cell_type": "code",
      "source": [
        ""
      ],
      "metadata": {
        "id": "gTAoyqv3gNy6"
      },
      "execution_count": null,
      "outputs": []
    }
  ]
}