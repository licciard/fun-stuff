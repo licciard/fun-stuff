{
  "nbformat": 4,
  "nbformat_minor": 0,
  "metadata": {
    "colab": {
      "name": "goldbach2.ipynb",
      "provenance": [],
      "collapsed_sections": [],
      "include_colab_link": true
    },
    "kernelspec": {
      "name": "python3",
      "display_name": "Python 3"
    }
  },
  "cells": [
    {
      "cell_type": "markdown",
      "metadata": {
        "id": "view-in-github",
        "colab_type": "text"
      },
      "source": [
        "<a href=\"https://colab.research.google.com/github/licciard/fun-stuff/blob/main/math/goldbach2.ipynb\" target=\"_parent\"><img src=\"https://colab.research.google.com/assets/colab-badge.svg\" alt=\"Open In Colab\"/></a>"
      ]
    },
    {
      "cell_type": "markdown",
      "metadata": {
        "id": "h7bI-8elpq-F"
      },
      "source": [
        "The strategy here is to use Bertrand's proof on the right side of the inequality but with a stricter p^R for p > sqrt(2n) and on the left side use the polynomial approximation"
      ]
    },
    {
      "cell_type": "code",
      "metadata": {
        "id": "QQxEycIzqA4e",
        "outputId": "76dc6221-6719-4c06-8d0c-0f139b6dad2f",
        "colab": {
          "base_uri": "https://localhost:8080/",
          "height": 51
        }
      },
      "source": [
        "import sympy\n",
        "import matplotlib.pyplot as plt\n",
        "import numpy as np\n",
        "import scipy.special as scp\n",
        "import scipy.optimize as opt\n",
        "import random \n",
        "\n",
        "ps = np.array([i for i in sympy.sieve.primerange(3, 10**6)])\n",
        "print(ps)\n",
        "\n",
        "import mpmath\n",
        "print(mpmath.li(100))\n",
        "\n",
        "%matplotlib inline"
      ],
      "execution_count": null,
      "outputs": [
        {
          "output_type": "stream",
          "text": [
            "[     3      5      7 ... 999961 999979 999983]\n",
            "30.1261415840796\n"
          ],
          "name": "stdout"
        }
      ]
    },
    {
      "cell_type": "markdown",
      "metadata": {
        "id": "9WhyZDgdvwVj"
      },
      "source": [
        "### Actual values of the multiplication"
      ]
    },
    {
      "cell_type": "code",
      "metadata": {
        "id": "prlBgxl5v3SL",
        "outputId": "a983f66f-aad9-4345-b981-2ca1250c338f",
        "colab": {
          "base_uri": "https://localhost:8080/",
          "height": 300
        }
      },
      "source": [
        "# function: log(2n x (2n - 1) x ... x (n+1)) = log(2n)+log(2n-1)+...+log(n+1)\n",
        "def log_sum_all(n):\n",
        "  values = np.array(range(n+1,2*n+1))\n",
        "  #print(values)\n",
        "  return np.sum(np.log(values))\n",
        "# print(log_sum_all(10))\n",
        "\n",
        "# function: log(mult primes in (n,2n)) = log(p_k+1) + ... + log(p_K)\n",
        "def log_sum_newprimes(n):\n",
        "  values = np.array([i for i in sympy.sieve.primerange(n+1, 2*n)])\n",
        "  #print(values, np.log(values))\n",
        "  return np.sum(np.log(values))\n",
        "#print(log_sum_newprimes(15))\n",
        "\n",
        "# function: log(mult 2n - primes in (3,n)) = log(2n-3) + log(2n-5) + ... + log(2n-p_k)\n",
        "def log_sum_oldprimes(n):\n",
        "  primes = np.array([i for i in sympy.sieve.primerange(3, n)])\n",
        "  values = 2*n - primes\n",
        "  #print(primes, values, np.log(values))\n",
        "  return np.sum(np.log(values))\n",
        "#print(log_sum_oldprimes(15))\n",
        "\n",
        "# function: log(n!) = log(n)+...+log(1)\n",
        "def log_factorial(n):\n",
        "  values = np.array(range(1,n+1))\n",
        "  #print(values, np.log(values))\n",
        "  return np.sum(np.log(values))\n",
        "# print(log_factorial(10))\n",
        "\n",
        "# actual multiplication without new primes in (n,2n)\n",
        "def log_sum_nonewprimes(n):\n",
        "  allnumbers = np.array(range(n+1,2*n+1))\n",
        "  newprimes = np.array([i for i in sympy.sieve.primerange(n+1, 2*n)])\n",
        "  values = np.array(np.setdiff1d(allnumbers,newprimes))\n",
        "  #print(values,np.log(values))\n",
        "  return np.sum(np.log(values))- n*np.log(n) - 2*n*(np.log(2)-1)\n",
        "#print(log_sum_nonewprimes(15))\n",
        "\n",
        "# if we assume oldprimes must be in multiplication above\n",
        "def log_sum_forceoldprimes(n):\n",
        "  allnumbers = np.array(range(n+1,2*n+1))\n",
        "  newprimes = np.array([i for i in sympy.sieve.primerange(n+1, 2*n)])\n",
        "  no_newprime_values = np.array(np.setdiff1d(allnumbers,newprimes))\n",
        "  oldprimes = np.array([i for i in sympy.sieve.primerange(3, n)])\n",
        "  oldprime_values = 2*n - oldprimes\n",
        "  values = np.union1d(no_newprime_values,oldprime_values)\n",
        "  #print(\"values: {}\".format(values))\n",
        "  #print(newprimes,oldprimes,oldprime_values,values,np.log(values))\n",
        "  return np.sum(np.log(values))- n*np.log(n) - 2*n*(np.log(2)-1)\n",
        "#print(log_sum_forceoldprimes(15))\n",
        "\n",
        "# let's compare difference between forcing old primes into multiplication\n",
        "# and without new primes\n",
        "\n",
        "xi, xf = 50000,50060 # 10**3,2000 #10**4 #10**4,2*10**4 #0  \n",
        "dx = np.arange(xi,xf)\n",
        "reality = np.array([log_sum_nonewprimes(x) for x in dx])\n",
        "assumption = np.array([log_sum_forceoldprimes(x) for x in dx])\n",
        "\n",
        "#plt.plot(dx, assumption-np.array([2**0.5*x/np.log(x) for x in dx]), 'r.')\n",
        "plt.plot(dx, assumption, 'r.')\n",
        "plt.plot(dx, reality, 'k-')\n",
        "#plt.plot(dx, np.array([x/np.log(x) for x in dx]),'b-')\n",
        "#plt.plot(dx, assumption-reality, 'k-')\n",
        "\n",
        "axes = plt.gca()\n",
        "#axes.set_xlim([xmin,xmax])\n",
        "#axes.set_ylim([-100,2000])\n",
        "\n",
        "plt.show()\n",
        "#print(px/apx)\n",
        "\n",
        "print(np.corrcoef(reality,assumption))"
      ],
      "execution_count": null,
      "outputs": [
        {
          "output_type": "display_data",
          "data": {
            "image/png": "[encoded data removed]",
            "text/plain": [
              "<Figure size 432x288 with 1 Axes>"
            ]
          },
          "metadata": {
            "tags": []
          }
        },
        {
          "output_type": "stream",
          "text": [
            "[[ 1.         -0.06295076]\n",
            " [-0.06295076  1.        ]]\n"
          ],
          "name": "stdout"
        }
      ]
    },
    {
      "cell_type": "markdown",
      "metadata": {
        "id": "hZ3u1-TKp9Td"
      },
      "source": [
        "## Right side of the inequality"
      ]
    },
    {
      "cell_type": "code",
      "metadata": {
        "id": "7MBBrxizpfku",
        "outputId": "6da212e8-4471-43ca-860e-35d20c1cb21a",
        "colab": {
          "base_uri": "https://localhost:8080/",
          "height": 273
        }
      },
      "source": [
        "# weak upper bound from Erdos like in Wikipedia\n",
        "# do no forget to include the n! from denominator\n",
        "def ub_wiki(n):\n",
        "  twon = 2*n\n",
        "  return np.sqrt(twon)*np.log(twon)+(twon/3.)*np.log(4)+log_factorial(n)-n*np.log(n)- 2*n*(np.log(2)-1)\n",
        "\n",
        "# my first attempt to put inequality on this sum of R's\n",
        "def ub_caio(n):\n",
        "  twon = 2*n\n",
        "  sqrt2n = np.sqrt(twon)\n",
        "  myterm = twon*(np.log(2)-0.5 + 100./np.log(twon)**4) # 0.014/np.log(twon)) # 2n > 70 111 or n > 36000\n",
        "  #return sqrt2n*np.log(twon)+myterm+(0.5)*np.log(n)+(1-n)\n",
        "  return (sqrt2n/(np.log(sqrt2n)-1.1))*np.log(twon)+myterm+(0.5)*np.log(n)+(1-n) - twon*(np.log(2)-1) #(n+0.5)*np.log(n)+(1-n) #log_factorial(n)\n",
        "  #return sympy.primepi(sqrt2n)*np.log(twon)+myterm+(n+0.5)*np.log(n)+(1-n) #log_factorial(n)\n",
        "\n",
        "def mypi(x,ub=True): # n > 230\n",
        "  sign = (-1,+1)[ub]\n",
        "  return mpmath.li(x)+(sign)*0.2795*(x/np.log(x)**0.75)*np.exp(-np.sqrt(np.log(x)/6.455))\n",
        "  #return mpmath.li(x)+(sign)*np.sqrt(x)*np.log(x)/(8*np.pi)\n",
        "\n",
        "def lb_primes(n):\n",
        "  newprimes = np.array([i for i in sympy.sieve.primerange(n+1, 2*n)])\n",
        "  newprimes = newprimes-1\n",
        "  #print(\"new {}: {}\".format(n,newprimes))\n",
        "  oldprimes = np.array([i for i in sympy.sieve.primerange(3, n+1)])\n",
        "  oldprime_values = 2*n - oldprimes\n",
        "  #print(\"old {}: {}\".format(n,oldprime_values))\n",
        "  allnumbers = np.array(range(n+1,2*n+1))\n",
        "  #print(\"all {}: {}\".format(n,allnumbers))\n",
        "  min_numbers = np.array(np.setdiff1d(allnumbers,newprimes))\n",
        "  #print(\"diff new {}: {}\".format(n,min_numbers))\n",
        "  #min_numbers = np.array(np.setdiff1d(min_numbers,oldprime_values))\n",
        "  #print(\"used {}: {} + {}\".format(n,min_numbers,oldprime_values))\n",
        "  #even_numbers = np.array(range(half,n,2))\n",
        "  #print(\"n = {}: {} = {} + {} + {}\".format(n,len(min_numbers)+len(oldprime_values)+(sympy.primepi(2*n)-sympy.primepi(n)),len(min_numbers),len(oldprime_values),sympy.primepi(2*n)))\n",
        "  #print(\"n = {}: {}+{}={}\".format(n,len(min_numbers)+len(oldprime_values),sympy.primepi(2*n)-sympy.primepi(n),len(min_numbers)+len(oldprime_values)+sympy.primepi(2*n)-sympy.primepi(n)))\n",
        "  #return np.sum(np.log(min_numbers)) + np.sum(np.log(oldprime_values)) - n*np.log(n) - 2*n*(np.log(2)-1)\n",
        "\n",
        "  return np.sum(np.log(min_numbers)) - n*np.log(n) - 2*n*(np.log(2)-1)\n",
        "\n",
        "def lb_stat(n):\n",
        "  #min_numbers = np.array(random.sample(range(n+1,2*n), n-sympy.primepi(2*n)+1))\n",
        "\n",
        "  half = int(np.floor(3*n/2 + 0.6))\n",
        "  min_numbers_low = np.array(random.sample(range(n+1,half+1), (half-n)-(sympy.primepi(half)-sympy.primepi(n)+sympy.primepi(n)-sympy.primepi(half-n))))\n",
        "  min_numbers_high = np.array(random.sample(range(half+1,2*n), (2*n-half)-(sympy.primepi(2*n)-sympy.primepi(half)+sympy.primepi(half-n)-sympy.primepi(2))))\n",
        "  min_numbers = np.union1d(min_numbers_low,min_numbers_high)\n",
        "\n",
        "  oldprimes = np.array([i for i in sympy.sieve.primerange(3, n)])\n",
        "  oldprime_values = 2*n - oldprimes\n",
        "  #even_numbers = np.array(range(half,n,2))\n",
        "  #print(\"n = {}: {} = {} + {} + {}\".format(n,len(min_numbers)+len(oldprime_values)+(sympy.primepi(2*n)-sympy.primepi(n)),len(min_numbers),len(oldprime_values),sympy.primepi(2*n)))\n",
        "  return np.sum(np.log(min_numbers)) + np.sum(np.log(oldprime_values)) - n*np.log(n) - 2*n*(np.log(2)-1)\n",
        "\n",
        "\n",
        "def lb_min(n):\n",
        "#  min_numbers = np.array(range(n+1,2*n))\n",
        "#  half = int(3*n/2)\n",
        "#  min_numbers_low = np.array(random.sample(range(n+1,half+1), (half-n)-sympy.primepi(half)+1))\n",
        "#  min_numbers_high = np.array(random.sample(range(half+1,2*n), (2*n-half)-(sympy.primepi(2*n)-sympy.primepi(half))))\n",
        "#  min_numbers = np.array(random.sample(range(n+1,2*n), n-sympy.primepi(2*n)))\n",
        "#  min_numbers = np.array(range(n+1, 2*n - sympy.primepi(2*n)))\n",
        "  ls = [int(n/4),int(2*n/4),int(3*n/4)]\n",
        "  qs = [int(5*n/4),int(6*n/4),int(7*n/4)]\n",
        "  min_numbers_q1 = np.array(range(n+1, qs[0]+1 - (sympy.primepi(qs[0])-sympy.primepi(ls[2])),2))\n",
        "  min_numbers_q2 = np.array(range(qs[0]+1, qs[1]+1 - (sympy.primepi(qs[1])-sympy.primepi(qs[0])+sympy.primepi(ls[2])-sympy.primepi(ls[1])),2))\n",
        "  min_numbers_q3 = np.array(range(qs[1]+1, qs[2]+1 - (sympy.primepi(qs[2])-sympy.primepi(qs[1])+sympy.primepi(ls[1])-sympy.primepi(ls[0])),2))\n",
        "  min_numbers_q4 = np.array(range(qs[2]+1, 2*n - (sympy.primepi(2*n)-sympy.primepi(qs[2])+sympy.primepi(ls[0])-1),2))\n",
        "#  min_numbers_q1 = np.array(range(n+1, qs[0]+1 - np.floor(mypi(qs[0],False))))\n",
        "#  min_numbers_q2 = np.array(range(qs[0]+1, qs[1]+1 - np.floor(mypi(qs[1])-mypi(qs[0],False))))\n",
        "#  min_numbers_q3 = np.array(range(qs[1]+1, qs[2]+1 - np.floor(mypi(qs[2])-mypi(qs[1],False))))\n",
        "#  min_numbers_q4 = np.array(range(qs[2]+1, 2*n - np.floor(mypi(2*n)-mypi(qs[2],False))))\n",
        "  min_numbers_low = np.union1d(min_numbers_q1,min_numbers_q2)\n",
        "  min_numbers_high = np.union1d(min_numbers_q3,min_numbers_q4)\n",
        "#  hl,hu = int(np.ceil(n/2)),int(np.ceil(3*n/2))\n",
        "#  min_numbers_low = np.array(range(n+1, hu+1 - (sympy.primepi(hu)-sympy.primepi(hl))+1))\n",
        "#  min_numbers_high = np.array(range(hu+1, 2*n - (sympy.primepi(2*n)-sympy.primepi(hu)+sympy.primepi(hl))))\n",
        "  min_numbers = np.union1d(min_numbers_low,min_numbers_high)\n",
        "  oldprimes = np.array([i for i in sympy.sieve.primerange(3, n)])\n",
        "  oldprime_values = 2*n - oldprimes\n",
        "  even_numbers = np.array(range(int(n/2),n,2))\n",
        "  print(\"n = {}: {} : {} + {} = {} + {} \".format(n,len(even_numbers)+len(min_numbers)+len(oldprime_values)+(sympy.primepi(2*n)-sympy.primepi(n)),len(min_numbers_low),len(min_numbers_high),len(min_numbers),len(oldprime_values)))\n",
        "  return np.sum(np.log(even_numbers))+ np.sum(np.log(min_numbers)) + np.sum(np.log(oldprime_values)) - n*np.log(n) - 2*n*(np.log(2)-1)\n",
        "\n",
        "xi, xf = 10,100 #450000,450100 #10**4,2*10**4 #10**4,2*10**4 #0  \n",
        "dx = np.arange(xi,xf)\n",
        "#dx = np.array([i*10**exp for exp in range(2, 6) for i in range(1, 10)])\n",
        "#dm5, dm4, dm3, dm2, dm1, dp1, dp2,dp3,dp4,dp5 = dx-5,dx-4,dx-3,dx-2, dx-1, dx+1, dx+2,dx+3,dx+4,dx+5\n",
        "#dx = np.sort(np.concatenate([dm1,dm2,dx,dp1,dp2], axis=0))\n",
        "lbmin = np.array([lb_primes(x) for x in dx])\n",
        "reality = np.array([log_sum_nonewprimes(x) for x in dx])\n",
        "#assumption = np.array([log_sum_forceoldprimes(x) for x in dx])\n",
        "#ubwiki = np.array([ub_wiki(x) for x in dx])\n",
        "ubcaio = np.array([ub_caio(x) for x in dx])\n",
        "#plt.plot(dx, reality, 'k.')#plt.plot(dx, np.array([1 for x in dx]), 'k-')\n",
        "\n",
        "#plt.plot(dx, assumption, 'r.')\n",
        "#plt.plot(dx, ubcaio, 'g.')\n",
        "plt.plot(dx, lbmin-reality, 'b.')\n",
        "#plt.plot(dx, ubcaio-lbmin, 'g.')\n",
        "#plt.plot(dx, np.array([x/np.log(x) for x in dx]),'b-')\n",
        "plt.xscale('log')\n",
        "#plt.yscale('log')\n",
        "axes = plt.gca()\n",
        "axes.set_ylim([0,0.2])\n",
        "plt.show()\n",
        "\n",
        "#print(lbmin)"
      ],
      "execution_count": null,
      "outputs": [
        {
          "output_type": "display_data",
          "data": {
            "image/png": "[encoded data removed]",
            "text/plain": [
              "<Figure size 432x288 with 1 Axes>"
            ]
          },
          "metadata": {
            "tags": []
          }
        }
      ]
    },
    {
      "cell_type": "code",
      "metadata": {
        "id": "jsbzgxXH3cIQ",
        "colab": {
          "base_uri": "https://localhost:8080/",
          "height": 576
        },
        "outputId": "c61680ff-610f-4c94-de73-11dd0f1d0c67"
      },
      "source": [
        "3\n",
        "# make a stronger upper bound by carefully considering p^R for p > sqrt(2n)\n",
        " \n",
        "# first we calculate it exactly considering\n",
        "# if 2n/(d+1) < p <= 2n/d --> R=B(p)= 0 if d is even\n",
        "def log_sum_primesbelow(n):\n",
        "  primes = np.array([i for i in sympy.sieve.primerange(3, 2*n/3)])\n",
        "  tot = 0.\n",
        "  for p in primes:\n",
        "    #print(\"Looking at p = {}\".format(p))\n",
        "    for d in range(3,int(2*n/3.-1)):\n",
        "      #print(\"Question for d = {}: {} < p <= {}? {}\".format(d,2.*n/(d+1),2.*n/d,(2.*n/(d+1) < p) and (p <= 2.*n/d) and (d%2==1)))\n",
        "      if (2.*n/(d+1) < p) and (p <= 2.*n/d) and (d%2==1):\n",
        "        tot += np.log(p)\n",
        "  return tot \n",
        "#print(log_sum_primesbelow(45))\n",
        "\n",
        "# actual exponent R in p^R that divides (2n n) in sum(R*log(p))\n",
        "# function lets a range of pimes between n1 and n2\n",
        "def logmult_small(n1,n2,n):\n",
        "  primes = np.array([i for i in sympy.sieve.primerange(n1,n2)])\n",
        "  tot = 0\n",
        "  for p in primes:\n",
        "    J = int((np.log(2*n)/np.log(p)))\n",
        "    R = 0\n",
        "    for j in range(1,J+1):\n",
        "      R += (np.floor(2*n/p**j)-2*np.floor(n/p**j))\n",
        "    tot += R*np.log(p)\n",
        "  return tot\n",
        "\n",
        "\n",
        "\n",
        "# strong upper bound from Erdos but using R's when it is 1 or 0 for all primes\n",
        "def ub_strongest(n):\n",
        "  print(\"Working on n = {}\".format(n))\n",
        "  twon = 2*n\n",
        "  return np.sqrt(twon)*np.log(twon)+log_sum_primesbelow(n)+log_factorial(n)\n",
        "\n",
        "\n",
        "\n",
        "\n",
        "# strongest upper bound from Erdos but using actual R's for everything including < sqrt(2n)\n",
        "def ub_erdos_real(n):\n",
        "  return logmult_small(1,2*n/3,n)+log_factorial(n)\n",
        "\n",
        "\n",
        "#xi, xf = 1000, 20000 #65000,65050 #10**3, 10**4#,2*10**4 #10**4,2*10**4 #0  \n",
        "#dx = np.arange(xi,xf)\n",
        "dx = np.array([i*10**exp for exp in range(4,6) for i in range(1, 10)])\n",
        "dm5, dm4, dm3, dm2, dm1, dp1, dp2,dp3,dp4,dp5 = dx-5,dx-4,dx-3,dx-2, dx-1, dx+1, dx+2,dx+3,dx+4,dx+5\n",
        "dx = np.sort(np.concatenate([dm1,dm2,dx,dp1,dp2], axis=0))\n",
        "reality = np.array([log_sum_nonewprimes(x) for x in dx])\n",
        "assumption = np.array([log_sum_forceoldprimes(x) for x in dx])\n",
        "#ubstr = np.array([ub_strongest(x) for x in dx])\n",
        "ubcaio = np.array([ub_caio(x) for x in dx])\n",
        "#plt.plot(dx, reality, 'k*')\n",
        "plt.plot(dx, (assumption - reality)/dx, 'r.')\n",
        "#plt.plot(dx, ubstr, 'b.')\n",
        "plt.plot(dx, (ubcaio - reality)/dx, 'g.')\n",
        "plt.xscale('log')\n",
        "#plt.yscale('log')\n",
        "plt.show()\n",
        "\n",
        "print(ubcaio-reality)"
      ],
      "execution_count": null,
      "outputs": [
        {
          "output_type": "display_data",
          "data": {
            "image/png": "[encoded data removed]",
            "text/plain": [
              "<Figure size 432x288 with 1 Axes>"
            ]
          },
          "metadata": {
            "tags": []
          }
        },
        {
          "output_type": "stream",
          "text": [
            "[ 478.14363071  487.07654617  486.10612279  485.13569811  484.16527212\n",
            "  794.00921263  793.03110879  792.05300448  791.07489971  790.09679446\n",
            " 1084.84099607 1083.85944236 1093.87997156 1092.89841733 1091.91686285\n",
            " 1079.85997509 1090.16608726 1100.47222425 1099.48859167 1098.50495891\n",
            " 1323.27504292 1311.47022123 1310.48515771 1309.50009407 1320.02798576\n",
            " 1218.58677587 1206.59856466 1205.61243652 1204.62630829 1203.64017997\n",
            " 1723.1892016  1722.2022404  1733.0646697  1720.92144355 1719.93448213\n",
            " 1687.40726518 1675.1298588  1674.14222177 1685.13752002 1684.14988287\n",
            " 1822.86501244 1821.87681252 1832.98931913 1832.69426073 1831.70606066\n",
            " 1821.84175811 1820.85307944 1832.07046838 1831.08178962 1842.29919846\n",
            " 2860.64802237 2847.45063206 2846.45930938 2845.46798669 2844.47666398\n",
            " 3952.15847966 3951.16594658 3963.47809675 3962.48556364 3961.49303052\n",
            " 4165.70862803 4164.71535641 4177.31445054 4176.3211789  4175.32790726\n",
            " 4298.99738735 4298.00360233 4297.0098173  4296.01603227 4308.83776079\n",
            " 5836.61703525 5822.31818207 5835.32184343 5834.3276735  5833.33350357\n",
            " 6475.25995366 6474.26548056 6487.42298953 6472.96967938 6471.97520627\n",
            " 5929.95013657 5915.36305039 5914.36832996 5913.37360953 5912.3788891\n",
            " 6490.1574633  6489.1625358  6502.57090498 6487.86582633 6486.87089883]\n"
          ],
          "name": "stdout"
        }
      ]
    },
    {
      "cell_type": "markdown",
      "metadata": {
        "id": "CmukUJK1Bnlt"
      },
      "source": [
        "### Now to the left side...."
      ]
    },
    {
      "cell_type": "code",
      "metadata": {
        "id": "WlZ20URxWvvV",
        "colab": {
          "base_uri": "https://localhost:8080/",
          "height": 269
        },
        "outputId": "9ae823a0-7e6a-4793-d34c-f4cfaf71c36d"
      },
      "source": [
        "# first show my approximation is good for primes as n increases\n",
        "\n",
        "# approximation of the function for all numbers up to n\n",
        "def approx_log_sum_all(n):\n",
        "  roots = 2*n - np.array(range(n+1,2*n+1))\n",
        "  avg = np.mean(roots)\n",
        "  #print(roots)\n",
        "  return len(roots)*np.log(2*n -avg)\n",
        "#print(approx_log_sum_all(10))\n",
        "\n",
        "# approximation of the function: log(mult 2n - primes in (3,n)) = log(2n-3) + log(2n-5) + ... + log(2n-p_k)\n",
        "def approx_log_sum_oldprimes(n):\n",
        "  primes = np.array([i for i in sympy.sieve.primerange(3, n)])\n",
        "  avg = np.mean(primes)\n",
        "  #print(primes, values, np.log(values))\n",
        "  return len(primes)*np.log(2*n-avg)\n",
        "#print(log_sum_oldprimes(15))\n",
        "\n",
        "# approximation of the actual multiplication without new primes in (n,2n)\n",
        "def approx1_log_sum_nonewprimes(n):\n",
        "  allnumbers = np.array(range(n+1,2*n+1))\n",
        "  newprimes = np.array([i for i in sympy.sieve.primerange(n+1, 2*n)])\n",
        "  values = np.array(np.setdiff1d(allnumbers,newprimes))\n",
        "  roots = 2*n - values\n",
        "  avg = np.mean(roots)\n",
        "  #print(values,np.log(values))\n",
        "  return len(roots)*np.log(2*n - avg)\n",
        "#print(log_sum_nonewprimes(15))\n",
        "\n",
        "# if we assume oldprimes must be in multiplication above\n",
        "def approx1_log_sum_forceoldprimes(n):\n",
        "  allnumbers = np.array(range(n+1,2*n+1))\n",
        "  newprimes = np.array([i for i in sympy.sieve.primerange(n+1, 2*n)])\n",
        "  no_newprime_values = np.array(np.setdiff1d(allnumbers,newprimes))\n",
        "  oldprimes = np.array([i for i in sympy.sieve.primerange(3, n)])\n",
        "  oldprime_values = 2*n - oldprimes\n",
        "  values = np.union1d(no_newprime_values,oldprime_values)\n",
        "  roots = 2*n-values\n",
        "  avg = np.mean(roots)\n",
        "  #print(newprimes,oldprimes,oldprime_values,values,np.log(values))\n",
        "  return len(roots)*np.log(2*n - avg)\n",
        "#print(log_sum_forceoldprimes(15))\n",
        "\n",
        "# here we have to assume no new prime is 2n-pk\n",
        "def approx2_log_sum_forceoldprimes(n):\n",
        "  oldprimes = np.array([i for i in sympy.sieve.primerange(3, n+1)])\n",
        "  newprimes = np.array([i for i in sympy.sieve.primerange(n+1, 2*n)])\n",
        "\n",
        "  piold, pinew = len(oldprimes), len(newprimes)\n",
        "  pin, pi2n = piold, piold+pinew\n",
        "  sold, snew = np.sum(oldprimes), np.sum(newprimes)\n",
        "  sn, s2n = sold, sold+snew\n",
        "\n",
        "  avgterm = ((n-1)*n/2. -pi2n*(2*n)+ s2n )/(n-pi2n)\n",
        "  #print(\"{}, {}\".format(n,avgterm))\n",
        "  noprimes = (n-pi2n)*np.log(2*n - avgterm)\n",
        "  force = pin*np.log(2*n - sn/pin)\n",
        "  \n",
        "  return noprimes + force\n",
        "\n",
        "# here we have to assume no new prime is 2n-pk\n",
        "def approx3_log_sum_forceoldprimes(n):\n",
        "  twon = 2*n\n",
        "  ln = np.log(n)\n",
        "  l2n = np.log(twon)\n",
        "\n",
        "  pi2nup = twon/(l2n-1.1) - 1 #sympy.primepi(2*n) -1 #sympy.primepi(2*n) #  #(twon/l2n)*(1+1.2762/l2n) > 65000\n",
        "  pi2nlw = twon/(l2n-1.)-1 #sympy.primepi(2*n) -1 # sympy.primepi(2*n) ##(twon/l2n)*(1+1./l2n) \n",
        "  pinup = n/(ln-1.1) -1 #sympy.primepi(n) -1 #sympy.primepi(n) #\n",
        "  pinlw = n/(ln-1.)-1 #sympy.primepi(n)-1 # # #(n/ln)*(1+1./ln)\n",
        "  s2nup = (twon**2)*(0.5/l2n + 0.34/(l2n**2))-2 #np.sum(np.array([i for i in sympy.sieve.primerange(3,2*n)])) #>25000 #(twon**2)*(0.5/l2n+0.25/(l2n**2)+0.25/(l2n**3)+0.67/(l2n**4))-2\n",
        "  snup = (n**2)*(0.5/ln + 0.34/(ln**2))-2 #np.sum(np.array([i for i in sympy.sieve.primerange(3,n)])) #(n**2)*(0.5/ln+0.25/(ln**2)+0.25/(ln**3)+0.67/(ln**4))-2\n",
        "  snlw = snup\n",
        "\n",
        "  #avgterm = ((n-1)*n/2. -pi2nlw*(2*n)+ s2nup )/(n-pi2nup)\n",
        "  avgterm = ((n-1)*n/2. +s2nup-2*snlw-(2*n)*(pi2nlw-pinup) )/(n-pi2nup)\n",
        "  noprimes = (n-pi2nup)*np.log(2*n - avgterm)\n",
        "  totnplw = n - pi2nup\n",
        "  totnpup = n - pi2nlw\n",
        "  avgterm /= n# (2*n)\n",
        "  const_np = 1 #- (avgterm*0.2 +np.log(1-avgterm/2.)+avgterm/2.)/np.log(totnplw)  #1 - 0.06/np.log(totnplw) #+ 0.19*(1+ (np.log(totnplw) - 1.1)/(totnpup))/np.log(2*totnpup)\n",
        "\n",
        "  avgps = snup/pinlw\n",
        "  force = pinlw*np.log(2*n - avgps)\n",
        "  totplw = pinlw\n",
        "  totpup = pinup\n",
        "  avgps /= n #(2*n)\n",
        "  const_p = 1 #- (avgps*0.2 + np.log(1-avgps/2.)+avgps/2.)/np.log(totplw) #1 - 0.06/np.log(totplw) #+ 0.19*(1+ (np.log(totplw) - 1.1)/(totpup))/np.log(2*totpup)\n",
        "\n",
        "  return noprimes*const_np + force*const_p\n",
        "\n",
        "#xi, xf = 1,10000 #10**3, 10**4#,2*10**4 #10**4,2*10**4 #0  \n",
        "#dx = np.arange(xi,xf)\n",
        "dx = np.array([i*10**exp for exp in range(5,6) for i in range(1, 10)])\n",
        "#real_all = np.array([log_sum_all(x) for x in dx])\n",
        "#approx_all = np.array([approx_log_sum_all(x) for x in dx])\n",
        "#real_oldprimes = np.array([log_sum_oldprimes(x) for x in dx])\n",
        "#approx_oldprimes = np.array([approx_log_sum_oldprimes(x) for x in dx])\n",
        "real_nonewprimes = np.array([log_sum_nonewprimes(x) for x in dx])\n",
        "approx1_nonewprimes = np.array([approx1_log_sum_nonewprimes(x) for x in dx])\n",
        "real_forceoldwprimes = np.array([log_sum_forceoldprimes(x) for x in dx])\n",
        "approx1_forceoldprimes = np.array([approx1_log_sum_forceoldprimes(x) for x in dx])\n",
        "plt.plot(dx, real_nonewprimes/approx1_nonewprimes, 'b.')\n",
        "plt.plot(dx, real_forceoldwprimes/approx1_forceoldprimes, 'g.')\n",
        "#plt.plot(dx, real_all/approx_all, 'b.')\n",
        "#plt.plot(dx, real_oldprimes/approx_oldprimes, 'g.')\n",
        "plt.xscale('log')\n",
        "#plt.yscale('log')\n",
        "plt.show()\n"
      ],
      "execution_count": null,
      "outputs": [
        {
          "output_type": "display_data",
          "data": {
            "image/png": "[encoded data removed]",
            "text/plain": [
              "<Figure size 432x288 with 1 Axes>"
            ]
          },
          "metadata": {
            "tags": []
          }
        }
      ]
    },
    {
      "cell_type": "code",
      "metadata": {
        "id": "Eza9q0HSKCYq",
        "colab": {
          "base_uri": "https://localhost:8080/",
          "height": 303
        },
        "outputId": "a12635d1-c815-48f2-ec36-e4638b2c74ed"
      },
      "source": [
        "#xi, xf = 600000,600010 #10**3, 10**4#,2*10**4 #10**4,2*10**4 #0  \n",
        "#dx = np.arange(xi,xf)\n",
        "dx = np.array([i*10**exp for exp in range(5,6) for i in range(1, 10)])\n",
        "reality = np.array([log_sum_nonewprimes(x) for x in dx])\n",
        "assumption = np.array([log_sum_forceoldprimes(x) for x in dx])\n",
        "ubcaio = np.array([ub_caio(x) for x in dx])\n",
        "approx3_assumption = np.array([approx3_log_sum_forceoldprimes(x) for x in dx])\n",
        "plt.plot(dx, reality/ubcaio, 'k*')\n",
        "plt.plot(dx, assumption/ubcaio, 'r.')\n",
        "plt.plot(dx, approx3_assumption/ubcaio, 'b.')\n",
        "plt.plot(dx, ubcaio/ubcaio, 'g.')\n",
        "plt.xscale('log')\n",
        "#plt.yscale('log')\n",
        "plt.show()\n",
        "print(approx3_assumption/ubcaio)"
      ],
      "execution_count": null,
      "outputs": [
        {
          "output_type": "display_data",
          "data": {
            "image/png": "[encoded data removed]",
            "text/plain": [
              "<Figure size 432x288 with 1 Axes>"
            ]
          },
          "metadata": {
            "tags": []
          }
        },
        {
          "output_type": "stream",
          "text": [
            "[ 545.45235514  779.10274639  953.01153725 1096.00911825 1219.34907151\n",
            " 1328.81073828 1427.82381153 1518.6181197  1602.73824983]\n"
          ],
          "name": "stdout"
        }
      ]
    },
    {
      "cell_type": "code",
      "metadata": {
        "id": "I8Wg54pFHOd0",
        "colab": {
          "base_uri": "https://localhost:8080/",
          "height": 51
        },
        "outputId": "3463a80c-8da3-450e-afd7-4d2cc350dc7a"
      },
      "source": [
        "print(real_forceoldwprimes/approx1_forceoldprimes)"
      ],
      "execution_count": null,
      "outputs": [
        {
          "output_type": "stream",
          "text": [
            "[0.01537177 0.0133763  0.02456897 0.01189965 0.0116563  0.02226109\n",
            " 0.01288039 0.01082474 0.0210107 ]\n"
          ],
          "name": "stdout"
        }
      ]
    },
    {
      "cell_type": "code",
      "metadata": {
        "id": "bkzX9co7pyZk",
        "colab": {
          "base_uri": "https://localhost:8080/",
          "height": 422
        },
        "outputId": "7a89d75e-a1a6-4eca-a3f9-6beaf3fce16c"
      },
      "source": [
        "#xi, xf = 1000, 1100 #500050,500100 # 9*10**6, 9*10**6+5 10**3, 10**4#,2*10**4 #10**4,2*10**4 #0  \n",
        "#dx = np.arange(xi,xf)\n",
        "dx = np.array([i*10**exp for exp in range(5,9) for i in range(1, 10)])\n",
        "#reality = np.array([log_sum_nonewprimes(x) for x in dx])\n",
        "#assumption = np.array([log_sum_forceoldprimes(x) for x in dx])\n",
        "#ubstr = np.array([ub_strongest(x) for x in dx])\n",
        "ubcaio = np.array([ub_caio(x) for x in dx])\n",
        "\n",
        "#approx1_reality = np.array([approx1_log_sum_nonewprimes(x) for x in dx])\n",
        "#approx1_assumption = np.array([approx1_log_sum_forceoldprimes(x) for x in dx])\n",
        "#approx2_assumption = np.array([approx2_log_sum_forceoldprimes(x) for x in dx])\n",
        "approx3_assumption = np.array([approx3_log_sum_forceoldprimes(x) for x in dx])\n",
        "\n",
        "#plt.plot(dx, approx3_assumption/reality, 'k*')\n",
        "#plt.plot(dx, approx3_assumption/assumption, 'r.')\n",
        "#plt.plot(dx, ubcaio, 'g.')\n",
        "\n",
        "#plt.plot(dx, approx1_reality, 'k-')\n",
        "#plt.plot(dx, approx1_assumption, 'r-')\n",
        "#plt.plot(dx, approx2_assumption, 'b-')\n",
        "#plt.plot(dx, approx3_assumption, 'b.')\n",
        "\n",
        "plt.plot(dx, approx3_assumption/ubcaio, 'g.')\n",
        "\n",
        "#plt.plot(dx, assumption/reality, 'b.')\n",
        "\n",
        "plt.xscale('log')\n",
        "#plt.yscale('log')\n",
        "plt.show()\n",
        "\n",
        "print(approx3_assumption/ubcaio)"
      ],
      "execution_count": null,
      "outputs": [
        {
          "output_type": "display_data",
          "data": {
            "image/png": "[encoded data removed]",
            "text/plain": [
              "<Figure size 432x288 with 1 Axes>"
            ]
          },
          "metadata": {
            "tags": []
          }
        },
        {
          "output_type": "stream",
          "text": [
            "[  545.45235514   779.10274639   953.01153725  1096.00911825\n",
            "  1219.34907151  1328.81073828  1427.82381153  1518.6181197\n",
            "  1602.73824983  1681.30534483  2283.54083293  2712.46532965\n",
            "  3055.35011317  3345.01246442  3597.88249715  3823.52066857\n",
            "  4028.0433435   4215.62964554  4389.27704917  5677.77551741\n",
            "  6558.11183134  7244.07456706  7812.99492465  8302.60586549\n",
            "  8734.44047031  9122.06026802  9474.61053776  9798.57712317\n",
            " 12141.143241   13690.88716305 14875.70513803 15845.36396756\n",
            " 16671.42914534 17394.11760945 18038.45241761 18621.1402432 ]\n"
          ],
          "name": "stdout"
        }
      ]
    },
    {
      "cell_type": "markdown",
      "metadata": {
        "id": "PzXA6XrLdi9E"
      },
      "source": [
        "### Testando funcoes que dao a factorization...."
      ]
    },
    {
      "cell_type": "code",
      "metadata": {
        "id": "DnBSnZUUd3PH",
        "colab": {
          "base_uri": "https://localhost:8080/",
          "height": 68
        },
        "outputId": "1d49034f-9fa4-40f3-e2e1-4ee9b991af12"
      },
      "source": [
        "n = 5\n",
        "bn = int(scp.binom(2*n,n))\n",
        "print(\"n = {} --> (2n n) = {}\".format(n,bn))\n",
        "factn = sympy.factorint(bn)\n",
        "print(factn)\n",
        "\n",
        "def myfactoriz(n):\n",
        "  primes = np.array([i for i in sympy.sieve.primerange(2,n+1)])\n",
        "  myfact = {}\n",
        "  for p in primes:\n",
        "    J = int((np.log(2*n)/np.log(p)))\n",
        "    R = 0\n",
        "    for j in range(1,J+1):\n",
        "      R += (np.floor(2*n/p**j)-2*np.floor(n/p**j))\n",
        "    if R > 0:\n",
        "      myfact[p] = R\n",
        "  return myfact\n",
        "print(myfactoriz(n))\n",
        "\n",
        "\n",
        "xi, xf = 3,5\n",
        "dx = np.arange(xi,xf)\n",
        "reality = np.array([log_sum_nonewprimes(x) for x in dx])\n",
        "#assumption = np.array([log_sum_forceoldprimes(x) for x in dx])\n",
        "#plt.plot(dx, reality, 'k.')\n",
        "#plt.xscale('log')\n",
        "#plt.show()"
      ],
      "execution_count": null,
      "outputs": [
        {
          "output_type": "stream",
          "text": [
            "n = 5 --> (2n n) = 252\n",
            "{2: 2, 3: 2, 7: 1}\n",
            "{2: 2.0, 3: 2.0}\n"
          ],
          "name": "stdout"
        }
      ]
    },
    {
      "cell_type": "code",
      "metadata": {
        "id": "hZLbMs3NegXT",
        "colab": {
          "base_uri": "https://localhost:8080/",
          "height": 34
        },
        "outputId": "159e9e73-188f-4cba-b254-811264de297b"
      },
      "source": [
        "print([i for i in sympy.sieve.primerange(3, 5)])"
      ],
      "execution_count": null,
      "outputs": [
        {
          "output_type": "stream",
          "text": [
            "[3]\n"
          ],
          "name": "stdout"
        }
      ]
    },
    {
      "cell_type": "code",
      "metadata": {
        "id": "zakjTjuS1LXX",
        "colab": {
          "base_uri": "https://localhost:8080/",
          "height": 272
        },
        "outputId": "439d51bc-ad83-4c11-8b2b-16bae8b333a9"
      },
      "source": [
        "\n",
        "def myrand(n, k):\n",
        "  #vals = np.zeros(k//2) #np.random.randint(n, size=k)\n",
        "  #ones = np.ones(k//2)\n",
        "  vals = np.random.randint(n, size=k)\n",
        "  return vals / (2*n)\n",
        "\n",
        "def excess(n):\n",
        "  #if n%100 == 0:\n",
        "  #  print(\"working on {}\".format(n))\n",
        "  ln = np.log(n)\n",
        "  k = int(n/ln)\n",
        "  vals = myrand(n,k)\n",
        "  avg = np.mean(vals)\n",
        "  term = 0.\n",
        "  avgp = np.copy(avg)\n",
        "  valsp = np.copy(vals)\n",
        "  for p in range(2,10000):\n",
        "    avgp = avgp*avg #avg**p\n",
        "    valsp = valsp*vals\n",
        "    svalsp = np.sum(valsp)\n",
        "    term += (svalsp - k*avgp)/(p*k*ln)\n",
        "  #print(\"n = {}, k = {} --> {}, {} --> term = {}\".format(n,k,vals,avg,term))\n",
        "  return term\n",
        "\n",
        "def bound1(n):\n",
        "  return 0.06/np.log(n)\n",
        "\n",
        "#xi, xf = 20000, 25000 #500050,500100 # 9*10**6, 9*10**6+5 10**3, 10**4#,2*10**4 #10**4,2*10**4 #0  \n",
        "#dx = np.arange(xi,xf)\n",
        "dx = np.array([i*10**exp for exp in range(3,5) for i in range(1, 10)])\n",
        "yx = np.array([excess(x) for x in dx])\n",
        "b1x = np.array([bound1(x) for x in dx])\n",
        "\n",
        "plt.plot(dx, yx, 'k.')\n",
        "plt.plot(dx, b1x, 'g.')\n",
        "plt.xscale('log')\n",
        "#plt.yscale('log')\n",
        "plt.show()\n",
        "\n",
        "#for i in range(3,10):\n",
        "#  excess(i)\n",
        "  #print(\"n = {} --> {}\".format(i,excess(i)))"
      ],
      "execution_count": null,
      "outputs": [
        {
          "output_type": "display_data",
          "data": {
            "image/png": "[encoded data removed]",
            "text/plain": [
              "<Figure size 432x288 with 1 Axes>"
            ]
          },
          "metadata": {
            "tags": []
          }
        }
      ]
    },
    {
      "cell_type": "code",
      "metadata": {
        "id": "UqyMRvR9UZaC",
        "colab": {
          "base_uri": "https://localhost:8080/",
          "height": 34
        },
        "outputId": "c1f195b1-671b-4bd8-c7a0-9312b3b4f0f5"
      },
      "source": [
        "np.sum(np.array([i for i in sympy.sieve.primerange(3,10)]))"
      ],
      "execution_count": null,
      "outputs": [
        {
          "output_type": "execute_result",
          "data": {
            "text/plain": [
              "15"
            ]
          },
          "metadata": {
            "tags": []
          },
          "execution_count": 12
        }
      ]
    },
    {
      "cell_type": "code",
      "metadata": {
        "id": "Z8KoBfEPNPAg",
        "colab": {
          "base_uri": "https://localhost:8080/",
          "height": 34
        },
        "outputId": "6c99231e-dfc3-4bb2-c1d5-eb5dace724e6"
      },
      "source": [
        "a =np.array([i for i in range(1,10,3)])\n",
        "b1, b2 = a+1, a+2\n",
        "c = np.sort(np.concatenate([a,b1,b2], axis=0))\n",
        "print(c)"
      ],
      "execution_count": null,
      "outputs": [
        {
          "output_type": "stream",
          "text": [
            "[1 2 3 4 5 6 7 8 9]\n"
          ],
          "name": "stdout"
        }
      ]
    },
    {
      "cell_type": "markdown",
      "metadata": {
        "id": "KQS6zWpRkW0h"
      },
      "source": [
        "teste simples da agulha..."
      ]
    },
    {
      "cell_type": "code",
      "metadata": {
        "id": "ox5T5A4OQldl",
        "colab": {
          "base_uri": "https://localhost:8080/",
          "height": 269
        },
        "outputId": "da5ee92d-867e-4f14-a54e-07f103c0aec8"
      },
      "source": [
        "def sum_terms_uptok(ps,maxk):\n",
        "  tot = 0.\n",
        "  for k in range(1,maxk):\n",
        "    kps = (ps**k)/k\n",
        "    tot += np.sum(kps)\n",
        "  return tot\n",
        "\n",
        "\n",
        "def sum_low(n, maxk):\n",
        "  lps = np.array([i for i in sympy.sieve.primerange(3, n)])\n",
        "  lps = lps/(2*n)\n",
        "\n",
        "  #print(\"new: {} vs former: {}\".format(sum_terms_uptok(nps,10),sum_terms_uptok(lps,10)))\n",
        "  return sum_terms_uptok(lps,maxk)\n",
        "\n",
        "def sum_high(n,maxk):\n",
        "  nps = np.array([i for i in sympy.sieve.primerange(n+1, 2*n)])\n",
        "  nps = (2*n - nps)/(2*n)\n",
        "  return sum_terms_uptok(nps, maxk) \n",
        "\n",
        "def lowbound(n):\n",
        "  return n/(np.log(n))\n",
        "\n",
        "#or n in range(3,100):\n",
        "#  sum_low(n)\n",
        "\n",
        "maxk = 20\n",
        "#xi, xf = 10, 1000 #20000, 25000 #500050,500100 # 9*10**6, 9*10**6+5 10**3, 10**4#,2*10**4 #10**4,2*10**4 #0  \n",
        "#dx = np.arange(xi,xf)\n",
        "dx = np.array([i*10**exp for exp in range(3,6) for i in range(1, 10)])\n",
        "\n",
        "npx = np.array([sum_high(x,maxk) for x in dx])\n",
        "#lpx = np.array([sum_low(x,maxk) for x in dx])\n",
        "lbx = np.array([lowbound(x) for x in dx])\n",
        "\n",
        "plt.plot(dx, npx/lbx/(1-np.log(2)), 'k.')\n",
        "#plt.plot(dx, lbx, 'r.')\n",
        "\n",
        "#plt.plot(dx, lpx, 'b.')\n",
        "#plt.plot(dx, npx/lpx, 'k.')\n",
        "plt.xscale('log')\n",
        "plt.yscale('log')\n",
        "plt.show()"
      ],
      "execution_count": null,
      "outputs": [
        {
          "output_type": "display_data",
          "data": {
            "image/png": "[encoded data removed]",
            "text/plain": [
              "<Figure size 432x288 with 1 Axes>"
            ]
          },
          "metadata": {
            "tags": []
          }
        }
      ]
    },
    {
      "cell_type": "markdown",
      "metadata": {
        "id": "2NZE-8IluNpe"
      },
      "source": [
        "### Testando factorials sem numero par..."
      ]
    },
    {
      "cell_type": "code",
      "metadata": {
        "id": "FgGNSCuRlxD6",
        "outputId": "5cb63453-f462-466f-d9cd-00a1cc6568e3",
        "colab": {
          "base_uri": "https://localhost:8080/",
          "height": 265
        }
      },
      "source": [
        "def log_topfact_odd(n,primes = True,close=False):\n",
        "  #print(n)\n",
        "  if n % 2 == 0:\n",
        "    values = np.array(range(n+1,2*n,2))\n",
        "  else:\n",
        "    values = np.array(range(n+2,2*n,2))\n",
        "  #print(values)\n",
        "  if not primes:\n",
        "    new_primes = np.array([i for i in sympy.sieve.primerange(n+1, 2*n)])\n",
        "    values = np.array(np.setdiff1d(values,new_primes))\n",
        "  if close:\n",
        "    new_primes = np.array([i for i in sympy.sieve.primerange(n+1, 2*n)])\n",
        "    old_primes = np.array([i for i in sympy.sieve.primerange(3, n)])\n",
        "    old_primes = 2*n - old_primes\n",
        "    for p in new_primes:\n",
        "      w = np.argmax(values==p)\n",
        "      #print(\"p = {} : v = {} --> {}\".format(p,w,values[w]))\n",
        "      for i in range(w,-1,-1):\n",
        "        if not values[i] in old_primes:\n",
        "        #if not sympy.ntheory.isprime(values[i]) and not values[i] in old_primes:\n",
        "          #print(\"p = {} : v = {} --> {} : i = {} --> {}\".format(p,w,values[w],i,values[i])) \n",
        "          values = np.delete(values,i)\n",
        "          break\n",
        "        if i == 0:\n",
        "          for i in range(w,len(values)+1):\n",
        "            if not values[i] in old_primes:\n",
        "            #if not sympy.ntheory.isprime(values[i]) and not values[i] in old_primes:\n",
        "              #print(\"p = {} : v = {} --> {} : i = {} --> {}\".format(p,w,values[w],i,values[i])) \n",
        "              values = np.delete(values,i)\n",
        "              break\n",
        "\n",
        "  result = np.sum(np.log(values))  \n",
        "  #print(\"{} = {}\".format(values,result))\n",
        "  return result\n",
        "#log_topfact_odd(100)\n",
        "#log_topfact_odd(100,False)\n",
        "#log_topfact_odd(100,True,True)\n",
        "\n",
        "def manual_log_factorial(n):\n",
        "  values = np.array(range(2,n+1))\n",
        "  #print(values, np.log(values))\n",
        "  return np.sum(np.log(values))\n",
        "# print(log_factorial(10))\n",
        "\n",
        "def ub_fact(n):\n",
        "  term1 = np.log(2)*(2*n-np.floor(n/2+0.6))-0.5*np.log(np.pi*n)\n",
        "  term2 = manual_log_factorial(int(np.ceil(n/2-0.6)))\n",
        "  term3 = -n  + 1./(8*np.pi) * np.sqrt(2*n) *np.log(2*n)**2 + 1./(8*np.pi) * np.sqrt(n) *np.log(n)**2\n",
        "  return term1 + term2 + term3\n",
        "\n",
        "xi, xf = 5000, 7000 #500050,500100 # 9*10**6, 9*10**6+5 10**3, 10**4#,2*10**4 #10**4,2*10**4 #0  \n",
        "dx = np.arange(xi,xf)\n",
        "#dx = np.array([i*10**exp for exp in range(3,5) for i in range(1, 10)])\n",
        "noprimes = np.array([log_topfact_odd(x,False) for x in dx])\n",
        "closeprimes = np.array([log_topfact_odd(x,True,True) for x in dx])\n",
        "ubfact = np.array([ub_fact(x) for x in dx])\n",
        "\n",
        "plt.plot(dx, closeprimes-noprimes, 'k.')\n",
        "plt.plot(dx, ubfact-noprimes, 'r.')\n",
        "#plt.plot(dx, closeprimes, 'g.')\n",
        "#plt.xscale('log')\n",
        "#plt.yscale('log')\n",
        "plt.show()\n"
      ],
      "execution_count": null,
      "outputs": [
        {
          "output_type": "display_data",
          "data": {
            "image/png": "[encoded data removed]",
            "text/plain": [
              "<Figure size 432x288 with 1 Axes>"
            ]
          },
          "metadata": {
            "tags": []
          }
        }
      ]
    },
    {
      "cell_type": "code",
      "metadata": {
        "id": "KKymJhU_uxtw"
      },
      "source": [
        ""
      ],
      "execution_count": null,
      "outputs": []
    }
  ]
}