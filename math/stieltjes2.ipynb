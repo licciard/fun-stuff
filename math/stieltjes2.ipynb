{
  "nbformat": 4,
  "nbformat_minor": 0,
  "metadata": {
    "colab": {
      "name": "stieltjes2.ipynb",
      "provenance": [],
      "include_colab_link": true
    },
    "kernelspec": {
      "name": "python3",
      "display_name": "Python 3"
    }
  },
  "cells": [
    {
      "cell_type": "markdown",
      "metadata": {
        "id": "view-in-github",
        "colab_type": "text"
      },
      "source": [
        "<a href=\"https://colab.research.google.com/github/licciard/fun-stuff/blob/main/math/stieltjes2.ipynb\" target=\"_parent\"><img src=\"https://colab.research.google.com/assets/colab-badge.svg\" alt=\"Open In Colab\"/></a>"
      ]
    },
    {
      "cell_type": "markdown",
      "metadata": {
        "id": "HzAJR2FwdSk_"
      },
      "source": [
        "Load previous calculated constants"
      ]
    },
    {
      "cell_type": "code",
      "metadata": {
        "id": "Y-6r0yd1dI6F",
        "outputId": "99429d3a-4baa-4bd6-e29b-155b1448255e",
        "colab": {
          "base_uri": "https://localhost:8080/",
          "height": 34
        }
      },
      "source": [
        "from google.colab import drive\n",
        "drive.mount('/content/gdrive')\n",
        "DATA_PATH = \"/content/gdrive/My Drive/Colab Notebooks/math/gammas\"\n",
        "\n",
        "import pickle\n",
        "pickle_in = open(DATA_PATH+'/gammas_digits1000_n100000.pkl', 'rb')\n",
        "txt_gammas = pickle.load(pickle_in)"
      ],
      "execution_count": null,
      "outputs": [
        {
          "output_type": "stream",
          "text": [
            "Drive already mounted at /content/gdrive; to attempt to forcibly remount, call drive.mount(\"/content/gdrive\", force_remount=True).\n"
          ],
          "name": "stdout"
        }
      ]
    },
    {
      "cell_type": "markdown",
      "metadata": {
        "id": "SCESiGWkdW20"
      },
      "source": [
        "Modules"
      ]
    },
    {
      "cell_type": "code",
      "metadata": {
        "id": "9BZRTJijdZDz",
        "outputId": "e2e277ed-3f52-4397-8252-d8b127125f3a",
        "colab": {
          "base_uri": "https://localhost:8080/",
          "height": 34
        }
      },
      "source": [
        "import mpmath as mp\n",
        "import numpy as np\n",
        "import scipy.optimize as opt\n",
        "import matplotlib.pyplot as plt\n",
        "import math\n",
        "import scipy.special as scp\n",
        "\n",
        "#mp.dps = 15; mp.pretty = True\n",
        "\n",
        "%matplotlib inline\n",
        "\n",
        "gammas = [mp.mpf(g) for g in txt_gammas]\n",
        "N = len(gammas)\n",
        "print(\"Type: {}, Length: {}, First element: {}\".format(type(gammas),len(gammas),gammas[0]))"
      ],
      "execution_count": null,
      "outputs": [
        {
          "output_type": "stream",
          "text": [
            "Type: <class 'list'>, Length: 100001, First element: 0.577215664901533\n"
          ],
          "name": "stdout"
        }
      ]
    },
    {
      "cell_type": "markdown",
      "metadata": {
        "id": "Jou-D2Xdeqmz"
      },
      "source": [
        "Plot Stieltjes gamma_n vs n"
      ]
    },
    {
      "cell_type": "code",
      "metadata": {
        "id": "dYuNkM4RyHhv"
      },
      "source": [
        "def log_upper_bound(x, d=1e-4, a=0, b=0, c=0):\n",
        "  return (x+a)*np.log(np.log(x+b)+c)+np.log(d)\n",
        "\n",
        "def log_upper_bound_add(x, d=1e-4, a=np.e,b=0,c=1):\n",
        "  return x*np.log(np.log(x+a))+np.log(d) + c/(x+b)"
      ],
      "execution_count": null,
      "outputs": []
    },
    {
      "cell_type": "code",
      "metadata": {
        "id": "dZ2I5YTnegNz",
        "outputId": "958a9759-2ca2-4d01-d6b5-3df5cad66899",
        "colab": {
          "base_uri": "https://localhost:8080/",
          "height": 663
        }
      },
      "source": [
        "\n",
        "dn = np.arange(0,N,1)\n",
        "gn = np.array([mp.log(-gammas[n]) if float(gammas[n]) < 0 else mp.log(gammas[n]) for n in dn])\n",
        "#gnp = np.array([mp.log(gammas[n]) if float(gammas[n]) > 0 else 0 for n in dn])\n",
        "#gnn = np.array([mp.log(-gammas[n]) if float(gammas[n]) < 0 else 0 for n in dn])\n",
        "mun = np.array([log_upper_bound(n,1e-4) for n in dn])\n",
        "#muon = np.array([log_upper_bound(n+10.25,1e-4) for n in dn])\n",
        "mutn = np.array([log_upper_bound(n,5e-1,0,np.e) for n in dn])\n",
        "mutn2 = np.array([log_upper_bound_add(n,1e-4,np.e,10,1) for n in dn])\n",
        "\n",
        "plt.figure(figsize=(15,10))\n",
        "plt.plot(dn, gn, 'k.')\n",
        "#plt.plot(dn, gnp, 'b.')\n",
        "#plt.plot(dn, gnn, 'r.')\n",
        "plt.plot(dn, mun, 'b-')\n",
        "#plt.plot(dn, muon, 'g-')\n",
        "plt.plot(dn, mutn, 'r-')\n",
        "plt.plot(dn, mutn2, 'm-')\n",
        "\n",
        "axes = plt.gca()\n",
        "axes.set_xlim([0,100])\n",
        "axes.set_ylim([-20,200])\n",
        "plt.show()\n"
      ],
      "execution_count": null,
      "outputs": [
        {
          "output_type": "stream",
          "text": [
            "/usr/local/lib/python3.6/dist-packages/ipykernel_launcher.py:2: RuntimeWarning: divide by zero encountered in log\n",
            "  \n",
            "/usr/local/lib/python3.6/dist-packages/ipykernel_launcher.py:2: RuntimeWarning: invalid value encountered in log\n",
            "  \n"
          ],
          "name": "stderr"
        },
        {
          "output_type": "display_data",
          "data": {
            "image/png": "[encoded data removed]",
            "text/plain": [
              "<Figure size 1080x720 with 1 Axes>"
            ]
          },
          "metadata": {
            "tags": []
          }
        }
      ]
    },
    {
      "cell_type": "code",
      "metadata": {
        "id": "BbQpWdu2eqZE",
        "outputId": "e6bff152-2836-4b55-ec33-733de36618d4",
        "colab": {
          "base_uri": "https://localhost:8080/",
          "height": 1000
        }
      },
      "source": [
        "def ub_mod_eta(k,const,delta1,delta2):\n",
        "  tot = 0.\n",
        "  for h in range(1,k+1):\n",
        "    tot += scp.binom(k,h)*(np.log(k-h+delta1)**(k-h+delta2*h))*(h**(k-h-1))*(const**h)\n",
        "  return tot/scp.gamma(k)\n",
        "\n",
        "for k in range(2,100):\n",
        "  print(\"ub_mod_eta({}) = {}\".format(k-1,ub_mod_eta(k,1e-4,np.e,0)))"
      ],
      "execution_count": null,
      "outputs": [
        {
          "output_type": "stream",
          "text": [
            "ub_mod_eta(1) = 0.0002626573375036446\n",
            "ub_mod_eta(2) = 0.00036106680415013494\n",
            "ub_mod_eta(3) = 0.000353475704660548\n",
            "ub_mod_eta(4) = 0.00027436314197589975\n",
            "ub_mod_eta(5) = 0.00017834521670073627\n",
            "ub_mod_eta(6) = 0.00010040172720230163\n",
            "ub_mod_eta(7) = 5.009526369472099e-05\n",
            "ub_mod_eta(8) = 2.254466265235058e-05\n",
            "ub_mod_eta(9) = 9.289308995932574e-06\n",
            "ub_mod_eta(10) = 3.55761240740662e-06\n",
            "ub_mod_eta(11) = 1.2899309008496723e-06\n",
            "ub_mod_eta(12) = 4.5439817430411965e-07\n",
            "ub_mod_eta(13) = 1.6125139431430835e-07\n",
            "ub_mod_eta(14) = 6.010717122082572e-08\n",
            "ub_mod_eta(15) = 2.423253890645737e-08\n",
            "ub_mod_eta(16) = 1.0546904548384912e-08\n",
            "ub_mod_eta(17) = 4.818893464705009e-09\n",
            "ub_mod_eta(18) = 2.2377402612155035e-09\n",
            "ub_mod_eta(19) = 1.0326457992607001e-09\n",
            "ub_mod_eta(20) = 4.684652893507339e-10\n",
            "ub_mod_eta(21) = 2.0845808127150903e-10\n",
            "ub_mod_eta(22) = 9.128923506545365e-11\n",
            "ub_mod_eta(23) = 3.96135154467493e-11\n",
            "ub_mod_eta(24) = 1.7181548955230014e-11\n",
            "ub_mod_eta(25) = 7.51402579911752e-12\n",
            "ub_mod_eta(26) = 3.3358418290616728e-12\n",
            "ub_mod_eta(27) = 1.5079858890348314e-12\n",
            "ub_mod_eta(28) = 6.934158445704892e-13\n",
            "ub_mod_eta(29) = 3.2299567977645157e-13\n",
            "ub_mod_eta(30) = 1.5159028562318394e-13\n",
            "ub_mod_eta(31) = 7.133366289846749e-14\n",
            "ub_mod_eta(32) = 3.354298987916879e-14\n",
            "ub_mod_eta(33) = 1.573707635144347e-14\n",
            "ub_mod_eta(34) = 7.367364066965677e-15\n",
            "ub_mod_eta(35) = 3.446246004161133e-15\n",
            "ub_mod_eta(36) = 1.6139662113134277e-15\n",
            "ub_mod_eta(37) = 7.583358965971563e-16\n",
            "ub_mod_eta(38) = 3.5807245920901205e-16\n",
            "ub_mod_eta(39) = 1.7006611341536952e-16\n",
            "ub_mod_eta(40) = 8.125044517177816e-17\n",
            "ub_mod_eta(41) = 3.902141824689111e-17\n",
            "ub_mod_eta(42) = 1.881775704654414e-17\n",
            "ub_mod_eta(43) = 9.101098288096487e-18\n",
            "ub_mod_eta(44) = 4.409942742442615e-18\n",
            "ub_mod_eta(45) = 2.1393991696897493e-18\n",
            "ub_mod_eta(46) = 1.0388567904346473e-18\n",
            "ub_mod_eta(47) = 5.049742945214017e-19\n",
            "ub_mod_eta(48) = 2.4580369742513264e-19\n",
            "ub_mod_eta(49) = 1.1987217135483113e-19\n",
            "ub_mod_eta(50) = 5.859409904550099e-20\n",
            "ub_mod_eta(51) = 2.871659113094948e-20\n",
            "ub_mod_eta(52) = 1.4112749592435608e-20\n",
            "ub_mod_eta(53) = 6.954452156107863e-21\n",
            "ub_mod_eta(54) = 3.435529070954302e-21\n",
            "ub_mod_eta(55) = 1.700880538514151e-21\n",
            "ub_mod_eta(56) = 8.436617161918828e-22\n",
            "ub_mod_eta(57) = 4.191440876182353e-22\n",
            "ub_mod_eta(58) = 2.0853682068279245e-22\n",
            "ub_mod_eta(59) = 1.0389471366360193e-22\n",
            "ub_mod_eta(60) = 5.183229133799638e-23\n",
            "ub_mod_eta(61) = 2.589612300233791e-23\n",
            "ub_mod_eta(62) = 1.2958024039445289e-23\n",
            "ub_mod_eta(63) = 6.4945882927736735e-24\n",
            "ub_mod_eta(64) = 3.260606453157943e-24\n",
            "ub_mod_eta(65) = 1.6397758025891733e-24\n",
            "ub_mod_eta(66) = 8.260291267414205e-25\n",
            "ub_mod_eta(67) = 4.167741058956629e-25\n",
            "ub_mod_eta(68) = 2.106014274772789e-25\n",
            "ub_mod_eta(69) = 1.0657035651474786e-25\n",
            "ub_mod_eta(70) = 5.39995816638788e-26\n",
            "ub_mod_eta(71) = 2.7396610781355014e-26\n",
            "ub_mod_eta(72) = 1.3916824353528805e-26\n",
            "ub_mod_eta(73) = 7.078065098768914e-27\n",
            "ub_mod_eta(74) = 3.604303743975374e-27\n",
            "ub_mod_eta(75) = 1.8376609710351086e-27\n",
            "ub_mod_eta(76) = 9.38104343964148e-28\n",
            "ub_mod_eta(77) = 4.794907023524126e-28\n",
            "ub_mod_eta(78) = 2.4538579455506986e-28\n",
            "ub_mod_eta(79) = 1.2573343718624727e-28\n",
            "ub_mod_eta(80) = 6.45018496108784e-29\n",
            "ub_mod_eta(81) = 3.3128282676591926e-29\n",
            "ub_mod_eta(82) = 1.7033966017097332e-29\n",
            "ub_mod_eta(83) = 8.768160761061648e-30\n",
            "ub_mod_eta(84) = 4.5181967351775275e-30\n",
            "ub_mod_eta(85) = 2.3306471202313996e-30\n",
            "ub_mod_eta(86) = 1.2034726728454491e-30\n",
            "ub_mod_eta(87) = 6.220710353798882e-31\n",
            "ub_mod_eta(88) = 3.2187313464879256e-31\n",
            "ub_mod_eta(89) = 1.6671234453095458e-31\n",
            "ub_mod_eta(90) = 8.643424902121544e-32\n",
            "ub_mod_eta(91) = 4.485747575724541e-32\n",
            "ub_mod_eta(92) = 2.3302862003653306e-32\n",
            "ub_mod_eta(93) = 1.2117211574328955e-32\n",
            "ub_mod_eta(94) = 6.30678351426941e-33\n",
            "ub_mod_eta(95) = 3.285621326349753e-33\n",
            "ub_mod_eta(96) = 1.713263599648635e-33\n",
            "ub_mod_eta(97) = 8.941723942880797e-34\n",
            "ub_mod_eta(98) = 4.6709237623470125e-34\n"
          ],
          "name": "stdout"
        }
      ]
    },
    {
      "cell_type": "code",
      "metadata": {
        "id": "RpIAPGw4-vyC"
      },
      "source": [
        ""
      ],
      "execution_count": null,
      "outputs": []
    }
  ]
}