{
  "nbformat": 4,
  "nbformat_minor": 0,
  "metadata": {
    "colab": {
      "name": "zeta_deriv.ipynb",
      "provenance": [],
      "authorship_tag": "ABX9TyMNpQL0eC8BRYParGvx9e7j",
      "include_colab_link": true
    },
    "kernelspec": {
      "name": "python3",
      "display_name": "Python 3"
    }
  },
  "cells": [
    {
      "cell_type": "markdown",
      "metadata": {
        "id": "view-in-github",
        "colab_type": "text"
      },
      "source": [
        "<a href=\"https://colab.research.google.com/github/licciard/fun-stuff/blob/main/math/zeta_deriv.ipynb\" target=\"_parent\"><img src=\"https://colab.research.google.com/assets/colab-badge.svg\" alt=\"Open In Colab\"/></a>"
      ]
    },
    {
      "cell_type": "code",
      "metadata": {
        "id": "AEyjGxf4Aul9",
        "colab": {
          "base_uri": "https://localhost:8080/",
          "height": 87
        },
        "outputId": "4c8da923-cc1b-4f57-c5cd-d0691c3c5ec2"
      },
      "source": [
        "import sympy\n",
        "import mpmath\n",
        "import numpy as np\n",
        "mpmath.mp.dps = 15\n",
        "print(mpmath.mp)\n",
        "#sympy.init_session()\n",
        "sympy.init_printing(use_latex=False)\n",
        "import scipy.special as scp\n",
        "import scipy.optimize as opt\n",
        "\n",
        "import matplotlib.pyplot as plt\n",
        "%matplotlib inline"
      ],
      "execution_count": null,
      "outputs": [
        {
          "output_type": "stream",
          "text": [
            "Mpmath settings:\n",
            "  mp.prec = 53                [default: 53]\n",
            "  mp.dps = 15                 [default: 15]\n",
            "  mp.trap_complex = False     [default: False]\n"
          ],
          "name": "stdout"
        }
      ]
    },
    {
      "cell_type": "code",
      "metadata": {
        "id": "0QDjX11YAyXH",
        "colab": {
          "base_uri": "https://localhost:8080/",
          "height": 193
        },
        "outputId": "52f9e729-42f2-4939-e771-5cf4561b8940"
      },
      "source": [
        "mpmath.mp.dps = 50\n",
        "\n",
        "def integ_expr(x):\n",
        "  return mpmath.power(mpmath.log(1+mpmath.j*x),n)/(mpmath.exp(2*mpmath.pi*x)-1)/mpmath.gamma(n+1)\n",
        "\n",
        "for n in range(1,10):\n",
        "  dn1 = -2*mpmath.im(mpmath.quad(integ_expr,[0,1]))*(1,-1)[n%2]\n",
        "  #dn10 = -2*mpmath.im(mpmath.quad(integ_expr,[0,10]))*(1,-1)[n%2]\n",
        "  dn100 = -2*mpmath.im(mpmath.quad(integ_expr,[0,100]))*(1,-1)[n%2]\n",
        "  print(\"n:{} --> {} vs {} vs {}\".format(n,-1+dn100,-1+dn1,(dn1-dn100)/(-1+dn100)))"
      ],
      "execution_count": null,
      "outputs": [
        {
          "output_type": "stream",
          "text": [
            "n:1 --> -0.91893853320467274178032973640561763986139747363778 vs -0.91944673231938404611834411313632796930390616354717 vs 0.00055302840870001312408055510877471246640029392463489\n",
            "n:2 --> -1.0031782279542924256050500133649802190994974550805 vs -1.0029596333147715293586377680354524886887573362322 vs -0.00021790209698495970819753574493359150460714155856347\n",
            "n:3 --> -1.0007851944770424079601768022277292142436346113827 vs -1.0007711015977659151898512392901746673266822790202 vs -0.000014081822307390314872681988085592788037420292105765\n",
            "n:4 --> -0.99987929950057116495780081365587523591213083062174 vs -0.99989953207198153756176335986166956578366336030047 vs 0.00002023501378664260108702316342987603448412776302006\n",
            "n:5 --> -1.0000019408963204560377998819816318312324338097706 vs -0.99999884751178130168068602503543846567533003418293 vs -0.000003093378535227340313424227073413341941978571773042\n",
            "n:6 --> -1.0000013011460139596243115048729797202205053512629 vs -1.0000011473785522031794442747658803214820079904193 vs -0.00000015376726168278525118760415711164162824949437378083\n",
            "n:7 --> -0.9999998313841736107799302170580154065042872665158 vs -0.99999992488944381902424134182860148208199276664284 vs 0.000000093505285974715377511753012274302239631311345954854\n",
            "n:8 --> -1.0000000057646759799493944160637416596445898201254 vs -0.99999999646127371423175482653948529261713234342172 vs -0.0000000093034022120865403257009157716945285979951559031506\n",
            "n:9 --> -1.0000000009110164892314165709218674221759786407714 vs -1.0000000007157331261727819191174545645413639630966 vs -0.00000000019528336288072828814750704060754366955993174949135\n"
          ],
          "name": "stdout"
        }
      ]
    },
    {
      "cell_type": "code",
      "metadata": {
        "id": "C1SNaojtCNq0"
      },
      "source": [
        ""
      ],
      "execution_count": null,
      "outputs": []
    }
  ]
}